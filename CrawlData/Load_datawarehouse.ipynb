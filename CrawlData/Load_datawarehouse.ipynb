{
 "cells": [
  {
   "cell_type": "code",
   "execution_count": 1,
   "id": "878af3e6",
   "metadata": {},
   "outputs": [],
   "source": [
    "from IPython.core.interactiveshell import InteractiveShell\n",
    "InteractiveShell.ast_node_interactivity = \"all\""
   ]
  },
  {
   "cell_type": "code",
   "execution_count": 2,
   "id": "91b87aed",
   "metadata": {},
   "outputs": [
    {
     "name": "stderr",
     "output_type": "stream",
     "text": [
      "<jemalloc>: MADV_DONTNEED does not work (memset will be used instead)\n",
      "<jemalloc>: (This is the expected behaviour if you are running under QEMU)\n"
     ]
    }
   ],
   "source": [
    "from datetime import date, datetime\n",
    "from pyspark.sql.types import *\n",
    "from pyspark.sql.functions import *\n",
    "from pyspark.sql import *\n",
    "import datetime as dt\n",
    "import pandas as pd\n",
    "import matplotlib.pyplot as plt #그래프 패키지 모듈 등록\n",
    "%matplotlib inline "
   ]
  },
  {
   "cell_type": "code",
   "execution_count": 3,
   "id": "a74996ca",
   "metadata": {},
   "outputs": [],
   "source": [
    "def cal_std_day(befor_day):   \n",
    "    x = dt.datetime.now() - dt.timedelta(befor_day)\n",
    "    year = x.year\n",
    "    month = x.month if x.month >= 10 else '0'+ str(x.month)\n",
    "    day = x.day if x.day >= 10 else '0'+ str(x.day)\n",
    "    return str(year)+ '-' +str(month)+ '-' +str(day)"
   ]
  },
  {
   "cell_type": "markdown",
   "id": "8539cd25",
   "metadata": {},
   "source": [
    "### 주요국가_중앙은행_금리"
   ]
  },
  {
   "cell_type": "code",
   "execution_count": 5,
   "id": "c76f34aa",
   "metadata": {},
   "outputs": [
    {
     "ename": "NameError",
     "evalue": "name 'sc' is not defined",
     "output_type": "error",
     "traceback": [
      "\u001b[0;31m---------------------------------------------------------------------------\u001b[0m",
      "\u001b[0;31mNameError\u001b[0m                                 Traceback (most recent call last)",
      "\u001b[1;32m/home/big/project/CrawlData/Load_datawarehouse.ipynb Cell 5\u001b[0m in \u001b[0;36m<cell line: 4>\u001b[0;34m()\u001b[0m\n\u001b[1;32m      <a href='vscode-notebook-cell://attached-container%2B7b22636f6e7461696e65724e616d65223a222f64655f70725f65746c227d/home/big/project/CrawlData/Load_datawarehouse.ipynb#W4sdnNjb2RlLXJlbW90ZQ%3D%3D?line=0'>1</a>\u001b[0m \u001b[39m# file_name = '/finance/cetral_bank_interest_rate/cental_interest_' +cal_std_day(1)+ '.json'\u001b[39;00m\n\u001b[1;32m      <a href='vscode-notebook-cell://attached-container%2B7b22636f6e7461696e65724e616d65223a222f64655f70725f65746c227d/home/big/project/CrawlData/Load_datawarehouse.ipynb#W4sdnNjb2RlLXJlbW90ZQ%3D%3D?line=1'>2</a>\u001b[0m \u001b[39m# ctr_inter = spark.read.json(file_name, multiLine=True)\u001b[39;00m\n\u001b[1;32m      <a href='vscode-notebook-cell://attached-container%2B7b22636f6e7461696e65724e616d65223a222f64655f70725f65746c227d/home/big/project/CrawlData/Load_datawarehouse.ipynb#W4sdnNjb2RlLXJlbW90ZQ%3D%3D?line=2'>3</a>\u001b[0m \u001b[39m# ctr_inter.printSchema()\u001b[39;00m\n\u001b[0;32m----> <a href='vscode-notebook-cell://attached-container%2B7b22636f6e7461696e65724e616d65223a222f64655f70725f65746c227d/home/big/project/CrawlData/Load_datawarehouse.ipynb#W4sdnNjb2RlLXJlbW90ZQ%3D%3D?line=3'>4</a>\u001b[0m sc\n",
      "\u001b[0;31mNameError\u001b[0m: name 'sc' is not defined"
     ]
    }
   ],
   "source": [
    "# file_name = '/finance/cetral_bank_interest_rate/cental_interest_' +cal_std_day(1)+ '.json'\n",
    "# ctr_inter = spark.read.json(file_name, multiLine=True)\n",
    "# ctr_inter.printSchema()"
   ]
  },
  {
   "cell_type": "code",
   "execution_count": 11,
   "id": "825b4920",
   "metadata": {},
   "outputs": [
    {
     "name": "stderr",
     "output_type": "stream",
     "text": [
      "                                                                                \r"
     ]
    },
    {
     "name": "stdout",
     "output_type": "stream",
     "text": [
      "+------------------+---------+-------+------------------+------------------+---------------+----------+\n",
      "|          ctr_bank|cur_inter|is_rise|latest_chage_point|latest_change_date|next_conference|   std_day|\n",
      "+------------------+---------+-------+------------------+------------------+---------------+----------+\n",
      "|   한국 은행 (BOK)|    2.50%|   true|                25|        2022-08-25|     2022-10-12|2022-09-28|\n",
      "|연방준비은행 (FED)|    3.25%|   true|                75|        2022-09-21|     2022-11-02|2022-09-28|\n",
      "|유럽중앙은행 (ECB)|    1.25%|   true|                75|        2022-09-08|     2022-10-27|2022-09-28|\n",
      "+------------------+---------+-------+------------------+------------------+---------------+----------+\n",
      "only showing top 3 rows\n",
      "\n"
     ]
    }
   ],
   "source": [
    "data = []\n",
    "    # 파이썬 압축해제 키워드\n",
    "    # **kwargs => 여러 쌍의 키워드 args 가 넘어오면 받아서 dict로 반환\n",
    "    # fnc(**dict) => dict에 있는 key-value 값들이 여러쌍의 kwargs 형태로 함수에 전달\n",
    "for r1 in ctr_inter.select(ctr_inter.data, ctr_inter.meta.std_day).toLocalIterator():\n",
    "    for r2 in r1.data:\n",
    "        temp = r2.asDict() # 액션매서드 row객체를 dict로 반환해주는 함수 asDIct()\n",
    "#         print(\"출력-->\", temp , '\\n')\n",
    "        temp['std_day'] = r1['meta.std_day'] # meta데이터에있는 날짜값 std_day는 키와 벨류를 지정해서 dict에 포함시켜줌\n",
    "        data.append(Row(**temp))# Row에 **temp는 dict()을 kwargs로 전달해주는방법\n",
    "\n",
    "ctr_inter_data = spark.createDataFrame(data)\n",
    "ctr_inter_data.show(3)"
   ]
  },
  {
   "cell_type": "markdown",
   "id": "05cd0aa7",
   "metadata": {},
   "source": [
    "## 주요국가 환율 "
   ]
  },
  {
   "cell_type": "code",
   "execution_count": 12,
   "id": "3451af2f",
   "metadata": {},
   "outputs": [
    {
     "name": "stderr",
     "output_type": "stream",
     "text": [
      "\r\n",
      "[Stage 9:>                                                          (0 + 1) / 1]\r"
     ]
    },
    {
     "name": "stdout",
     "output_type": "stream",
     "text": [
      "root\n",
      " |-- data: array (nullable = true)\n",
      " |    |-- element: struct (containsNull = true)\n",
      " |    |    |-- country_name: string (nullable = true)\n",
      " |    |    |-- monetary_unit: string (nullable = true)\n",
      " |    |    |-- sale_standard_rate: string (nullable = true)\n",
      " |-- meta: struct (nullable = true)\n",
      " |    |-- cols: struct (nullable = true)\n",
      " |    |    |-- country_name: string (nullable = true)\n",
      " |    |    |-- monetary_unit: string (nullable = true)\n",
      " |    |    |-- sale_standard_rate: string (nullable = true)\n",
      " |    |-- desc: string (nullable = true)\n",
      " |    |-- std_day: string (nullable = true)\n",
      "\n"
     ]
    },
    {
     "name": "stderr",
     "output_type": "stream",
     "text": [
      "\r\n",
      "                                                                                \r"
     ]
    }
   ],
   "source": [
    "file_name = '/finance/exchange/sale_standard_rate_' +cal_std_day(0)+ '.json'\n",
    "excng_rate = spark.read.json(file_name, multiLine=True)\n",
    "excng_rate.printSchema()"
   ]
  },
  {
   "cell_type": "code",
   "execution_count": 13,
   "id": "d1f759d8",
   "metadata": {},
   "outputs": [
    {
     "name": "stderr",
     "output_type": "stream",
     "text": [
      "                                                                                \r"
     ]
    },
    {
     "name": "stdout",
     "output_type": "stream",
     "text": [
      "+------------+-------------+------------------+----------+\n",
      "|country_name|monetary_unit|sale_standard_rate|   std_day|\n",
      "+------------+-------------+------------------+----------+\n",
      "|    대한민국|          KRW|                 1|2022-09-28|\n",
      "|        미국|          USD|            1439.4|2022-09-28|\n",
      "|    유럽연합|          EUR|            1375.2|2022-09-28|\n",
      "+------------+-------------+------------------+----------+\n",
      "only showing top 3 rows\n",
      "\n"
     ]
    }
   ],
   "source": [
    "data = []\n",
    "for r1 in excng_rate.select(excng_rate.data, excng_rate.meta.std_day).toLocalIterator():\n",
    "    for r2 in r1.data:\n",
    "        temp = r2.asDict()\n",
    "        temp['std_day'] = r1['meta.std_day'] \n",
    "        data.append(Row(**temp))\n",
    "excng_rate_data = spark.createDataFrame(data)\n",
    "excng_rate_data.show(3)"
   ]
  },
  {
   "cell_type": "markdown",
   "id": "1b74ab82",
   "metadata": {},
   "source": [
    "## 유가 및 귀금속 "
   ]
  },
  {
   "cell_type": "code",
   "execution_count": 16,
   "id": "339caa56",
   "metadata": {},
   "outputs": [
    {
     "name": "stdout",
     "output_type": "stream",
     "text": [
      "root\n",
      " |-- data: array (nullable = true)\n",
      " |    |-- element: struct (containsNull = true)\n",
      " |    |    |-- fluctuation_rate: string (nullable = true)\n",
      " |    |    |-- is_rise: boolean (nullable = true)\n",
      " |    |    |-- price: string (nullable = true)\n",
      " |    |    |-- product_name: string (nullable = true)\n",
      " |    |    |-- unit: string (nullable = true)\n",
      " |-- meta: struct (nullable = true)\n",
      " |    |-- cols: struct (nullable = true)\n",
      " |    |    |-- fluctuation_rate: string (nullable = true)\n",
      " |    |    |-- is_rise: string (nullable = true)\n",
      " |    |    |-- price: string (nullable = true)\n",
      " |    |    |-- product_name: string (nullable = true)\n",
      " |    |    |-- unit: string (nullable = true)\n",
      " |    |-- desc: string (nullable = true)\n",
      " |    |-- std_day: string (nullable = true)\n",
      "\n"
     ]
    }
   ],
   "source": [
    "# 오일\n",
    "file_name = '/finance/oil_gold/oil_price_' +cal_std_day(0)+ '.json'\n",
    "oil_price = spark.read.json(file_name, multiLine=True)\n",
    "oil_price.printSchema()"
   ]
  },
  {
   "cell_type": "code",
   "execution_count": 17,
   "id": "1e6ae329",
   "metadata": {},
   "outputs": [
    {
     "name": "stderr",
     "output_type": "stream",
     "text": [
      "                                                                                \r"
     ]
    },
    {
     "name": "stdout",
     "output_type": "stream",
     "text": [
      "+----------------+-------+-------+------------+---------+----------+\n",
      "|fluctuation_rate|is_rise|  price|product_name|     unit|   std_day|\n",
      "+----------------+-------+-------+------------+---------+----------+\n",
      "|           -0.31|  false|1700.07|      휘발유|원 / 리터|2022-09-28|\n",
      "|           -0.29|  false|1987.06|  고급휘발유|원 / 리터|2022-09-28|\n",
      "|           -0.21|  false|1833.19|        경유|원 / 리터|2022-09-28|\n",
      "+----------------+-------+-------+------------+---------+----------+\n",
      "only showing top 3 rows\n",
      "\n"
     ]
    }
   ],
   "source": [
    "# 오일\n",
    "data = []\n",
    "for r1 in oil_price.select(oil_price.data, oil_price.meta.std_day).toLocalIterator():\n",
    "    for r2 in r1.data:\n",
    "        temp = r2.asDict()\n",
    "        temp['std_day'] = r1['meta.std_day'] \n",
    "        data.append(Row(**temp))\n",
    "oil_price_data = spark.createDataFrame(data)\n",
    "oil_price_data.show(3)"
   ]
  },
  {
   "cell_type": "code",
   "execution_count": 18,
   "id": "a2802b45",
   "metadata": {},
   "outputs": [
    {
     "name": "stdout",
     "output_type": "stream",
     "text": [
      "root\n",
      " |-- data: array (nullable = true)\n",
      " |    |-- element: struct (containsNull = true)\n",
      " |    |    |-- fluctuation_rate: string (nullable = true)\n",
      " |    |    |-- is_rise: boolean (nullable = true)\n",
      " |    |    |-- price: string (nullable = true)\n",
      " |    |    |-- product_name: string (nullable = true)\n",
      " |    |    |-- unit: string (nullable = true)\n",
      " |-- meta: struct (nullable = true)\n",
      " |    |-- cols: struct (nullable = true)\n",
      " |    |    |-- fluctuation_rate: string (nullable = true)\n",
      " |    |    |-- is_rise: string (nullable = true)\n",
      " |    |    |-- price: string (nullable = true)\n",
      " |    |    |-- product_name: string (nullable = true)\n",
      " |    |    |-- unit: string (nullable = true)\n",
      " |    |-- desc: string (nullable = true)\n",
      " |    |-- std_day: string (nullable = true)\n",
      "\n"
     ]
    }
   ],
   "source": [
    "# 귀금속\n",
    "file_name = '/finance/oil_gold/gold_price_' +cal_std_day(0)+ '.json'\n",
    "gold_price = spark.read.json(file_name, multiLine=True)\n",
    "gold_price.printSchema()"
   ]
  },
  {
   "cell_type": "code",
   "execution_count": 19,
   "id": "8db706e8",
   "metadata": {},
   "outputs": [
    {
     "name": "stderr",
     "output_type": "stream",
     "text": [
      "                                                                                \r"
     ]
    },
    {
     "name": "stdout",
     "output_type": "stream",
     "text": [
      "+----------------+-------+--------+------------+-----------------+----------+\n",
      "|fluctuation_rate|is_rise|   price|product_name|             unit|   std_day|\n",
      "+----------------+-------+--------+------------+-----------------+----------+\n",
      "|            0.30|   true|75123.89|     국내 금|           원 / g|2022-09-28|\n",
      "|            0.17|   true| 1636.20|     국제 금|달러 / 트로이온스|2022-09-28|\n",
      "|           -0.61|  false|  839.70|        백금|달러 / 트로이온스|2022-09-28|\n",
      "+----------------+-------+--------+------------+-----------------+----------+\n",
      "only showing top 3 rows\n",
      "\n"
     ]
    }
   ],
   "source": [
    "# 귀금속\n",
    "data = []\n",
    "for r1 in gold_price.select(gold_price.data, gold_price.meta.std_day).toLocalIterator():\n",
    "    for r2 in r1.data:\n",
    "        temp = r2.asDict()\n",
    "        temp['std_day'] = r1['meta.std_day'] \n",
    "        data.append(Row(**temp))\n",
    "gold_price_data = spark.createDataFrame(data)\n",
    "gold_price_data.show(3)"
   ]
  },
  {
   "cell_type": "markdown",
   "id": "21245617",
   "metadata": {},
   "source": [
    "## 원자재 "
   ]
  },
  {
   "cell_type": "code",
   "execution_count": 20,
   "id": "dd0c884b",
   "metadata": {
    "collapsed": true
   },
   "outputs": [
    {
     "name": "stdout",
     "output_type": "stream",
     "text": [
      "root\n",
      " |-- data: array (nullable = true)\n",
      " |    |-- element: struct (containsNull = true)\n",
      " |    |    |-- current_month_contract: string (nullable = true)\n",
      " |    |    |-- fluctuation_rate: string (nullable = true)\n",
      " |    |    |-- futures_exchange_name: string (nullable = true)\n",
      " |    |    |-- is_rise: boolean (nullable = true)\n",
      " |    |    |-- price: string (nullable = true)\n",
      " |    |    |-- product_name: string (nullable = true)\n",
      " |    |    |-- unit: string (nullable = true)\n",
      " |-- meta: struct (nullable = true)\n",
      " |    |-- cols: struct (nullable = true)\n",
      " |    |    |-- current_month_contract: string (nullable = true)\n",
      " |    |    |-- fluctuation_rate: string (nullable = true)\n",
      " |    |    |-- futures_exchange_name: string (nullable = true)\n",
      " |    |    |-- is_rise: string (nullable = true)\n",
      " |    |    |-- price: string (nullable = true)\n",
      " |    |    |-- product_name: string (nullable = true)\n",
      " |    |    |-- unit: string (nullable = true)\n",
      " |    |-- desc: string (nullable = true)\n",
      " |    |-- std_day: string (nullable = true)\n",
      "\n"
     ]
    },
    {
     "name": "stderr",
     "output_type": "stream",
     "text": [
      "\r\n",
      "[Stage 24:>                                                         (0 + 1) / 1]\r\n",
      "\r\n",
      "                                                                                \r"
     ]
    }
   ],
   "source": [
    "# 농산물\n",
    "file_name = '/finance/raw_materials/agriculture_' +cal_std_day(0)+ '.json'\n",
    "agriculture = spark.read.json(file_name, multiLine=True)\n",
    "agriculture.printSchema()"
   ]
  },
  {
   "cell_type": "code",
   "execution_count": 25,
   "id": "eedadaa6",
   "metadata": {},
   "outputs": [
    {
     "name": "stderr",
     "output_type": "stream",
     "text": [
      "\r\n",
      "[Stage 30:>                                                         (0 + 1) / 1]\r"
     ]
    },
    {
     "name": "stdout",
     "output_type": "stream",
     "text": [
      "+----------------------+----------------+---------------------+-------+-------+------------+-----------+----------+\n",
      "|current_month_contract|fluctuation_rate|futures_exchange_name|is_rise|  price|product_name|       unit|   std_day|\n",
      "+----------------------+----------------+---------------------+-------+-------+------------+-----------+----------+\n",
      "|                 22-12|           +0.19|                 CBOT|   true| 667.50|      옥수수|  센트/부셸|2022-09-28|\n",
      "|                 23-03|           -0.17|                  ICE|  false|  17.59|        설탕|센트/파운드|2022-09-28|\n",
      "|                 22-11|           -0.23|                 CBOT|  false|1408.00|        대두|  센트/부셸|2022-09-28|\n",
      "+----------------------+----------------+---------------------+-------+-------+------------+-----------+----------+\n",
      "only showing top 3 rows\n",
      "\n"
     ]
    },
    {
     "name": "stderr",
     "output_type": "stream",
     "text": [
      "\r\n",
      "                                                                                \r"
     ]
    }
   ],
   "source": [
    "# 농산물\n",
    "data = []\n",
    "for r1 in agriculture.select(agriculture.data, agriculture.meta.std_day).toLocalIterator():\n",
    "    for r2 in r1.data:\n",
    "        temp = r2.asDict()\n",
    "        temp['std_day'] = r1['meta.std_day'] \n",
    "        data.append(Row(**temp))\n",
    "agriculture_data = spark.createDataFrame(data)\n",
    "agriculture_data.show(3)"
   ]
  },
  {
   "cell_type": "code",
   "execution_count": 23,
   "id": "0778e227",
   "metadata": {
    "collapsed": true
   },
   "outputs": [
    {
     "name": "stdout",
     "output_type": "stream",
     "text": [
      "root\n",
      " |-- data: array (nullable = true)\n",
      " |    |-- element: struct (containsNull = true)\n",
      " |    |    |-- current_month_contract: string (nullable = true)\n",
      " |    |    |-- fluctuation_rate: string (nullable = true)\n",
      " |    |    |-- futures_exchange_name: string (nullable = true)\n",
      " |    |    |-- is_rise: boolean (nullable = true)\n",
      " |    |    |-- price: string (nullable = true)\n",
      " |    |    |-- product_name: string (nullable = true)\n",
      " |    |    |-- unit: string (nullable = true)\n",
      " |-- meta: struct (nullable = true)\n",
      " |    |-- cols: struct (nullable = true)\n",
      " |    |    |-- fluctuation_rate: string (nullable = true)\n",
      " |    |    |-- futures_exchange_name: string (nullable = true)\n",
      " |    |    |-- is_rise: string (nullable = true)\n",
      " |    |    |-- price: string (nullable = true)\n",
      " |    |    |-- product_name: string (nullable = true)\n",
      " |    |    |-- unit: string (nullable = true)\n",
      " |    |-- desc: string (nullable = true)\n",
      " |    |-- std_day: string (nullable = true)\n",
      "\n"
     ]
    }
   ],
   "source": [
    "# 비금속 광물\n",
    "file_name = '/finance/raw_materials/non_metal_' +cal_std_day(0)+ '.json'\n",
    "non_metal = spark.read.json(file_name, multiLine=True)\n",
    "non_metal.printSchema()"
   ]
  },
  {
   "cell_type": "code",
   "execution_count": 26,
   "id": "d3398af3",
   "metadata": {},
   "outputs": [
    {
     "name": "stderr",
     "output_type": "stream",
     "text": [
      "[Stage 33:>                                                         (0 + 1) / 1]\r"
     ]
    },
    {
     "name": "stdout",
     "output_type": "stream",
     "text": [
      "+----------------------+----------------+---------------------+-------+-------+------------+-------+----------+\n",
      "|current_month_contract|fluctuation_rate|futures_exchange_name|is_rise|  price|product_name|   unit|   std_day|\n",
      "+----------------------+----------------+---------------------+-------+-------+------------+-------+----------+\n",
      "|                  null|           +0.35|                  LME|   true|7475.00|        구리|달러/톤|2022-09-28|\n",
      "|               달러/톤|             LME|                false|   null|  -1.24|          납|1754.00|2022-09-28|\n",
      "|               달러/톤|             LME|                false|   null|  -0.20|        아연|2938.00|2022-09-28|\n",
      "+----------------------+----------------+---------------------+-------+-------+------------+-------+----------+\n",
      "only showing top 3 rows\n",
      "\n"
     ]
    },
    {
     "name": "stderr",
     "output_type": "stream",
     "text": [
      "\r\n",
      "                                                                                \r"
     ]
    }
   ],
   "source": [
    "# 비금속 광물\n",
    "data = []\n",
    "for r1 in non_metal.select(non_metal.data, non_metal.meta.std_day).toLocalIterator():\n",
    "    for r2 in r1.data:\n",
    "        temp = r2.asDict()\n",
    "        temp['std_day'] = r1['meta.std_day'] \n",
    "        data.append(Row(**temp))\n",
    "non_metal_data = spark.createDataFrame(data)\n",
    "non_metal_data.show(3)"
   ]
  },
  {
   "cell_type": "code",
   "execution_count": 22,
   "id": "f72e28bc",
   "metadata": {
    "collapsed": true
   },
   "outputs": [
    {
     "name": "stderr",
     "output_type": "stream",
     "text": [
      "\r\n",
      "[Stage 26:>                                                         (0 + 1) / 1]\r\n",
      "\r\n",
      "                                                                                \r"
     ]
    },
    {
     "name": "stdout",
     "output_type": "stream",
     "text": [
      "root\n",
      " |-- data: array (nullable = true)\n",
      " |    |-- element: struct (containsNull = true)\n",
      " |    |    |-- current_month_contract: string (nullable = true)\n",
      " |    |    |-- fluctuation_rate: string (nullable = true)\n",
      " |    |    |-- futures_exchange_name: string (nullable = true)\n",
      " |    |    |-- is_rise: boolean (nullable = true)\n",
      " |    |    |-- price: string (nullable = true)\n",
      " |    |    |-- product_name: string (nullable = true)\n",
      " |    |    |-- unit: string (nullable = true)\n",
      " |-- meta: struct (nullable = true)\n",
      " |    |-- cols: struct (nullable = true)\n",
      " |    |    |-- current_month_contract: string (nullable = true)\n",
      " |    |    |-- fluctuation_rate: string (nullable = true)\n",
      " |    |    |-- futures_exchange_name: string (nullable = true)\n",
      " |    |    |-- is_rise: string (nullable = true)\n",
      " |    |    |-- price: string (nullable = true)\n",
      " |    |    |-- product_name: string (nullable = true)\n",
      " |    |    |-- unit: string (nullable = true)\n",
      " |    |-- desc: string (nullable = true)\n",
      " |    |-- std_day: string (nullable = true)\n",
      "\n"
     ]
    }
   ],
   "source": [
    "# 에너지\n",
    "file_name = '/finance/raw_materials/energy_' +cal_std_day(0)+ '.json'\n",
    "energy = spark.read.json(file_name, multiLine=True)\n",
    "energy.printSchema()"
   ]
  },
  {
   "cell_type": "code",
   "execution_count": 27,
   "id": "7309a71b",
   "metadata": {
    "scrolled": true
   },
   "outputs": [
    {
     "name": "stderr",
     "output_type": "stream",
     "text": [
      "\r\n",
      "[Stage 36:>                                                         (0 + 1) / 1]\r\n",
      "\r\n",
      "                                                                                \r"
     ]
    },
    {
     "name": "stdout",
     "output_type": "stream",
     "text": [
      "+----------------------+----------------+---------------------+-------+------+------------+----------+----------+\n",
      "|current_month_contract|fluctuation_rate|futures_exchange_name|is_rise| price|product_name|      unit|   std_day|\n",
      "+----------------------+----------------+---------------------+-------+------+------------+----------+----------+\n",
      "|                 22-11|           +2.84|                  ICE|   true|922.75|    가스오일|   달러/톤|2022-09-28|\n",
      "|                 22-11|           +3.82|                NYMEX|   true|  3.16|      난방유| 달러/갤런|2022-09-28|\n",
      "|                 22-11|           -3.62|                NYMEX|  false|  6.76|    천연가스|달러/MMBtu|2022-09-28|\n",
      "+----------------------+----------------+---------------------+-------+------+------------+----------+----------+\n",
      "\n"
     ]
    }
   ],
   "source": [
    "# 비금속 광물\n",
    "data = []\n",
    "for r1 in energy.select(energy.data, energy.meta.std_day).toLocalIterator():\n",
    "    for r2 in r1.data:\n",
    "        temp = r2.asDict()\n",
    "        temp['std_day'] = r1['meta.std_day'] \n",
    "        data.append(Row(**temp))\n",
    "energy_data = spark.createDataFrame(data)\n",
    "energy_data.show(3)"
   ]
  },
  {
   "cell_type": "code",
   "execution_count": 34,
   "id": "5ad26744",
   "metadata": {
    "collapsed": true
   },
   "outputs": [
    {
     "name": "stdout",
     "output_type": "stream",
     "text": [
      "root\n",
      " |-- data: array (nullable = true)\n",
      " |    |-- element: struct (containsNull = true)\n",
      " |    |    |-- fluctuation_rate: string (nullable = true)\n",
      " |    |    |-- index_name: string (nullable = true)\n",
      " |    |    |-- is_rise: boolean (nullable = true)\n",
      " |    |    |-- price: string (nullable = true)\n",
      " |-- meta: struct (nullable = true)\n",
      " |    |-- cols: struct (nullable = true)\n",
      " |    |    |-- fluctuation_rate: string (nullable = true)\n",
      " |    |    |-- index_name: string (nullable = true)\n",
      " |    |    |-- is_rise: string (nullable = true)\n",
      " |    |    |-- price: string (nullable = true)\n",
      " |    |-- desc: string (nullable = true)\n",
      " |    |-- std_day: string (nullable = true)\n",
      "\n"
     ]
    }
   ],
   "source": [
    "# 주요국가 주가 지수\n",
    "file_name = '/finance/stock_index/stock_index_' +cal_std_day(0)+ '.json'\n",
    "stock_index = spark.read.json(file_name, multiLine=True)\n",
    "stock_index.printSchema()"
   ]
  },
  {
   "cell_type": "code",
   "execution_count": 35,
   "id": "4251a182",
   "metadata": {},
   "outputs": [
    {
     "name": "stderr",
     "output_type": "stream",
     "text": [
      "\r\n",
      "[Stage 45:>                                                         (0 + 1) / 1]\r"
     ]
    },
    {
     "name": "stdout",
     "output_type": "stream",
     "text": [
      "+----------------+----------+-------+-------+----------+\n",
      "|fluctuation_rate|index_name|is_rise|  price|   std_day|\n",
      "+----------------+----------+-------+-------+----------+\n",
      "|           +0.13|코스피지수|   true|2223.86|2022-09-28|\n",
      "|           -0.08| 코스피 50|  false|1983.55|2022-09-28|\n",
      "|           +0.83|    코스닥|   true| 698.11|2022-09-28|\n",
      "+----------------+----------+-------+-------+----------+\n",
      "only showing top 3 rows\n",
      "\n"
     ]
    },
    {
     "name": "stderr",
     "output_type": "stream",
     "text": [
      "\r\n",
      "                                                                                \r"
     ]
    }
   ],
   "source": [
    "# 주요국가 주가 지수\n",
    "data = []\n",
    "for r1 in stock_index.select(stock_index.data, stock_index.meta.std_day).toLocalIterator():\n",
    "    for r2 in r1.data:\n",
    "        temp = r2.asDict()\n",
    "        temp['std_day'] = r1['meta.std_day'] \n",
    "        data.append(Row(**temp))\n",
    "stock_index_data = spark.createDataFrame(data)\n",
    "stock_index_data.show(3)"
   ]
  },
  {
   "cell_type": "markdown",
   "id": "cba4e69f",
   "metadata": {},
   "source": [
    "## 주요국가 채권수익률"
   ]
  },
  {
   "cell_type": "code",
   "execution_count": 54,
   "id": "627bbe02",
   "metadata": {},
   "outputs": [
    {
     "name": "stdout",
     "output_type": "stream",
     "text": [
      "root\n",
      " |-- data: array (nullable = true)\n",
      " |    |-- element: struct (containsNull = true)\n",
      " |    |    |-- 10y: string (nullable = true)\n",
      " |    |    |-- 1y: string (nullable = true)\n",
      " |    |    |-- 2y: string (nullable = true)\n",
      " |    |    |-- 30y: string (nullable = true)\n",
      " |    |    |-- 3y: string (nullable = true)\n",
      " |    |    |-- 5y: string (nullable = true)\n",
      " |    |    |-- country_name: string (nullable = true)\n",
      " |-- meta: struct (nullable = true)\n",
      " |    |-- cols: struct (nullable = true)\n",
      " |    |    |-- 10y: string (nullable = true)\n",
      " |    |    |-- 1y: string (nullable = true)\n",
      " |    |    |-- 2y: string (nullable = true)\n",
      " |    |    |-- 30y: string (nullable = true)\n",
      " |    |    |-- 3y: string (nullable = true)\n",
      " |    |    |-- 5y: string (nullable = true)\n",
      " |    |    |-- country_name: string (nullable = true)\n",
      " |    |-- desc: string (nullable = true)\n",
      " |    |-- std_day: string (nullable = true)\n",
      "\n"
     ]
    },
    {
     "name": "stderr",
     "output_type": "stream",
     "text": [
      "\r\n",
      "[Stage 40:>                                                         (0 + 1) / 1]\r\n",
      "\r\n",
      "                                                                                \r"
     ]
    }
   ],
   "source": [
    "#  국채금리\n",
    "file_name = '/finance/sovereign_yield/sovereign_yield_' +cal_std_day(0)+ '.json'\n",
    "sovereign_yield = spark.read.json(file_name, multiLine=True)\n",
    "sovereign_yield.printSchema()"
   ]
  },
  {
   "cell_type": "code",
   "execution_count": 55,
   "id": "1129696a",
   "metadata": {},
   "outputs": [
    {
     "name": "stderr",
     "output_type": "stream",
     "text": [
      "                                                                                \r"
     ]
    },
    {
     "name": "stdout",
     "output_type": "stream",
     "text": [
      "+------+------+------+-----+------+------+------------+----------+\n",
      "|   10y|    1y|    2y|  30y|    3y|    5y|country_name|   std_day|\n",
      "+------+------+------+-----+------+------+------------+----------+\n",
      "| 4.231| 3.440| 4.266|3.983| 4.216| 4.323|        한국|2022-09-29|\n",
      "| 3.963|4.1460|4.3080|3.828|4.4000|4.2140|        미국|2022-09-29|\n",
      "|4.0070|3.8730|4.2440|3.934|4.3120|4.2720|        영국|2022-09-29|\n",
      "| 0.250|-0.097|-0.036|1.471|-0.025| 0.083|        일본|2022-09-29|\n",
      "+------+------+------+-----+------+------+------------+----------+\n",
      "\n"
     ]
    }
   ],
   "source": [
    "data = []\n",
    "for r1 in sovereign_yield.select(sovereign_yield.data, sovereign_yield.meta.std_day).toLocalIterator():\n",
    "    for r2 in r1.data:\n",
    "        temp = r2.asDict()\n",
    "        temp['std_day'] = r1['meta.std_day'] \n",
    "        data.append(Row(**temp))\n",
    "sovereign_yield_data = spark.createDataFrame(data)\n",
    "sovereign_yield_data.show(10)"
   ]
  },
  {
   "cell_type": "code",
   "execution_count": 56,
   "id": "e81a49ae",
   "metadata": {},
   "outputs": [],
   "source": [
    "pd_sv = sovereign_yield_data.to_pandas_on_spark()\n"
   ]
  },
  {
   "cell_type": "code",
   "execution_count": 57,
   "id": "8f99430c",
   "metadata": {},
   "outputs": [],
   "source": [
    "pd_sv = pd_sv.set_index(['country_name','std_day'])\n",
    "pd_sv = pd_sv.stack()\n",
    "pd_sv= pd_sv.to_dataframe('bond_yield')\n"
   ]
  },
  {
   "cell_type": "code",
   "execution_count": 58,
   "id": "cc1b0c94",
   "metadata": {},
   "outputs": [],
   "source": [
    "sovereign_yield_data= pd_sv.reset_index().rename(columns={'level_2':'y_cnt'}).to_spark()\n",
    "sovereign_yield_data = sovereign_yield_data.select('*',(col('bond_yield').contains('-')).alias('is_rise'))"
   ]
  },
  {
   "cell_type": "code",
   "execution_count": 59,
   "id": "74960965",
   "metadata": {},
   "outputs": [
    {
     "name": "stdout",
     "output_type": "stream",
     "text": [
      "+------------+----------+-----+----------+-------+\n",
      "|country_name|   std_day|y_cnt|bond_yield|is_rise|\n",
      "+------------+----------+-----+----------+-------+\n",
      "|        한국|2022-09-29|   3y|     4.216|  false|\n",
      "|        한국|2022-09-29|   5y|     4.323|  false|\n",
      "|        한국|2022-09-29|  10y|     4.231|  false|\n",
      "+------------+----------+-----+----------+-------+\n",
      "only showing top 3 rows\n",
      "\n"
     ]
    }
   ],
   "source": [
    "sovereign_yield_data.show(3)"
   ]
  }
 ],
 "metadata": {
  "kernelspec": {
   "display_name": "Python 3.9.6 64-bit",
   "language": "python",
   "name": "python3"
  },
  "language_info": {
   "codemirror_mode": {
    "name": "ipython",
    "version": 3
   },
   "file_extension": ".py",
   "mimetype": "text/x-python",
   "name": "python",
   "nbconvert_exporter": "python",
   "pygments_lexer": "ipython3",
   "version": "3.8.10"
  },
  "vscode": {
   "interpreter": {
    "hash": "31f2aee4e71d21fbe5cf8b01ff0e069b9275f58929596ceb00d14d90e3e16cd6"
   }
  }
 },
 "nbformat": 4,
 "nbformat_minor": 5
}
