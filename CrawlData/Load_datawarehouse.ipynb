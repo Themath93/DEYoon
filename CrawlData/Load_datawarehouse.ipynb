{
 "cells": [
  {
   "cell_type": "code",
   "execution_count": 1,
   "id": "878af3e6",
   "metadata": {},
   "outputs": [],
   "source": [
    "from IPython.core.interactiveshell import InteractiveShell\n",
    "InteractiveShell.ast_node_interactivity = \"all\""
   ]
  },
  {
   "cell_type": "code",
   "execution_count": 2,
   "id": "91b87aed",
   "metadata": {},
   "outputs": [
    {
     "name": "stderr",
     "output_type": "stream",
     "text": [
      "<jemalloc>: MADV_DONTNEED does not work (memset will be used instead)\n",
      "<jemalloc>: (This is the expected behaviour if you are running under QEMU)\n"
     ]
    }
   ],
   "source": [
    "from datetime import date, datetime\n",
    "from pyspark.sql.types import *\n",
    "from pyspark.sql.functions import *\n",
    "from pyspark.sql import *\n",
    "import datetime as dt\n",
    "import pandas as pd\n",
    "import matplotlib.pyplot as plt #그래프 패키지 모듈 등록\n",
    "%matplotlib inline "
   ]
  },
  {
   "cell_type": "code",
   "execution_count": 3,
   "id": "a74996ca",
   "metadata": {},
   "outputs": [],
   "source": [
    "def cal_std_day(befor_day):   \n",
    "    x = dt.datetime.now() - dt.timedelta(befor_day)\n",
    "    year = x.year\n",
    "    month = x.month if x.month >= 10 else '0'+ str(x.month)\n",
    "    day = x.day if x.day >= 10 else '0'+ str(x.day)  \n",
    "    return str(year)+ '-' +str(month)+ '-' +str(day)"
   ]
  },
  {
   "cell_type": "markdown",
   "id": "8539cd25",
   "metadata": {},
   "source": [
    "### 주요국가_중앙은행_금리"
   ]
  },
  {
   "cell_type": "code",
   "execution_count": 5,
   "id": "c76f34aa",
   "metadata": {},
   "outputs": [
    {
     "name": "stderr",
     "output_type": "stream",
     "text": [
      "\r",
      "[Stage 2:>                                                          (0 + 1) / 1]\r"
     ]
    },
    {
     "name": "stdout",
     "output_type": "stream",
     "text": [
      "root\n",
      " |-- data: array (nullable = true)\n",
      " |    |-- element: struct (containsNull = true)\n",
      " |    |    |-- ctr_bank: string (nullable = true)\n",
      " |    |    |-- cur_inter: string (nullable = true)\n",
      " |    |    |-- is_rise: boolean (nullable = true)\n",
      " |    |    |-- latest_chage_point: string (nullable = true)\n",
      " |    |    |-- latest_change_date: string (nullable = true)\n",
      " |    |    |-- next_conference: string (nullable = true)\n",
      " |-- meta: struct (nullable = true)\n",
      " |    |-- cols: struct (nullable = true)\n",
      " |    |    |-- ctr_bank: string (nullable = true)\n",
      " |    |    |-- cur_inter: string (nullable = true)\n",
      " |    |    |-- is_rise: string (nullable = true)\n",
      " |    |    |-- latest_chage_point: string (nullable = true)\n",
      " |    |    |-- latest_change_date: string (nullable = true)\n",
      " |    |    |-- next_conference: string (nullable = true)\n",
      " |    |-- desc: string (nullable = true)\n",
      " |    |-- std_day: string (nullable = true)\n",
      "\n"
     ]
    },
    {
     "name": "stderr",
     "output_type": "stream",
     "text": [
      "\r",
      "                                                                                \r"
     ]
    }
   ],
   "source": [
    "file_name = '/finance/cetral_bank_interest_rate/cental_interest_' +cal_std_day(0)+ '.json'\n",
    "ctr_inter = spark.read.json(file_name, multiLine=True)\n",
    "ctr_inter.printSchema()"
   ]
  },
  {
   "cell_type": "code",
   "execution_count": 11,
   "id": "825b4920",
   "metadata": {},
   "outputs": [
    {
     "name": "stderr",
     "output_type": "stream",
     "text": [
      "                                                                                \r"
     ]
    },
    {
     "name": "stdout",
     "output_type": "stream",
     "text": [
      "+------------------+---------+-------+------------------+------------------+---------------+----------+\n",
      "|          ctr_bank|cur_inter|is_rise|latest_chage_point|latest_change_date|next_conference|   std_day|\n",
      "+------------------+---------+-------+------------------+------------------+---------------+----------+\n",
      "|   한국 은행 (BOK)|    2.50%|   true|                25|        2022-08-25|     2022-10-12|2022-09-28|\n",
      "|연방준비은행 (FED)|    3.25%|   true|                75|        2022-09-21|     2022-11-02|2022-09-28|\n",
      "|유럽중앙은행 (ECB)|    1.25%|   true|                75|        2022-09-08|     2022-10-27|2022-09-28|\n",
      "+------------------+---------+-------+------------------+------------------+---------------+----------+\n",
      "only showing top 3 rows\n",
      "\n"
     ]
    }
   ],
   "source": [
    "data = []\n",
    "    # 파이썬 압축해제 키워드\n",
    "    # **kwargs => 여러 쌍의 키워드 args 가 넘어오면 받아서 dict로 반환\n",
    "    # fnc(**dict) => dict에 있는 key-value 값들이 여러쌍의 kwargs 형태로 함수에 전달\n",
    "for r1 in ctr_inter.select(ctr_inter.data, ctr_inter.meta.std_day).toLocalIterator():\n",
    "    for r2 in r1.data:\n",
    "        temp = r2.asDict() # 액션매서드 row객체를 dict로 반환해주는 함수 asDIct()\n",
    "#         print(\"출력-->\", temp , '\\n')\n",
    "        temp['std_day'] = r1['meta.std_day'] # meta데이터에있는 날짜값 std_day는 키와 벨류를 지정해서 dict에 포함시켜줌\n",
    "        data.append(Row(**temp))# Row에 **temp는 dict()을 kwargs로 전달해주는방법\n",
    "\n",
    "ctr_inter_data = spark.createDataFrame(data)\n",
    "ctr_inter_data.show(3)"
   ]
  },
  {
   "cell_type": "markdown",
   "id": "05cd0aa7",
   "metadata": {},
   "source": [
    "## 주요국가 환율 "
   ]
  },
  {
   "cell_type": "code",
   "execution_count": 12,
   "id": "3451af2f",
   "metadata": {},
   "outputs": [
    {
     "name": "stderr",
     "output_type": "stream",
     "text": [
      "\r",
      "[Stage 9:>                                                          (0 + 1) / 1]\r"
     ]
    },
    {
     "name": "stdout",
     "output_type": "stream",
     "text": [
      "root\n",
      " |-- data: array (nullable = true)\n",
      " |    |-- element: struct (containsNull = true)\n",
      " |    |    |-- country_name: string (nullable = true)\n",
      " |    |    |-- monetary_unit: string (nullable = true)\n",
      " |    |    |-- sale_standard_rate: string (nullable = true)\n",
      " |-- meta: struct (nullable = true)\n",
      " |    |-- cols: struct (nullable = true)\n",
      " |    |    |-- country_name: string (nullable = true)\n",
      " |    |    |-- monetary_unit: string (nullable = true)\n",
      " |    |    |-- sale_standard_rate: string (nullable = true)\n",
      " |    |-- desc: string (nullable = true)\n",
      " |    |-- std_day: string (nullable = true)\n",
      "\n"
     ]
    },
    {
     "name": "stderr",
     "output_type": "stream",
     "text": [
      "\r",
      "                                                                                \r"
     ]
    }
   ],
   "source": [
    "file_name = '/finance/exchange/sale_standard_rate_' +cal_std_day(0)+ '.json'\n",
    "excng_rate = spark.read.json(file_name, multiLine=True)\n",
    "excng_rate.printSchema()"
   ]
  },
  {
   "cell_type": "code",
   "execution_count": 13,
   "id": "d1f759d8",
   "metadata": {},
   "outputs": [
    {
     "name": "stderr",
     "output_type": "stream",
     "text": [
      "                                                                                \r"
     ]
    },
    {
     "name": "stdout",
     "output_type": "stream",
     "text": [
      "+------------+-------------+------------------+----------+\n",
      "|country_name|monetary_unit|sale_standard_rate|   std_day|\n",
      "+------------+-------------+------------------+----------+\n",
      "|    대한민국|          KRW|                 1|2022-09-28|\n",
      "|        미국|          USD|            1439.4|2022-09-28|\n",
      "|    유럽연합|          EUR|            1375.2|2022-09-28|\n",
      "+------------+-------------+------------------+----------+\n",
      "only showing top 3 rows\n",
      "\n"
     ]
    }
   ],
   "source": [
    "data = []\n",
    "for r1 in excng_rate.select(excng_rate.data, excng_rate.meta.std_day).toLocalIterator():\n",
    "    for r2 in r1.data:\n",
    "        temp = r2.asDict()\n",
    "        temp['std_day'] = r1['meta.std_day'] \n",
    "        data.append(Row(**temp))\n",
    "excng_rate_data = spark.createDataFrame(data)\n",
    "excng_rate_data.show(3)"
   ]
  },
  {
   "cell_type": "markdown",
   "id": "1b74ab82",
   "metadata": {},
   "source": [
    "## 유가 및 귀금속 "
   ]
  },
  {
   "cell_type": "code",
   "execution_count": 16,
   "id": "339caa56",
   "metadata": {},
   "outputs": [
    {
     "name": "stdout",
     "output_type": "stream",
     "text": [
      "root\n",
      " |-- data: array (nullable = true)\n",
      " |    |-- element: struct (containsNull = true)\n",
      " |    |    |-- fluctuation_rate: string (nullable = true)\n",
      " |    |    |-- is_rise: boolean (nullable = true)\n",
      " |    |    |-- price: string (nullable = true)\n",
      " |    |    |-- product_name: string (nullable = true)\n",
      " |    |    |-- unit: string (nullable = true)\n",
      " |-- meta: struct (nullable = true)\n",
      " |    |-- cols: struct (nullable = true)\n",
      " |    |    |-- fluctuation_rate: string (nullable = true)\n",
      " |    |    |-- is_rise: string (nullable = true)\n",
      " |    |    |-- price: string (nullable = true)\n",
      " |    |    |-- product_name: string (nullable = true)\n",
      " |    |    |-- unit: string (nullable = true)\n",
      " |    |-- desc: string (nullable = true)\n",
      " |    |-- std_day: string (nullable = true)\n",
      "\n"
     ]
    }
   ],
   "source": [
    "# 오일\n",
    "file_name = '/finance/oil_gold/oil_price_' +cal_std_day(0)+ '.json'\n",
    "oil_price = spark.read.json(file_name, multiLine=True)\n",
    "oil_price.printSchema()"
   ]
  },
  {
   "cell_type": "code",
   "execution_count": 17,
   "id": "1e6ae329",
   "metadata": {},
   "outputs": [
    {
     "name": "stderr",
     "output_type": "stream",
     "text": [
      "                                                                                \r"
     ]
    },
    {
     "name": "stdout",
     "output_type": "stream",
     "text": [
      "+----------------+-------+-------+------------+---------+----------+\n",
      "|fluctuation_rate|is_rise|  price|product_name|     unit|   std_day|\n",
      "+----------------+-------+-------+------------+---------+----------+\n",
      "|           -0.31|  false|1700.07|      휘발유|원 / 리터|2022-09-28|\n",
      "|           -0.29|  false|1987.06|  고급휘발유|원 / 리터|2022-09-28|\n",
      "|           -0.21|  false|1833.19|        경유|원 / 리터|2022-09-28|\n",
      "+----------------+-------+-------+------------+---------+----------+\n",
      "only showing top 3 rows\n",
      "\n"
     ]
    }
   ],
   "source": [
    "# 오일\n",
    "data = []\n",
    "for r1 in oil_price.select(oil_price.data, oil_price.meta.std_day).toLocalIterator():\n",
    "    for r2 in r1.data:\n",
    "        temp = r2.asDict()\n",
    "        temp['std_day'] = r1['meta.std_day'] \n",
    "        data.append(Row(**temp))\n",
    "oil_price_data = spark.createDataFrame(data)\n",
    "oil_price_data.show(3)"
   ]
  },
  {
   "cell_type": "code",
   "execution_count": 18,
   "id": "a2802b45",
   "metadata": {},
   "outputs": [
    {
     "name": "stdout",
     "output_type": "stream",
     "text": [
      "root\n",
      " |-- data: array (nullable = true)\n",
      " |    |-- element: struct (containsNull = true)\n",
      " |    |    |-- fluctuation_rate: string (nullable = true)\n",
      " |    |    |-- is_rise: boolean (nullable = true)\n",
      " |    |    |-- price: string (nullable = true)\n",
      " |    |    |-- product_name: string (nullable = true)\n",
      " |    |    |-- unit: string (nullable = true)\n",
      " |-- meta: struct (nullable = true)\n",
      " |    |-- cols: struct (nullable = true)\n",
      " |    |    |-- fluctuation_rate: string (nullable = true)\n",
      " |    |    |-- is_rise: string (nullable = true)\n",
      " |    |    |-- price: string (nullable = true)\n",
      " |    |    |-- product_name: string (nullable = true)\n",
      " |    |    |-- unit: string (nullable = true)\n",
      " |    |-- desc: string (nullable = true)\n",
      " |    |-- std_day: string (nullable = true)\n",
      "\n"
     ]
    }
   ],
   "source": [
    "# 귀금속\n",
    "file_name = '/finance/oil_gold/gold_price_' +cal_std_day(0)+ '.json'\n",
    "gold_price = spark.read.json(file_name, multiLine=True)\n",
    "gold_price.printSchema()"
   ]
  },
  {
   "cell_type": "code",
   "execution_count": 19,
   "id": "8db706e8",
   "metadata": {},
   "outputs": [
    {
     "name": "stderr",
     "output_type": "stream",
     "text": [
      "                                                                                \r"
     ]
    },
    {
     "name": "stdout",
     "output_type": "stream",
     "text": [
      "+----------------+-------+--------+------------+-----------------+----------+\n",
      "|fluctuation_rate|is_rise|   price|product_name|             unit|   std_day|\n",
      "+----------------+-------+--------+------------+-----------------+----------+\n",
      "|            0.30|   true|75123.89|     국내 금|           원 / g|2022-09-28|\n",
      "|            0.17|   true| 1636.20|     국제 금|달러 / 트로이온스|2022-09-28|\n",
      "|           -0.61|  false|  839.70|        백금|달러 / 트로이온스|2022-09-28|\n",
      "+----------------+-------+--------+------------+-----------------+----------+\n",
      "only showing top 3 rows\n",
      "\n"
     ]
    }
   ],
   "source": [
    "# 귀금속\n",
    "data = []\n",
    "for r1 in gold_price.select(gold_price.data, gold_price.meta.std_day).toLocalIterator():\n",
    "    for r2 in r1.data:\n",
    "        temp = r2.asDict()\n",
    "        temp['std_day'] = r1['meta.std_day'] \n",
    "        data.append(Row(**temp))\n",
    "gold_price_data = spark.createDataFrame(data)\n",
    "gold_price_data.show(3)"
   ]
  },
  {
   "cell_type": "markdown",
   "id": "21245617",
   "metadata": {},
   "source": [
    "## 원자재 "
   ]
  },
  {
   "cell_type": "code",
   "execution_count": 20,
   "id": "dd0c884b",
   "metadata": {
    "collapsed": true
   },
   "outputs": [
    {
     "name": "stdout",
     "output_type": "stream",
     "text": [
      "root\n",
      " |-- data: array (nullable = true)\n",
      " |    |-- element: struct (containsNull = true)\n",
      " |    |    |-- current_month_contract: string (nullable = true)\n",
      " |    |    |-- fluctuation_rate: string (nullable = true)\n",
      " |    |    |-- futures_exchange_name: string (nullable = true)\n",
      " |    |    |-- is_rise: boolean (nullable = true)\n",
      " |    |    |-- price: string (nullable = true)\n",
      " |    |    |-- product_name: string (nullable = true)\n",
      " |    |    |-- unit: string (nullable = true)\n",
      " |-- meta: struct (nullable = true)\n",
      " |    |-- cols: struct (nullable = true)\n",
      " |    |    |-- current_month_contract: string (nullable = true)\n",
      " |    |    |-- fluctuation_rate: string (nullable = true)\n",
      " |    |    |-- futures_exchange_name: string (nullable = true)\n",
      " |    |    |-- is_rise: string (nullable = true)\n",
      " |    |    |-- price: string (nullable = true)\n",
      " |    |    |-- product_name: string (nullable = true)\n",
      " |    |    |-- unit: string (nullable = true)\n",
      " |    |-- desc: string (nullable = true)\n",
      " |    |-- std_day: string (nullable = true)\n",
      "\n"
     ]
    },
    {
     "name": "stderr",
     "output_type": "stream",
     "text": [
      "\r",
      "[Stage 24:>                                                         (0 + 1) / 1]\r",
      "\r",
      "                                                                                \r"
     ]
    }
   ],
   "source": [
    "# 농산물\n",
    "file_name = '/finance/raw_materials/agriculture_' +cal_std_day(0)+ '.json'\n",
    "agriculture = spark.read.json(file_name, multiLine=True)\n",
    "agriculture.printSchema()"
   ]
  },
  {
   "cell_type": "code",
   "execution_count": 25,
   "id": "eedadaa6",
   "metadata": {},
   "outputs": [
    {
     "name": "stderr",
     "output_type": "stream",
     "text": [
      "\r",
      "[Stage 30:>                                                         (0 + 1) / 1]\r"
     ]
    },
    {
     "name": "stdout",
     "output_type": "stream",
     "text": [
      "+----------------------+----------------+---------------------+-------+-------+------------+-----------+----------+\n",
      "|current_month_contract|fluctuation_rate|futures_exchange_name|is_rise|  price|product_name|       unit|   std_day|\n",
      "+----------------------+----------------+---------------------+-------+-------+------------+-----------+----------+\n",
      "|                 22-12|           +0.19|                 CBOT|   true| 667.50|      옥수수|  센트/부셸|2022-09-28|\n",
      "|                 23-03|           -0.17|                  ICE|  false|  17.59|        설탕|센트/파운드|2022-09-28|\n",
      "|                 22-11|           -0.23|                 CBOT|  false|1408.00|        대두|  센트/부셸|2022-09-28|\n",
      "+----------------------+----------------+---------------------+-------+-------+------------+-----------+----------+\n",
      "only showing top 3 rows\n",
      "\n"
     ]
    },
    {
     "name": "stderr",
     "output_type": "stream",
     "text": [
      "\r",
      "                                                                                \r"
     ]
    }
   ],
   "source": [
    "# 농산물\n",
    "data = []\n",
    "for r1 in agriculture.select(agriculture.data, agriculture.meta.std_day).toLocalIterator():\n",
    "    for r2 in r1.data:\n",
    "        temp = r2.asDict()\n",
    "        temp['std_day'] = r1['meta.std_day'] \n",
    "        data.append(Row(**temp))\n",
    "agriculture_data = spark.createDataFrame(data)\n",
    "agriculture_data.show(3)"
   ]
  },
  {
   "cell_type": "code",
   "execution_count": 23,
   "id": "0778e227",
   "metadata": {
    "collapsed": true
   },
   "outputs": [
    {
     "name": "stdout",
     "output_type": "stream",
     "text": [
      "root\n",
      " |-- data: array (nullable = true)\n",
      " |    |-- element: struct (containsNull = true)\n",
      " |    |    |-- current_month_contract: string (nullable = true)\n",
      " |    |    |-- fluctuation_rate: string (nullable = true)\n",
      " |    |    |-- futures_exchange_name: string (nullable = true)\n",
      " |    |    |-- is_rise: boolean (nullable = true)\n",
      " |    |    |-- price: string (nullable = true)\n",
      " |    |    |-- product_name: string (nullable = true)\n",
      " |    |    |-- unit: string (nullable = true)\n",
      " |-- meta: struct (nullable = true)\n",
      " |    |-- cols: struct (nullable = true)\n",
      " |    |    |-- fluctuation_rate: string (nullable = true)\n",
      " |    |    |-- futures_exchange_name: string (nullable = true)\n",
      " |    |    |-- is_rise: string (nullable = true)\n",
      " |    |    |-- price: string (nullable = true)\n",
      " |    |    |-- product_name: string (nullable = true)\n",
      " |    |    |-- unit: string (nullable = true)\n",
      " |    |-- desc: string (nullable = true)\n",
      " |    |-- std_day: string (nullable = true)\n",
      "\n"
     ]
    }
   ],
   "source": [
    "# 비금속 광물\n",
    "file_name = '/finance/raw_materials/non_metal_' +cal_std_day(0)+ '.json'\n",
    "non_metal = spark.read.json(file_name, multiLine=True)\n",
    "non_metal.printSchema()"
   ]
  },
  {
   "cell_type": "code",
   "execution_count": 26,
   "id": "d3398af3",
   "metadata": {},
   "outputs": [
    {
     "name": "stderr",
     "output_type": "stream",
     "text": [
      "[Stage 33:>                                                         (0 + 1) / 1]\r"
     ]
    },
    {
     "name": "stdout",
     "output_type": "stream",
     "text": [
      "+----------------------+----------------+---------------------+-------+-------+------------+-------+----------+\n",
      "|current_month_contract|fluctuation_rate|futures_exchange_name|is_rise|  price|product_name|   unit|   std_day|\n",
      "+----------------------+----------------+---------------------+-------+-------+------------+-------+----------+\n",
      "|                  null|           +0.35|                  LME|   true|7475.00|        구리|달러/톤|2022-09-28|\n",
      "|               달러/톤|             LME|                false|   null|  -1.24|          납|1754.00|2022-09-28|\n",
      "|               달러/톤|             LME|                false|   null|  -0.20|        아연|2938.00|2022-09-28|\n",
      "+----------------------+----------------+---------------------+-------+-------+------------+-------+----------+\n",
      "only showing top 3 rows\n",
      "\n"
     ]
    },
    {
     "name": "stderr",
     "output_type": "stream",
     "text": [
      "\r",
      "                                                                                \r"
     ]
    }
   ],
   "source": [
    "# 비금속 광물\n",
    "data = []\n",
    "for r1 in non_metal.select(non_metal.data, non_metal.meta.std_day).toLocalIterator():\n",
    "    for r2 in r1.data:\n",
    "        temp = r2.asDict()\n",
    "        temp['std_day'] = r1['meta.std_day'] \n",
    "        data.append(Row(**temp))\n",
    "non_metal_data = spark.createDataFrame(data)\n",
    "non_metal_data.show(3)"
   ]
  },
  {
   "cell_type": "code",
   "execution_count": 22,
   "id": "f72e28bc",
   "metadata": {
    "collapsed": true
   },
   "outputs": [
    {
     "name": "stderr",
     "output_type": "stream",
     "text": [
      "\r",
      "[Stage 26:>                                                         (0 + 1) / 1]\r",
      "\r",
      "                                                                                \r"
     ]
    },
    {
     "name": "stdout",
     "output_type": "stream",
     "text": [
      "root\n",
      " |-- data: array (nullable = true)\n",
      " |    |-- element: struct (containsNull = true)\n",
      " |    |    |-- current_month_contract: string (nullable = true)\n",
      " |    |    |-- fluctuation_rate: string (nullable = true)\n",
      " |    |    |-- futures_exchange_name: string (nullable = true)\n",
      " |    |    |-- is_rise: boolean (nullable = true)\n",
      " |    |    |-- price: string (nullable = true)\n",
      " |    |    |-- product_name: string (nullable = true)\n",
      " |    |    |-- unit: string (nullable = true)\n",
      " |-- meta: struct (nullable = true)\n",
      " |    |-- cols: struct (nullable = true)\n",
      " |    |    |-- current_month_contract: string (nullable = true)\n",
      " |    |    |-- fluctuation_rate: string (nullable = true)\n",
      " |    |    |-- futures_exchange_name: string (nullable = true)\n",
      " |    |    |-- is_rise: string (nullable = true)\n",
      " |    |    |-- price: string (nullable = true)\n",
      " |    |    |-- product_name: string (nullable = true)\n",
      " |    |    |-- unit: string (nullable = true)\n",
      " |    |-- desc: string (nullable = true)\n",
      " |    |-- std_day: string (nullable = true)\n",
      "\n"
     ]
    }
   ],
   "source": [
    "# 에너지\n",
    "file_name = '/finance/raw_materials/energy_' +cal_std_day(0)+ '.json'\n",
    "energy = spark.read.json(file_name, multiLine=True)\n",
    "energy.printSchema()"
   ]
  },
  {
   "cell_type": "code",
   "execution_count": 27,
   "id": "7309a71b",
   "metadata": {
    "scrolled": true
   },
   "outputs": [
    {
     "name": "stderr",
     "output_type": "stream",
     "text": [
      "\r",
      "[Stage 36:>                                                         (0 + 1) / 1]\r",
      "\r",
      "                                                                                \r"
     ]
    },
    {
     "name": "stdout",
     "output_type": "stream",
     "text": [
      "+----------------------+----------------+---------------------+-------+------+------------+----------+----------+\n",
      "|current_month_contract|fluctuation_rate|futures_exchange_name|is_rise| price|product_name|      unit|   std_day|\n",
      "+----------------------+----------------+---------------------+-------+------+------------+----------+----------+\n",
      "|                 22-11|           +2.84|                  ICE|   true|922.75|    가스오일|   달러/톤|2022-09-28|\n",
      "|                 22-11|           +3.82|                NYMEX|   true|  3.16|      난방유| 달러/갤런|2022-09-28|\n",
      "|                 22-11|           -3.62|                NYMEX|  false|  6.76|    천연가스|달러/MMBtu|2022-09-28|\n",
      "+----------------------+----------------+---------------------+-------+------+------------+----------+----------+\n",
      "\n"
     ]
    }
   ],
   "source": [
    "# 비금속 광물\n",
    "data = []\n",
    "for r1 in energy.select(energy.data, energy.meta.std_day).toLocalIterator():\n",
    "    for r2 in r1.data:\n",
    "        temp = r2.asDict()\n",
    "        temp['std_day'] = r1['meta.std_day'] \n",
    "        data.append(Row(**temp))\n",
    "energy_data = spark.createDataFrame(data)\n",
    "energy_data.show(3)"
   ]
  },
  {
   "cell_type": "code",
   "execution_count": 34,
   "id": "5ad26744",
   "metadata": {
    "collapsed": true
   },
   "outputs": [
    {
     "name": "stdout",
     "output_type": "stream",
     "text": [
      "root\n",
      " |-- data: array (nullable = true)\n",
      " |    |-- element: struct (containsNull = true)\n",
      " |    |    |-- fluctuation_rate: string (nullable = true)\n",
      " |    |    |-- index_name: string (nullable = true)\n",
      " |    |    |-- is_rise: boolean (nullable = true)\n",
      " |    |    |-- price: string (nullable = true)\n",
      " |-- meta: struct (nullable = true)\n",
      " |    |-- cols: struct (nullable = true)\n",
      " |    |    |-- fluctuation_rate: string (nullable = true)\n",
      " |    |    |-- index_name: string (nullable = true)\n",
      " |    |    |-- is_rise: string (nullable = true)\n",
      " |    |    |-- price: string (nullable = true)\n",
      " |    |-- desc: string (nullable = true)\n",
      " |    |-- std_day: string (nullable = true)\n",
      "\n"
     ]
    }
   ],
   "source": [
    "# 주요국가 주가 지수\n",
    "file_name = '/finance/stock_index/stock_index_' +cal_std_day(0)+ '.json'\n",
    "stock_index = spark.read.json(file_name, multiLine=True)\n",
    "stock_index.printSchema()"
   ]
  },
  {
   "cell_type": "code",
   "execution_count": 35,
   "id": "4251a182",
   "metadata": {},
   "outputs": [
    {
     "name": "stderr",
     "output_type": "stream",
     "text": [
      "\r",
      "[Stage 45:>                                                         (0 + 1) / 1]\r"
     ]
    },
    {
     "name": "stdout",
     "output_type": "stream",
     "text": [
      "+----------------+----------+-------+-------+----------+\n",
      "|fluctuation_rate|index_name|is_rise|  price|   std_day|\n",
      "+----------------+----------+-------+-------+----------+\n",
      "|           +0.13|코스피지수|   true|2223.86|2022-09-28|\n",
      "|           -0.08| 코스피 50|  false|1983.55|2022-09-28|\n",
      "|           +0.83|    코스닥|   true| 698.11|2022-09-28|\n",
      "+----------------+----------+-------+-------+----------+\n",
      "only showing top 3 rows\n",
      "\n"
     ]
    },
    {
     "name": "stderr",
     "output_type": "stream",
     "text": [
      "\r",
      "                                                                                \r"
     ]
    }
   ],
   "source": [
    "# 주요국가 주가 지수\n",
    "data = []\n",
    "for r1 in stock_index.select(stock_index.data, stock_index.meta.std_day).toLocalIterator():\n",
    "    for r2 in r1.data:\n",
    "        temp = r2.asDict()\n",
    "        temp['std_day'] = r1['meta.std_day'] \n",
    "        data.append(Row(**temp))\n",
    "stock_index_data = spark.createDataFrame(data)\n",
    "stock_index_data.show(3)"
   ]
  },
  {
   "cell_type": "code",
   "execution_count": 28,
   "id": "627bbe02",
   "metadata": {
    "collapsed": true
   },
   "outputs": [
    {
     "name": "stdout",
     "output_type": "stream",
     "text": [
      "root\n",
      " |-- data: array (nullable = true)\n",
      " |    |-- element: struct (containsNull = true)\n",
      " |    |    |-- country_name: string (nullable = true)\n",
      " |    |    |-- fluctuation_rate: string (nullable = true)\n",
      " |    |    |-- is_rise: boolean (nullable = true)\n",
      " |    |    |-- price: string (nullable = true)\n",
      " |    |    |-- product_name: string (nullable = true)\n",
      " |-- meta: struct (nullable = true)\n",
      " |    |-- cols: struct (nullable = true)\n",
      " |    |    |-- country_name: string (nullable = true)\n",
      " |    |    |-- fluctuation_rate: string (nullable = true)\n",
      " |    |    |-- is_rise: string (nullable = true)\n",
      " |    |    |-- price: string (nullable = true)\n",
      " |    |    |-- product_name: string (nullable = true)\n",
      " |    |-- desc: string (nullable = true)\n",
      " |    |-- std_day: string (nullable = true)\n",
      "\n"
     ]
    }
   ],
   "source": [
    "#  국채금리\n",
    "file_name = '/finance/sovereign_yield/sovereign_yield_' +cal_std_day(0)+ '.json'\n",
    "sovereign_yield = spark.read.json(file_name, multiLine=True)\n",
    "sovereign_yield.printSchema()"
   ]
  },
  {
   "cell_type": "code",
   "execution_count": 29,
   "id": "1129696a",
   "metadata": {},
   "outputs": [
    {
     "name": "stderr",
     "output_type": "stream",
     "text": [
      "                                                                                \r"
     ]
    },
    {
     "name": "stdout",
     "output_type": "stream",
     "text": [
      "+------------+----------------+-------+------+------------+----------+\n",
      "|country_name|fluctuation_rate|is_rise| price|product_name|   std_day|\n",
      "+------------+----------------+-------+------+------------+----------+\n",
      "|        한국|            0.00|  false| 3.440|    한국 1년|2022-09-28|\n",
      "|        한국|            0.00|  false| 4.320|    한국 2년|2022-09-28|\n",
      "|        한국|            0.00|  false| 4.294|    한국 3년|2022-09-28|\n",
      "|        한국|            0.00|  false| 4.345|    한국 5년|2022-09-28|\n",
      "|        한국|            0.00|  false| 4.206|   한국 10년|2022-09-28|\n",
      "|        한국|            0.00|  false| 3.960|   한국 30년|2022-09-28|\n",
      "|        미국|           -0.21|  false|4.1470|    미국 1년|2022-09-28|\n",
      "|        미국|           -0.05|  false|4.3100|    미국 2년|2022-09-28|\n",
      "|        미국|           +0.02|   true|4.3960|    미국 3년|2022-09-28|\n",
      "|        미국|           +1.01|   true|4.1590|    미국 5년|2022-09-28|\n",
      "+------------+----------------+-------+------+------------+----------+\n",
      "only showing top 10 rows\n",
      "\n"
     ]
    }
   ],
   "source": [
    "data = []\n",
    "for r1 in sovereign_yield.select(sovereign_yield.data, sovereign_yield.meta.std_day).toLocalIterator():\n",
    "    for r2 in r1.data:\n",
    "        temp = r2.asDict()\n",
    "        temp['std_day'] = r1['meta.std_day'] \n",
    "        data.append(Row(**temp))\n",
    "sovereign_yield_data = spark.createDataFrame(data)\n",
    "sovereign_yield_data.show(10)"
   ]
  },
  {
   "cell_type": "code",
   "execution_count": 43,
   "id": "e81a49ae",
   "metadata": {},
   "outputs": [],
   "source": [
    "pd_sv = sovereign_yield_data.to_pandas_on_spark()\n"
   ]
  },
  {
   "cell_type": "code",
   "execution_count": 45,
   "id": "8f99430c",
   "metadata": {},
   "outputs": [
    {
     "name": "stderr",
     "output_type": "stream",
     "text": [
      "                                                                                \r"
     ]
    },
    {
     "data": {
      "text/html": [
       "<div>\n",
       "<style scoped>\n",
       "    .dataframe tbody tr th:only-of-type {\n",
       "        vertical-align: middle;\n",
       "    }\n",
       "\n",
       "    .dataframe tbody tr th {\n",
       "        vertical-align: top;\n",
       "    }\n",
       "\n",
       "    .dataframe thead th {\n",
       "        text-align: right;\n",
       "    }\n",
       "</style>\n",
       "<table border=\"1\" class=\"dataframe\">\n",
       "  <thead>\n",
       "    <tr style=\"text-align: right;\">\n",
       "      <th></th>\n",
       "      <th></th>\n",
       "      <th>fluctuation_rate</th>\n",
       "      <th>is_rise</th>\n",
       "      <th>price</th>\n",
       "      <th>product_name</th>\n",
       "    </tr>\n",
       "    <tr>\n",
       "      <th>country_name</th>\n",
       "      <th>std_day</th>\n",
       "      <th></th>\n",
       "      <th></th>\n",
       "      <th></th>\n",
       "      <th></th>\n",
       "    </tr>\n",
       "  </thead>\n",
       "  <tbody>\n",
       "    <tr>\n",
       "      <th rowspan=\"6\" valign=\"top\">한국</th>\n",
       "      <th>2022-09-28</th>\n",
       "      <td>0.00</td>\n",
       "      <td>False</td>\n",
       "      <td>3.440</td>\n",
       "      <td>한국 1년</td>\n",
       "    </tr>\n",
       "    <tr>\n",
       "      <th>2022-09-28</th>\n",
       "      <td>0.00</td>\n",
       "      <td>False</td>\n",
       "      <td>4.320</td>\n",
       "      <td>한국 2년</td>\n",
       "    </tr>\n",
       "    <tr>\n",
       "      <th>2022-09-28</th>\n",
       "      <td>0.00</td>\n",
       "      <td>False</td>\n",
       "      <td>4.294</td>\n",
       "      <td>한국 3년</td>\n",
       "    </tr>\n",
       "    <tr>\n",
       "      <th>2022-09-28</th>\n",
       "      <td>0.00</td>\n",
       "      <td>False</td>\n",
       "      <td>4.345</td>\n",
       "      <td>한국 5년</td>\n",
       "    </tr>\n",
       "    <tr>\n",
       "      <th>2022-09-28</th>\n",
       "      <td>0.00</td>\n",
       "      <td>False</td>\n",
       "      <td>4.206</td>\n",
       "      <td>한국 10년</td>\n",
       "    </tr>\n",
       "    <tr>\n",
       "      <th>2022-09-28</th>\n",
       "      <td>0.00</td>\n",
       "      <td>False</td>\n",
       "      <td>3.960</td>\n",
       "      <td>한국 30년</td>\n",
       "    </tr>\n",
       "    <tr>\n",
       "      <th rowspan=\"6\" valign=\"top\">미국</th>\n",
       "      <th>2022-09-28</th>\n",
       "      <td>-0.21</td>\n",
       "      <td>False</td>\n",
       "      <td>4.1470</td>\n",
       "      <td>미국 1년</td>\n",
       "    </tr>\n",
       "    <tr>\n",
       "      <th>2022-09-28</th>\n",
       "      <td>-0.05</td>\n",
       "      <td>False</td>\n",
       "      <td>4.3100</td>\n",
       "      <td>미국 2년</td>\n",
       "    </tr>\n",
       "    <tr>\n",
       "      <th>2022-09-28</th>\n",
       "      <td>+0.02</td>\n",
       "      <td>True</td>\n",
       "      <td>4.3960</td>\n",
       "      <td>미국 3년</td>\n",
       "    </tr>\n",
       "    <tr>\n",
       "      <th>2022-09-28</th>\n",
       "      <td>+1.01</td>\n",
       "      <td>True</td>\n",
       "      <td>4.1590</td>\n",
       "      <td>미국 5년</td>\n",
       "    </tr>\n",
       "    <tr>\n",
       "      <th>2022-09-28</th>\n",
       "      <td>+2.31</td>\n",
       "      <td>True</td>\n",
       "      <td>3.880</td>\n",
       "      <td>미국 10년물 국채 금리</td>\n",
       "    </tr>\n",
       "    <tr>\n",
       "      <th>2022-09-28</th>\n",
       "      <td>+3.63</td>\n",
       "      <td>True</td>\n",
       "      <td>3.697</td>\n",
       "      <td>미국 30년</td>\n",
       "    </tr>\n",
       "    <tr>\n",
       "      <th rowspan=\"6\" valign=\"top\">영국</th>\n",
       "      <th>2022-09-28</th>\n",
       "      <td>+1.40</td>\n",
       "      <td>True</td>\n",
       "      <td>4.2380</td>\n",
       "      <td>영국 1년</td>\n",
       "    </tr>\n",
       "    <tr>\n",
       "      <th>2022-09-28</th>\n",
       "      <td>-1.54</td>\n",
       "      <td>False</td>\n",
       "      <td>4.7540</td>\n",
       "      <td>영국 2년</td>\n",
       "    </tr>\n",
       "    <tr>\n",
       "      <th>2022-09-28</th>\n",
       "      <td>+1.27</td>\n",
       "      <td>True</td>\n",
       "      <td>4.6810</td>\n",
       "      <td>영국 3년</td>\n",
       "    </tr>\n",
       "    <tr>\n",
       "      <th>2022-09-28</th>\n",
       "      <td>+1.40</td>\n",
       "      <td>True</td>\n",
       "      <td>4.6880</td>\n",
       "      <td>영국 5년</td>\n",
       "    </tr>\n",
       "    <tr>\n",
       "      <th>2022-09-28</th>\n",
       "      <td>+1.41</td>\n",
       "      <td>True</td>\n",
       "      <td>4.5040</td>\n",
       "      <td>영국 10년</td>\n",
       "    </tr>\n",
       "    <tr>\n",
       "      <th>2022-09-28</th>\n",
       "      <td>+1.36</td>\n",
       "      <td>True</td>\n",
       "      <td>4.986</td>\n",
       "      <td>영국 30년</td>\n",
       "    </tr>\n",
       "    <tr>\n",
       "      <th rowspan=\"6\" valign=\"top\">일본</th>\n",
       "      <th>2022-09-28</th>\n",
       "      <td>-7.43</td>\n",
       "      <td>False</td>\n",
       "      <td>-0.101</td>\n",
       "      <td>일본 1년</td>\n",
       "    </tr>\n",
       "    <tr>\n",
       "      <th>2022-09-28</th>\n",
       "      <td>-17.07</td>\n",
       "      <td>False</td>\n",
       "      <td>-0.041</td>\n",
       "      <td>일본 2년</td>\n",
       "    </tr>\n",
       "    <tr>\n",
       "      <th>2022-09-28</th>\n",
       "      <td>-2.08</td>\n",
       "      <td>False</td>\n",
       "      <td>-0.024</td>\n",
       "      <td>일본 3년</td>\n",
       "    </tr>\n",
       "    <tr>\n",
       "      <th>2022-09-28</th>\n",
       "      <td>-8.42</td>\n",
       "      <td>False</td>\n",
       "      <td>0.095</td>\n",
       "      <td>일본 5년</td>\n",
       "    </tr>\n",
       "    <tr>\n",
       "      <th>2022-09-28</th>\n",
       "      <td>-4.80</td>\n",
       "      <td>False</td>\n",
       "      <td>0.250</td>\n",
       "      <td>일본 10년</td>\n",
       "    </tr>\n",
       "    <tr>\n",
       "      <th>2022-09-28</th>\n",
       "      <td>-1.77</td>\n",
       "      <td>False</td>\n",
       "      <td>1.440</td>\n",
       "      <td>일본 30년</td>\n",
       "    </tr>\n",
       "  </tbody>\n",
       "</table>\n",
       "</div>"
      ],
      "text/plain": [
       "                        fluctuation_rate  is_rise   price   product_name\n",
       "country_name std_day                                                    \n",
       "한국           2022-09-28             0.00    False   3.440          한국 1년\n",
       "             2022-09-28             0.00    False   4.320          한국 2년\n",
       "             2022-09-28             0.00    False   4.294          한국 3년\n",
       "             2022-09-28             0.00    False   4.345          한국 5년\n",
       "             2022-09-28             0.00    False   4.206         한국 10년\n",
       "             2022-09-28             0.00    False   3.960         한국 30년\n",
       "미국           2022-09-28            -0.21    False  4.1470          미국 1년\n",
       "             2022-09-28            -0.05    False  4.3100          미국 2년\n",
       "             2022-09-28            +0.02     True  4.3960          미국 3년\n",
       "             2022-09-28            +1.01     True  4.1590          미국 5년\n",
       "             2022-09-28            +2.31     True   3.880  미국 10년물 국채 금리\n",
       "             2022-09-28            +3.63     True   3.697         미국 30년\n",
       "영국           2022-09-28            +1.40     True  4.2380          영국 1년\n",
       "             2022-09-28            -1.54    False  4.7540          영국 2년\n",
       "             2022-09-28            +1.27     True  4.6810          영국 3년\n",
       "             2022-09-28            +1.40     True  4.6880          영국 5년\n",
       "             2022-09-28            +1.41     True  4.5040         영국 10년\n",
       "             2022-09-28            +1.36     True   4.986         영국 30년\n",
       "일본           2022-09-28            -7.43    False  -0.101          일본 1년\n",
       "             2022-09-28           -17.07    False  -0.041          일본 2년\n",
       "             2022-09-28            -2.08    False  -0.024          일본 3년\n",
       "             2022-09-28            -8.42    False   0.095          일본 5년\n",
       "             2022-09-28            -4.80    False   0.250         일본 10년\n",
       "             2022-09-28            -1.77    False   1.440         일본 30년"
      ]
     },
     "execution_count": 45,
     "metadata": {},
     "output_type": "execute_result"
    }
   ],
   "source": [
    "# pd_sv = pd_sv.set_index(['country_name'])\n",
    "# pd_sv = pd_sv.stack()\n",
    "pd_sv.set_index(['country_name','std_day'])"
   ]
  }
 ],
 "metadata": {
  "kernelspec": {
   "display_name": "Python 3 (ipykernel)",
   "language": "python",
   "name": "python3"
  },
  "language_info": {
   "codemirror_mode": {
    "name": "ipython",
    "version": 3
   },
   "file_extension": ".py",
   "mimetype": "text/x-python",
   "name": "python",
   "nbconvert_exporter": "python",
   "pygments_lexer": "ipython3",
   "version": "3.8.10"
  }
 },
 "nbformat": 4,
 "nbformat_minor": 5
}
