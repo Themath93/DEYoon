{
 "cells": [
  {
   "cell_type": "code",
   "execution_count": 2,
   "id": "6e27476f",
   "metadata": {},
   "outputs": [],
   "source": [
    "import requests\n",
    "import json\n",
    "import datetime as dt\n",
    "from hdfs import InsecureClient\n",
    "client = InsecureClient('http://localhost:9870', user='big') #나의 로컬호스트주소 #user : big(내가정함)"
   ]
  },
  {
   "cell_type": "code",
   "execution_count": 3,
   "id": "6f12a8b3",
   "metadata": {},
   "outputs": [],
   "source": [
    "# 라이브러리 입장에서는 404도 응답이기 때문에 에러가 아니다. \n",
    "# 우리가 그런상황도 error라고 정해 놓고 가된다.\n",
    "\n",
    "# raise Exception('응답코드 : ' + str(404))  의도적 에러 Exception: 응답코드 : 404\n",
    "\n",
    "def execute_rest_api(method, url, headers, params):\n",
    "    if method == 'get':\n",
    "        res = requests.get(url,params=params,headers=headers)\n",
    "    elif method == 'post' :\n",
    "        res = requests.post(url,params=params,headers=headers)\n",
    "    \n",
    "    if res ==None or res.status_code != 200 :\n",
    "        raise Exception('응답코드 : ' + str(res.status_code))\n",
    "        \n",
    "    return res.text"
   ]
  },
  {
   "cell_type": "code",
   "execution_count": 4,
   "id": "858619e2",
   "metadata": {},
   "outputs": [],
   "source": [
    "def cal_std_day(befor_day):   \n",
    "    x = dt.datetime.now() - dt.timedelta(befor_day)\n",
    "    year = x.year\n",
    "    month = x.month if x.month >= 10 else '0'+ str(x.month)\n",
    "    day = x.day if x.day >= 10 else '0'+ str(x.day)  \n",
    "    return str(year)+ '-' +str(month)+ '-' +str(day)"
   ]
  },
  {
   "cell_type": "code",
   "execution_count": 5,
   "id": "54eea011",
   "metadata": {},
   "outputs": [],
   "source": [
    "# 로그만들기\n",
    "import logging\n",
    "# 내가원하는 과정중에 발생한 에러만 골라서 기록하는 로깅이 필요\n",
    "co_logger = logging.getLogger('corona_api')\n",
    "# 로그를 한파일에만 넣으면 나중에 찾기 힘들고 심지어 열기조차 불가능 할 수 있음 -> 이번엔 날짜별로 하자, 하둡은 파일 크기별로함\n",
    "handler = logging.FileHandler('./log/rest_api/'+cal_std_day(0)+'.log')\n",
    "co_logger.addHandler(handler)"
   ]
  },
  {
   "cell_type": "code",
   "execution_count": 6,
   "id": "f50c124e",
   "metadata": {},
   "outputs": [
    {
     "name": "stderr",
     "output_type": "stream",
     "text": [
      "<jemalloc>: MADV_DONTNEED does not work (memset will be used instead)\n",
      "<jemalloc>: (This is the expected behaviour if you are running under QEMU)\n"
     ]
    }
   ],
   "source": [
    "from datetime import date, datetime\n",
    "from pyspark.sql import *\n",
    "from pyspark.sql.types import *\n",
    "from pyspark.sql.functions import *\n",
    "import pandas as pd\n",
    "from bs4 import BeautifulSoup"
   ]
  },
  {
   "cell_type": "code",
   "execution_count": 7,
   "id": "841438c4",
   "metadata": {},
   "outputs": [],
   "source": [
    "# 시장지표 크롤링\n",
    "# 인베스팅.com 주요 주가지수\n",
    "\n",
    "file_dir = '/finance/stock_index/'\n",
    "file_name = 'stock_index_' + str(cal_std_day(0))+'.json'\n",
    "url = 'https://comp.fnguide.com/SVO/WooriRenewal/new_overview.asp'\n",
    "response_txt = execute_rest_api('get',url,{},{})\n",
    "soup = BeautifulSoup(response_txt, 'html.parser')\n",
    "trs = soup.find('div',{'id':'right_column'}).find('tbody').findAll('tr')\n",
    "cols = ['country_name','si_name', 'si_price', 'si_fl_rate', 'si_is_rise']\n",
    "data = []\n",
    "for tr in trs :\n",
    "    rows=[]\n",
    "    # 국가 이름 : country_name\n",
    "    rows.append(tr.findAll('td')[0].text)\n",
    "    # 지수 이름 : index_name\n",
    "    if tr.findAll('td')[1].text == '종합주가지수':\n",
    "        rows.append('코스피')\n",
    "    else :\n",
    "        rows.append(tr.findAll('td')[1].text)\n",
    "    # 종가 :price\n",
    "    rows.append(tr.findAll('td')[2].text.replace(',',''))\n",
    "    # 등락율 : fluctuation_rate\n",
    "    rows.append(tr.findAll('td')[3].text.replace('+',''))\n",
    "    # 상승여부 : is_rise\n",
    "    if tr.findAll('td')[3].text.replace('%','')[0] == '-' :\n",
    "        rows.append(False)\n",
    "        tmp = dict(zip(cols,rows))\n",
    "        data.append(tmp)\n",
    "    else :\n",
    "        rows.append(True)\n",
    "        tmp = dict(zip(cols,rows))\n",
    "        data.append(tmp)\n",
    "res = {\n",
    "    'meta':{\n",
    "        'desc':'주요 주가 지수',\n",
    "        'cols':{\n",
    "            'country_name':'국가이름','si_name':'주가지수이름', 'si_price':'주가지수종가', 'si_fl_rate':'지수등략률(%)', 'si_is_rise':'지수상승여부'\n",
    "        },\n",
    "        'std_day':cal_std_day(0)\n",
    "    },\n",
    "    'data':data\n",
    "}\n",
    "client.write(file_dir+file_name,json.dumps(res,ensure_ascii=False),encoding='utf-8')"
   ]
  },
  {
   "cell_type": "code",
   "execution_count": 11,
   "id": "92038cc5",
   "metadata": {},
   "outputs": [],
   "source": [
    "# 채권 크롤링\n",
    "# 모을 연도 = [1,2,3,5,10,30]\n",
    "# 모을 국가 한국, 미국, 영국, 일본의 table bond_table_number = [60, 1, 3, 20]\n",
    "file_dir = '/finance/sovereign_yield/'\n",
    "file_name = 'sovereign_yield_' + str(cal_std_day(0))+'.json'\n",
    "cols = ['country_name', '1y','2y','3y','5y','10y','30y']\n",
    "data = []\n",
    "for i in range(4):\n",
    "    tmp = dict(zip(cols,get_bond_yield_row(i)))\n",
    "    data.append(tmp)\n",
    "res = {\n",
    "    'meta':{\n",
    "        'desc':'한국,미국,영국,일본 국채 금리',\n",
    "        'cols':{\n",
    "            'country_name':'국가명','1y':'1년물','2y':'2년물','3y':'3년물','5y':'5년물','10y':'10년물','30y':'30년물'\n",
    "        },\n",
    "        'std_day':cal_std_day(0)\n",
    "    },\n",
    "    'data':data\n",
    "}\n",
    "\n",
    "client.write(file_dir+file_name,json.dumps(res,ensure_ascii=False),encoding='utf-8')"
   ]
  },
  {
   "cell_type": "code",
   "execution_count": 9,
   "id": "99aa1263",
   "metadata": {},
   "outputs": [],
   "source": [
    "def get_ops(num):\n",
    "    bond_table_number = ['cr1', 'bond_table_1', 'bond_table_3', 'bond_table_20']\n",
    "    base_url = 'https://kr.investing.com/rates-bonds/'\n",
    "    url_list = ['south-korea-government-bonds', 'americas-government-bonds', 'european-government-bonds','asian-pacific-government-bonds']\n",
    "    file_dir = '/finance/sovereign_yield/'\n",
    "    file_name = 'sovereign_yield_' + str(cal_std_day(0))+'.json'\n",
    "    base_url = 'https://kr.investing.com/rates-bonds/'\n",
    "    url = base_url + url_list[num]\n",
    "    response_txt = execute_rest_api('get',url,{},{})\n",
    "    soup = BeautifulSoup(response_txt, 'html.parser')\n",
    "    return soup.find('table', {'id':bond_table_number[int(num)]})"
   ]
  },
  {
   "cell_type": "code",
   "execution_count": 10,
   "id": "a6335fc6",
   "metadata": {},
   "outputs": [],
   "source": [
    "# 모을 연도 = [1,2,3,5,10,30]\n",
    "def get_bond_yield_row(num):\n",
    "    trs = get_ops(num).findAll('tr')[1:]\n",
    "    bond_rows = []\n",
    "    if num == 0:\n",
    "        bond_rows.append(\"한국\")\n",
    "    elif num == 1:\n",
    "        bond_rows.append(\"미국\")\n",
    "    elif num == 2:\n",
    "        bond_rows.append(\"영국\")\n",
    "    elif num == 3:\n",
    "        bond_rows.append(\"일본\")\n",
    "    else :\n",
    "        raise\n",
    "    for tr in trs:\n",
    "        price_year = tr.find('a').text\n",
    "        if (('1년' in price_year) or ('2년' in price_year) or ('3년' in price_year) or ('5년' in price_year) \\\n",
    "            or ('10년' in price_year) or ('30년' in price_year)) and ('12년' not in price_year) and ('15년' not in price_year) and ('25년' not in price_year) :\n",
    "            bond_rows.append(tr.findAll('td')[3].text.replace(',','')) # 종가 채권수익률\n",
    "    return bond_rows"
   ]
  },
  {
   "cell_type": "code",
   "execution_count": 12,
   "id": "f5f45493",
   "metadata": {},
   "outputs": [],
   "source": [
    "## 중앙은행의 이자율\n",
    "file_dir = '/finance/cetral_bank_interest_rate/'\n",
    "file_name = 'cental_interest_' + str(cal_std_day(0))+'.json'\n",
    "url = 'https://kr.investing.com/central-banks/'\n",
    "response_txt = execute_rest_api('get',url,{},{})\n",
    "soup = BeautifulSoup(response_txt, 'html.parser')\n",
    "ops = soup.find('table',{'id':'curr_table'}).findAll('tr')[1:]\n",
    "\n",
    "cols = ['country_name','ctr_bank', 'ctr_inter', 'ctr_next_conf', 'ctr_cng_date', 'ctr_latest_point', 'ctr_is_rise']\n",
    "data = []\n",
    "# 중앙은행\n",
    "cnts = ['한국','미국','유럽','영국','스위스','호주','캐나다','일본','러시아','인도','중국','브라질']\n",
    "for idx,op in enumerate(ops):\n",
    "    rows = []\n",
    "    # 국가이름\n",
    "    rows.append(cnts[idx])\n",
    "    # 은행이름\n",
    "    rows.append(op.findAll('td')[1].text)\n",
    "    # 현재금리, 다음회의, 최근변동일, 최근변동포인트, 상승여부\n",
    "    rows.append(op.findAll('td')[2].text.replace('%',''))\n",
    "    rows.append(op.findAll('td')[3].text.replace('년','').replace('월','').replace('일','').replace(' ','-')[1:][:-1])\n",
    "    rows.append(op.findAll('td')[4].text[:13].replace('년','').replace('월','').replace('일','').replace(' ','-'))\n",
    "    rows.append(op.findAll('td')[4].text[14:].replace('(','').replace(')','').replace('bp',''))\n",
    "    if op.findAll('td')[4].text[14:].replace('(','').replace(')','').replace('bp','')[0] == '-':\n",
    "        rows.append(False)\n",
    "        tmp = dict(zip(cols,rows))\n",
    "        data.append(tmp)\n",
    "    else:\n",
    "        rows.append(True)\n",
    "        tmp = dict(zip(cols,rows))\n",
    "        data.append(tmp)\n",
    "res = {\n",
    "    'meta':{\n",
    "        'desc':'세계주요국의 중앙은행의 이자율',\n",
    "        'cols':{\n",
    "            'country_name':'국가이름','ctr_bank':'중앙은행', 'ctr_inter':'금리(%)', 'ctr_next_conf':'다음 금리결정회의 날짜', 'ctr_cng_date':'최근 금리 결정 날짜',\n",
    "            'ctr_latest_point':'금리 증감 퍼센트포인트', 'ctr_is_rise':'금리상승여부'\n",
    "        },\n",
    "        'std_day':cal_std_day(0)\n",
    "    },\n",
    "    'data':data\n",
    "}\n",
    "client.write(file_dir+file_name,json.dumps(res,ensure_ascii=False),encoding='utf-8')"
   ]
  },
  {
   "cell_type": "code",
   "execution_count": 44,
   "id": "d7d18744",
   "metadata": {},
   "outputs": [
    {
     "data": {
      "text/plain": [
       "-1"
      ]
     },
     "execution_count": 44,
     "metadata": {},
     "output_type": "execute_result"
    }
   ],
   "source": [
    "int(-1)"
   ]
  }
 ],
 "metadata": {
  "kernelspec": {
   "display_name": "Python 3.9.6 64-bit",
   "language": "python",
   "name": "python3"
  },
  "language_info": {
   "codemirror_mode": {
    "name": "ipython",
    "version": 3
   },
   "file_extension": ".py",
   "mimetype": "text/x-python",
   "name": "python",
   "nbconvert_exporter": "python",
   "pygments_lexer": "ipython3",
   "version": "3.8.10"
  },
  "vscode": {
   "interpreter": {
    "hash": "31f2aee4e71d21fbe5cf8b01ff0e069b9275f58929596ceb00d14d90e3e16cd6"
   }
  }
 },
 "nbformat": 4,
 "nbformat_minor": 5
}
