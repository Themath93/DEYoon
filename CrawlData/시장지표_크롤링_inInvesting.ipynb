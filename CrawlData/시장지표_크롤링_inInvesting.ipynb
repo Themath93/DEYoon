{
 "cells": [
  {
   "cell_type": "code",
   "execution_count": 1,
   "id": "6e27476f",
   "metadata": {},
   "outputs": [],
   "source": [
    "import requests\n",
    "import json\n",
    "import datetime as dt\n",
    "from hdfs import InsecureClient\n",
    "client = InsecureClient('http://localhost:9870', user='big') #나의 로컬호스트주소 #user : big(내가정함)"
   ]
  },
  {
   "cell_type": "code",
   "execution_count": 2,
   "id": "6f12a8b3",
   "metadata": {},
   "outputs": [],
   "source": [
    "# 라이브러리 입장에서는 404도 응답이기 때문에 에러가 아니다. \n",
    "# 우리가 그런상황도 error라고 정해 놓고 가된다.\n",
    "\n",
    "# raise Exception('응답코드 : ' + str(404))  의도적 에러 Exception: 응답코드 : 404\n",
    "\n",
    "def execute_rest_api(method, url, headers, params):\n",
    "    if method == 'get':\n",
    "        res = requests.get(url,params=params,headers=headers)\n",
    "    elif method == 'post' :\n",
    "        res = requests.post(url,params=params,headers=headers)\n",
    "    \n",
    "    if res ==None or res.status_code != 200 :\n",
    "        raise Exception('응답코드 : ' + str(res.status_code))\n",
    "        \n",
    "    return res.text"
   ]
  },
  {
   "cell_type": "code",
   "execution_count": 3,
   "id": "858619e2",
   "metadata": {},
   "outputs": [],
   "source": [
    "def cal_std_day(befor_day):   \n",
    "    x = dt.datetime.now() - dt.timedelta(befor_day)\n",
    "    year = x.year\n",
    "    month = x.month if x.month >= 10 else '0'+ str(x.month)\n",
    "    day = x.day if x.day >= 10 else '0'+ str(x.day)  \n",
    "    return str(year)+ '-' +str(month)+ '-' +str(day)"
   ]
  },
  {
   "cell_type": "code",
   "execution_count": 4,
   "id": "54eea011",
   "metadata": {},
   "outputs": [],
   "source": [
    "# 로그만들기\n",
    "import logging\n",
    "# 내가원하는 과정중에 발생한 에러만 골라서 기록하는 로깅이 필요\n",
    "co_logger = logging.getLogger('corona_api')\n",
    "# 로그를 한파일에만 넣으면 나중에 찾기 힘들고 심지어 열기조차 불가능 할 수 있음 -> 이번엔 날짜별로 하자, 하둡은 파일 크기별로함\n",
    "handler = logging.FileHandler('./log/rest_api/'+cal_std_day(0)+'.log')\n",
    "co_logger.addHandler(handler)"
   ]
  },
  {
   "cell_type": "code",
   "execution_count": 5,
   "id": "f50c124e",
   "metadata": {},
   "outputs": [
    {
     "name": "stderr",
     "output_type": "stream",
     "text": [
      "<jemalloc>: MADV_DONTNEED does not work (memset will be used instead)\n",
      "<jemalloc>: (This is the expected behaviour if you are running under QEMU)\n"
     ]
    }
   ],
   "source": [
    "from datetime import date, datetime\n",
    "from pyspark.sql import *\n",
    "from pyspark.sql.types import *\n",
    "from pyspark.sql.functions import *\n",
    "import pandas as pd\n",
    "from bs4 import BeautifulSoup"
   ]
  },
  {
   "cell_type": "code",
   "execution_count": 52,
   "id": "841438c4",
   "metadata": {},
   "outputs": [],
   "source": [
    "# 시장지표 크롤링\n",
    "# 인베스팅.com 주요 주가지수\n",
    "\n",
    "file_dir = '/finance/stock_index/'\n",
    "file_name = 'stock_index_' + str(cal_std_day(0))+'.json'\n",
    "url = 'https://kr.investing.com/indices/major-indices'\n",
    "response_txt = execute_rest_api('get',url,{},{})\n",
    "soup = BeautifulSoup(response_txt, 'html.parser')\n",
    "ops = soup.find('tbody',{'class':'datatable_body__3EPFZ'}).findAll('tr')\n",
    "\n",
    "cols = ['index_name', 'price', 'fluctuation_rate', 'is_rise']\n",
    "data = []\n",
    "for op in ops :\n",
    "    rows=[]\n",
    "    # 지수 이름 : index_name\n",
    "    rows.append(op.findAll('td')[1].find('div').find('a').text)\n",
    "    # 종가 :price\n",
    "    rows.append(op.findAll('td')[2].text.replace(',',''))\n",
    "    # 등락율 : fluctuation_rate\n",
    "    rows.append(op.findAll('td')[6].text.replace('%',''))\n",
    "    # 상승여부 : is_rise\n",
    "    if op.findAll('td')[6].text.replace('%','')[0] == '+' :\n",
    "        rows.append(True)\n",
    "        tmp = dict(zip(cols,rows))\n",
    "        data.append(tmp)\n",
    "    else :\n",
    "        rows.append(False)\n",
    "        tmp = dict(zip(cols,rows))\n",
    "        data.append(tmp)\n",
    "res = {\n",
    "    'meta':{\n",
    "        'desc':'주요 주가 지수',\n",
    "        'cols':{\n",
    "            'index_name':'지수명', 'price':'가격', 'fluctuation_rate':'등락율', 'is_rise':'상승여부'\n",
    "        },\n",
    "        'std_day':cal_std_day(0)\n",
    "    },\n",
    "    'data':data\n",
    "}\n",
    "client.write(file_dir+file_name,json.dumps(res,ensure_ascii=False),encoding='utf-8')"
   ]
  },
  {
   "cell_type": "code",
   "execution_count": 121,
   "id": "92038cc5",
   "metadata": {},
   "outputs": [],
   "source": [
    "# 채권 크롤링\n",
    "# 모을 연도 = [1,2,3,5,10,30]\n",
    "# 모을 국가 한국, 미국, 영국, 일본의 table bond_table_number = [60, 1, 3, 20]\n",
    "\n",
    "file_dir = '/finance/sovereign_yield/'\n",
    "file_name = 'sovereign_yield_' + str(cal_std_day(0))+'.json'\n",
    "base_url = 'https://kr.investing.com/rates-bonds/'\n",
    "url_list = ['south-korea-government-bonds', 'americas-government-bonds', 'european-government-bonds','asian-pacific-government-bonds']\n",
    "url = base_url + url_list[0]\n",
    "response_txt = execute_rest_api('get',url,{},{})\n",
    "soup = BeautifulSoup(response_txt, 'html.parser')\n",
    "def get_ops(num):\n",
    "    bond_table_number = ['cr1', 'bond_table_1', 'bond_table_3', 'bond_table_20']\n",
    "    return soup.find('table', {'id':bond_table_number[int(num)]})\n",
    "get_ops(0)\n",
    "cols = ['country_name', 'product_name', 'price', 'fluctuation_rate', 'is_rise']\n",
    "# 모을 연도 = [1,2,3,5,10,30]\n",
    "# 한국국, 미국, 영국, 일본\n",
    "data = []\n",
    "for i in range(4):\n",
    "    url = base_url + url_list[i]\n",
    "    response_txt = execute_rest_api('get',url,{},{})\n",
    "    soup = BeautifulSoup(response_txt, 'html.parser')\n",
    "\n",
    "    for ops in get_ops(i):\n",
    "        if len(ops) > 1 :\n",
    "            for op in ops.findAll('tr'):\n",
    "                rows = []\n",
    "                # 모을 연도 = [1,2,3,5,10,30]\n",
    "                # 국가명, 종목, 가격, 변동율, 상승여부\n",
    "                price_year = op.findAll('td')[1].find('a').text\n",
    "                if (('1년' in price_year) or ('2년' in price_year) or ('3년' in price_year) or ('5년' in price_year) or ('10년' in price_year) or ('30년' in price_year)) and ('12년' not in price_year) and ('15년' not in price_year) and ('25년' not in price_year) :\n",
    "                    rows.append(op.findAll('td')[0].find('span')['title'])\n",
    "                    rows.append(op.findAll('td')[1].find('a').text)\n",
    "                    rows.append(op.findAll('td')[3].text)\n",
    "                    rows.append(op.findAll('td')[7].text.replace('%',''))\n",
    "                    if op.findAll('td')[7].text.replace('%','')[0] == '+':\n",
    "                        rows.append(True)\n",
    "                        tmp = dict(zip(cols,rows))\n",
    "                        data.append(tmp)\n",
    "                    else : \n",
    "                        rows.append(False)\n",
    "                        tmp = dict(zip(cols,rows))\n",
    "                        data.append(tmp)\n",
    "res = {\n",
    "    'meta':{\n",
    "        'desc':'한국,미국,영국,일본 국채 금리',\n",
    "        'cols':{\n",
    "            'country_name':'국가명', 'product_name':'종목명', 'price':'가격', 'fluctuation_rate':'등락율(%)', 'is_rise':'상승여부'\n",
    "        },\n",
    "        'std_day':cal_std_day(0)\n",
    "    },\n",
    "    'data':data\n",
    "}\n",
    "client.write(file_dir+file_name,json.dumps(res,ensure_ascii=False),encoding='utf-8')"
   ]
  },
  {
   "cell_type": "code",
   "execution_count": 74,
   "id": "f5f45493",
   "metadata": {},
   "outputs": [],
   "source": [
    "## 중앙은행의 이자율\n",
    "file_dir = '/finance/cetral_bank_interest_rate/'\n",
    "file_name = 'cental_interest_' + str(cal_std_day(0))+'.json'\n",
    "url = 'https://kr.investing.com/central-banks/'\n",
    "response_txt = execute_rest_api('get',url,{},{})\n",
    "soup = BeautifulSoup(response_txt, 'html.parser')\n",
    "ops = soup.find('table',{'id':'curr_table'}).findAll('tr')[1:]\n",
    "\n",
    "cols = ['ctr_bank', 'cur_inter', 'next_conference', 'latest_change_date', 'latest_chage_point', 'is_rise']\n",
    "data = []\n",
    "# 중앙은행\n",
    "\n",
    "for op in ops:\n",
    "    rows = []\n",
    "    rows.append(op.findAll('td')[1].text)\n",
    "    # 현재금리, 다음회의, 최근변동일, 최근변동포인트, 상승여부\n",
    "    rows.append(op.findAll('td')[2].text)\n",
    "    rows.append(op.findAll('td')[3].text.replace('년','').replace('월','').replace('일','').replace(' ','-')[1:][:-1])\n",
    "    rows.append(op.findAll('td')[4].text[:13].replace('년','').replace('월','').replace('일','').replace(' ','-'))\n",
    "    rows.append(op.findAll('td')[4].text[14:].replace('(','').replace(')','').replace('bp',''))\n",
    "    if op.findAll('td')[4].text[14:].replace('(','').replace(')','').replace('bp','')[0] == '-':\n",
    "        rows.append(False)\n",
    "        tmp = dict(zip(cols,rows))\n",
    "        data.append(tmp)\n",
    "    else:\n",
    "        rows.append(True)\n",
    "        tmp = dict(zip(cols,rows))\n",
    "        data.append(tmp)\n",
    "res = {\n",
    "    'meta':{\n",
    "        'desc':'세계주요국의 중앙은행의 이자율',\n",
    "        'cols':{\n",
    "            'ctr_bank':'중앙은행', 'cur_inter':'현재 금리', 'next_conference':'다음 회의일자', 'latest_change_date':'최근변동일자',\n",
    "            'latest_chage_point':'최근변동포인트', 'is_rise':'상승여부'\n",
    "        },\n",
    "        'std_day':cal_std_day(0)\n",
    "    },\n",
    "    'data':data\n",
    "}\n",
    "client.write(file_dir+file_name,json.dumps(res,ensure_ascii=False),encoding='utf-8')"
   ]
  },
  {
   "cell_type": "code",
   "execution_count": 72,
   "id": "d7d18744",
   "metadata": {},
   "outputs": [
    {
     "name": "stdout",
     "output_type": "stream",
     "text": [
      "True\n"
     ]
    }
   ],
   "source": []
  }
 ],
 "metadata": {
  "kernelspec": {
   "display_name": "Python 3 (ipykernel)",
   "language": "python",
   "name": "python3"
  },
  "language_info": {
   "codemirror_mode": {
    "name": "ipython",
    "version": 3
   },
   "file_extension": ".py",
   "mimetype": "text/x-python",
   "name": "python",
   "nbconvert_exporter": "python",
   "pygments_lexer": "ipython3",
   "version": "3.8.10"
  }
 },
 "nbformat": 4,
 "nbformat_minor": 5
}
