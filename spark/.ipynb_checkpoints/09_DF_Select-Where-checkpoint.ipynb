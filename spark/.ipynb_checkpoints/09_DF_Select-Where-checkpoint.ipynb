{
 "cells": [
  {
   "cell_type": "code",
   "execution_count": 1,
   "metadata": {},
   "outputs": [],
   "source": [
    "from IPython.core.interactiveshell import InteractiveShell\n",
    "InteractiveShell.ast_node_interactivity = \"all\""
   ]
  },
  {
   "cell_type": "code",
   "execution_count": 2,
   "metadata": {},
   "outputs": [],
   "source": [
    "from datetime import date, datetime\n",
    "from pyspark.sql import *\n",
    "from pyspark.sql.types import *\n",
    "from pyspark.sql.functions import *\n"
   ]
  },
  {
   "cell_type": "markdown",
   "metadata": {},
   "source": [
    "## select()"
   ]
  },
  {
   "cell_type": "code",
   "execution_count": 3,
   "metadata": {},
   "outputs": [
    {
     "name": "stderr",
     "output_type": "stream",
     "text": [
      "                                                                                \r"
     ]
    },
    {
     "data": {
      "text/plain": [
       "DataFrame[class_cd: string, school: string, class_std_cnt: string, loc: string, school_type: string, teaching_type: string]"
      ]
     },
     "execution_count": 3,
     "metadata": {},
     "output_type": "execute_result"
    }
   ],
   "source": [
    "# DataFrame.select(*cols)[source]\n",
    "# Parameters\n",
    "# cols : str, Column, or list\n",
    "# column names (string) or expressions (Column). \n",
    "#If one of the column names is ‘*’, that column is expanded to include all columns in the current DataFrame.\n",
    "\n",
    "class_df = spark.read.csv('/dataframe/a_class_info.csv', header=True)\n",
    "class_df"
   ]
  },
  {
   "cell_type": "code",
   "execution_count": 34,
   "metadata": {},
   "outputs": [
    {
     "data": {
      "text/plain": [
       "['class_cd', 'school', 'class_std_cnt', 'loc', 'school_type', 'teaching_type']"
      ]
     },
     "execution_count": 34,
     "metadata": {},
     "output_type": "execute_result"
    }
   ],
   "source": [
    "class_df.columns\n",
    "class_df1=class_df.select('class_cd', 'school', class_df.class_std_cnt.cast('int'), 'loc', 'school_type', 'teaching_type')"
   ]
  },
  {
   "cell_type": "code",
   "execution_count": 8,
   "metadata": {},
   "outputs": [
    {
     "name": "stderr",
     "output_type": "stream",
     "text": [
      "                                                                                \r"
     ]
    },
    {
     "name": "stdout",
     "output_type": "stream",
     "text": [
      "+------+--------+\n",
      "|school|     loc|\n",
      "+------+--------+\n",
      "| ANKYI|   Urban|\n",
      "| ANKYI|   Urban|\n",
      "| CCAAW|Suburban|\n",
      "+------+--------+\n",
      "only showing top 3 rows\n",
      "\n"
     ]
    },
    {
     "name": "stderr",
     "output_type": "stream",
     "text": [
      "                                                                                \r"
     ]
    },
    {
     "name": "stdout",
     "output_type": "stream",
     "text": [
      "+--------+------+-------------+--------+-----------+-------------+\n",
      "|class_cd|school|class_std_cnt|     loc|school_type|teaching_type|\n",
      "+--------+------+-------------+--------+-----------+-------------+\n",
      "|     6OL| ANKYI|           20|   Urban| Non-public|     Standard|\n",
      "|     ZNS| ANKYI|           21|   Urban| Non-public|     Standard|\n",
      "|     2B1| CCAAW|           18|Suburban| Non-public| Experimental|\n",
      "+--------+------+-------------+--------+-----------+-------------+\n",
      "only showing top 3 rows\n",
      "\n"
     ]
    },
    {
     "name": "stderr",
     "output_type": "stream",
     "text": [
      "\r",
      "[Stage 8:>                                                          (0 + 1) / 1]\r"
     ]
    },
    {
     "name": "stdout",
     "output_type": "stream",
     "text": [
      "+------+--------+\n",
      "|school|     loc|\n",
      "+------+--------+\n",
      "| ANKYI|   Urban|\n",
      "| ANKYI|   Urban|\n",
      "| CCAAW|Suburban|\n",
      "+------+--------+\n",
      "only showing top 3 rows\n",
      "\n"
     ]
    },
    {
     "name": "stderr",
     "output_type": "stream",
     "text": [
      "\r",
      "                                                                                \r"
     ]
    }
   ],
   "source": [
    "# str \n",
    "# DataFrame.select(*cols: ColumnOrName)\n",
    "# col을 무한으로 넣을 수 있고 dataframe 객체를 반환\n",
    "df_spark = class_df.select('school','loc')\n",
    "df_spark.show(3)\n",
    "\n",
    "# *\n",
    "df_spark = class_df.select('*')\n",
    "df_spark.show(3)\n",
    "\n",
    "# list\n",
    "df_spark = class_df.select(['school','loc'])\n",
    "df_spark.show(3)"
   ]
  },
  {
   "cell_type": "markdown",
   "metadata": {},
   "source": [
    "#### Column "
   ]
  },
  {
   "cell_type": "code",
   "execution_count": 4,
   "metadata": {},
   "outputs": [
    {
     "data": {
      "text/plain": [
       "Column<'school'>"
      ]
     },
     "execution_count": 4,
     "metadata": {},
     "output_type": "execute_result"
    },
    {
     "data": {
      "text/plain": [
       "Column<'school'>"
      ]
     },
     "execution_count": 4,
     "metadata": {},
     "output_type": "execute_result"
    },
    {
     "data": {
      "text/plain": [
       "Column<'unresolvedregex()'>"
      ]
     },
     "execution_count": 4,
     "metadata": {},
     "output_type": "execute_result"
    },
    {
     "data": {
      "text/plain": [
       "Column<'school'>"
      ]
     },
     "execution_count": 4,
     "metadata": {},
     "output_type": "execute_result"
    }
   ],
   "source": [
    "# Colunm : 내부에 DataFrame 연산을 위한 Expression을 가지고 있는 객체\n",
    "col('school')\n",
    "\n",
    "\n",
    "# 데이터프레임에서 원하는 컬럼을 반환\n",
    "class_df.school\n",
    "\n",
    "# 정규표현식 : Column<'unresolvedregex()'> : 수행되지않은 정규표현식\n",
    "class_df.colRegex(\"`^school.*`\")\n",
    "\n",
    "# list함수로 컬럼객체 반환\n",
    "lit('school')\n",
    "\n",
    "#"
   ]
  },
  {
   "cell_type": "code",
   "execution_count": 26,
   "metadata": {},
   "outputs": [
    {
     "name": "stderr",
     "output_type": "stream",
     "text": [
      "                                                                                \r"
     ]
    },
    {
     "name": "stdout",
     "output_type": "stream",
     "text": [
      "+------+\n",
      "|school|\n",
      "+------+\n",
      "|school|\n",
      "|school|\n",
      "|school|\n",
      "+------+\n",
      "only showing top 3 rows\n",
      "\n"
     ]
    },
    {
     "name": "stderr",
     "output_type": "stream",
     "text": [
      "                                                                                \r"
     ]
    },
    {
     "name": "stdout",
     "output_type": "stream",
     "text": [
      "+------+\n",
      "|school|\n",
      "+------+\n",
      "|school|\n",
      "|school|\n",
      "|school|\n",
      "+------+\n",
      "only showing top 3 rows\n",
      "\n"
     ]
    },
    {
     "name": "stderr",
     "output_type": "stream",
     "text": [
      "                                                                                \r"
     ]
    },
    {
     "name": "stdout",
     "output_type": "stream",
     "text": [
      "+------+\n",
      "|school|\n",
      "+------+\n",
      "|school|\n",
      "|school|\n",
      "|school|\n",
      "+------+\n",
      "only showing top 3 rows\n",
      "\n"
     ]
    },
    {
     "name": "stderr",
     "output_type": "stream",
     "text": [
      "\r",
      "[Stage 22:>                                                         (0 + 1) / 1]\r",
      "\r",
      "                                                                                \r"
     ]
    },
    {
     "name": "stdout",
     "output_type": "stream",
     "text": [
      "+------+\n",
      "|school|\n",
      "+------+\n",
      "|school|\n",
      "|school|\n",
      "|school|\n",
      "+------+\n",
      "only showing top 3 rows\n",
      "\n"
     ]
    }
   ],
   "source": [
    "class_df = class_df.select(col('school'))\n",
    "class_df.show(3)\n",
    "\n",
    "class_df = class_df.select(class_df.colRegex(\"`^school.*`\"))\n",
    "class_df.show(3)\n",
    "\n",
    "class_df = class_df.select(lit('school'))\n",
    "class_df.show(3)\n",
    "\n",
    "\n",
    "# 다른 데이터프레임 객체에서만 df이름.column이름 으로 해당 컬럼을 불러올 수 있음 같은 데이터 프레임에만 사용 가능\n",
    "class_df = class_df.select(class_df.school)\n",
    "class_df.show(3)\n",
    "\n"
   ]
  },
  {
   "cell_type": "markdown",
   "metadata": {},
   "source": [
    "#### Column 연산"
   ]
  },
  {
   "cell_type": "markdown",
   "metadata": {},
   "source": [
    "- 산술연산 :  +  -  *  /  %\n",
    "- 비교연산 : <  >  <=  >=  ==  !=\n",
    "- 논리연산 : &  |\n",
    "\n",
    "\n"
   ]
  },
  {
   "cell_type": "markdown",
   "metadata": {},
   "source": [
    "![op-overloading](./img/op_overloading.png)"
   ]
  },
  {
   "cell_type": "code",
   "execution_count": 9,
   "metadata": {},
   "outputs": [
    {
     "data": {
      "text/plain": [
       "Column<'(class_std_cnt + 100)'>"
      ]
     },
     "execution_count": 9,
     "metadata": {},
     "output_type": "execute_result"
    },
    {
     "data": {
      "text/plain": [
       "Column<'(class_std_cnt - 100)'>"
      ]
     },
     "execution_count": 9,
     "metadata": {},
     "output_type": "execute_result"
    },
    {
     "data": {
      "text/plain": [
       "Column<'(class_std_cnt / 100)'>"
      ]
     },
     "execution_count": 9,
     "metadata": {},
     "output_type": "execute_result"
    },
    {
     "data": {
      "text/plain": [
       "Column<'(class_std_cnt % 100)'>"
      ]
     },
     "execution_count": 9,
     "metadata": {},
     "output_type": "execute_result"
    },
    {
     "data": {
      "text/plain": [
       "Column<'(class_std_cnt < 100)'>"
      ]
     },
     "execution_count": 9,
     "metadata": {},
     "output_type": "execute_result"
    },
    {
     "data": {
      "text/plain": [
       "Column<'(class_std_cnt > 100)'>"
      ]
     },
     "execution_count": 9,
     "metadata": {},
     "output_type": "execute_result"
    },
    {
     "data": {
      "text/plain": [
       "Column<'(class_std_cnt <= 100)'>"
      ]
     },
     "execution_count": 9,
     "metadata": {},
     "output_type": "execute_result"
    },
    {
     "data": {
      "text/plain": [
       "Column<'((class_std_cnt >= 100) AND (class_std_cnt >= 1000))'>"
      ]
     },
     "execution_count": 9,
     "metadata": {},
     "output_type": "execute_result"
    },
    {
     "name": "stderr",
     "output_type": "stream",
     "text": [
      "                                                                                \r"
     ]
    },
    {
     "name": "stdout",
     "output_type": "stream",
     "text": [
      "+------+--------+-------------------------------------------------+\n",
      "|school|class_cd|((class_std_cnt >= 10) AND (class_std_cnt >= 20))|\n",
      "+------+--------+-------------------------------------------------+\n",
      "| ANKYI|     6OL|                                             true|\n",
      "| ANKYI|     ZNS|                                             true|\n",
      "| CCAAW|     2B1|                                            false|\n",
      "+------+--------+-------------------------------------------------+\n",
      "only showing top 3 rows\n",
      "\n",
      "+------+--------+------+\n",
      "|school|class_cd|is_big|\n",
      "+------+--------+------+\n",
      "| ANKYI|     6OL|  true|\n",
      "| ANKYI|     ZNS|  true|\n",
      "| CCAAW|     2B1| false|\n",
      "+------+--------+------+\n",
      "only showing top 3 rows\n",
      "\n"
     ]
    },
    {
     "name": "stderr",
     "output_type": "stream",
     "text": [
      "\r",
      "[Stage 12:>                                                         (0 + 1) / 1]\r"
     ]
    },
    {
     "name": "stdout",
     "output_type": "stream",
     "text": [
      "+------+--------+------+\n",
      "|school|class_cd|10이하|\n",
      "+------+--------+------+\n",
      "| ANKYI|     6OL| false|\n",
      "| ANKYI|     ZNS| false|\n",
      "| DNQDD|     2AP| false|\n",
      "+------+--------+------+\n",
      "only showing top 3 rows\n",
      "\n"
     ]
    },
    {
     "name": "stderr",
     "output_type": "stream",
     "text": [
      "\r",
      "                                                                                \r"
     ]
    }
   ],
   "source": [
    "# 10을 더한다는 말은 class_std_cnt라는 컬럼객체의 각셀에 10을 더한다는 \n",
    "# 컬럼에다 값을 저장한다는게 아니고\n",
    "# 컬럼을 호출할 논리계획을 세우는 것\n",
    "# 아래연산의 실행결과는 column객체\n",
    "class_df.class_std_cnt+100\n",
    "class_df.class_std_cnt  - 100\n",
    "class_df.class_std_cnt  / 100\n",
    "class_df.class_std_cnt  % 100\n",
    "class_df.class_std_cnt  < 100\n",
    "class_df.class_std_cnt  > 100\n",
    "class_df.class_std_cnt  <= 100\n",
    "(class_df.class_std_cnt  >= 100) &(class_df.class_std_cnt  >= 1000)\n",
    "\n",
    "# DataFrame의 select 메서드에서 새로운 컬럼을 전달인자로 보낼 경우 해당 컬림이 추가된 새로운 DataFrame이 생성된다.\n",
    "class_df.select(class_df.school, class_df.class_cd, (class_df.class_std_cnt  >= 10) &(class_df.class_std_cnt  >= 20)).show(3)\n",
    "#  컬럼이름이 가독성 떨어짐 : columnname : (class_df.class_std_cnt  >= 10) &(class_df.class_std_cnt  >= 20) \n",
    "# alias() 함수로 컬럼이름 바꿔줌 또한 해당 함수는 column 객체를 반환 이 객체를 변수에 선언하여 사용 가능\n",
    "# Column.alias(*alias: str, **kwargs: Any) → pyspark.sql.column.Column\n",
    "col_is_big = ((class_df.class_std_cnt  >= 10) &(class_df.class_std_cnt  >= 20)).alias('is_big')\n",
    "# 결과\n",
    "\n",
    "class_df.select(class_df.school, class_df.class_cd, col_is_big).show(3)\n",
    "class_df.select(class_df.school, class_df.class_cd, (class_df.class_std_cnt <10).alias('10이하')) \\\n",
    "            .where(class_df.school.like('%N%')).show(3)"
   ]
  },
  {
   "cell_type": "markdown",
   "metadata": {},
   "source": [
    "#### Column 메서드"
   ]
  },
  {
   "cell_type": "code",
   "execution_count": 47,
   "metadata": {
    "collapsed": true
   },
   "outputs": [
    {
     "data": {
      "text/plain": [
       "Column<'class_std_cnt ASC NULLS FIRST'>"
      ]
     },
     "execution_count": 47,
     "metadata": {},
     "output_type": "execute_result"
    },
    {
     "name": "stderr",
     "output_type": "stream",
     "text": [
      "                                                                                \r"
     ]
    },
    {
     "name": "stdout",
     "output_type": "stream",
     "text": [
      "+------+--------+-------------+\n",
      "|school|class_cd|class_std_cnt|\n",
      "+------+--------+-------------+\n",
      "|  null|     4SZ|         null|\n",
      "|  null|     6PP|         null|\n",
      "|  null|     5SD|         null|\n",
      "|  null|     MDE|           10|\n",
      "| FBUMG|     197|           14|\n",
      "| FBUMG|     JGD|           14|\n",
      "| VHDHF|     KR1|           15|\n",
      "| CCAAW|     IQN|           15|\n",
      "| UUUQX|     SSP|           15|\n",
      "| CCAAW|     UHU|           16|\n",
      "| UUUQX|     H7S|           16|\n",
      "| UUUQX|     6C1|           16|\n",
      "| VHDHF|     J6X|           16|\n",
      "| IDGFP|     P2A|           17|\n",
      "| IDGFP|     XZM|           17|\n",
      "| LAYPA|     RA5|           17|\n",
      "| CIMBB|     HUJ|           17|\n",
      "| UUUQX|     AE1|           17|\n",
      "| IDGFP|     G2L|           17|\n",
      "| OJOBU|     5SZ|           17|\n",
      "| CIMBB|     PC6|           17|\n",
      "| UKPGS|     KXB|           18|\n",
      "| VKWQH|     341|           18|\n",
      "| CCAAW|     2B1|           18|\n",
      "| FBUMG|     5LQ|           18|\n",
      "|  null|     MDS|           18|\n",
      "| GOKXL|     VA6|           19|\n",
      "| UKPGS|     IPU|           19|\n",
      "| CIMBB|     A33|           19|\n",
      "| LAYPA|     J8J|           19|\n",
      "| OJOBU|     FS3|           19|\n",
      "| VKWQH|     DFQ|           19|\n",
      "| CCAAW|     UWK|           19|\n",
      "| DNQDD|     ST7|           20|\n",
      "| CCAAW|     EPS|           20|\n",
      "| DNQDD|     PW5|           20|\n",
      "| KZKKE|     2BR|           20|\n",
      "| UUUQX|     P8I|           20|\n",
      "| VHDHF|     CD8|           20|\n",
      "| VKWQH|     GYM|           20|\n",
      "| ANKYI|     6OL|           20|\n",
      "| ANKYI|     ZNS|           21|\n",
      "| VKWQH|     D33|           21|\n",
      "| LAYPA|     AJ1|           21|\n",
      "| CCAAW|     PGK|           21|\n",
      "| GJJHK|     X78|           21|\n",
      "| UAGPU|     S98|           21|\n",
      "| UAGPU|     NWZ|           21|\n",
      "| CIMBB|     EID|           21|\n",
      "| GJJHK|     YUC|           21|\n",
      "| IDGFP|     98D|           21|\n",
      "| UKPGS|     08N|           21|\n",
      "| KZKKE|     3D0|           22|\n",
      "| KZKKE|     O6A|           22|\n",
      "| QOQTS|     XZ4|           22|\n",
      "| ZMNYA|     4NN|           22|\n",
      "| OJOBU|     6U9|           22|\n",
      "| UAGPU|     1SZ|           22|\n",
      "| UKPGS|     XXE|           22|\n",
      "| GJJHK|     HCB|           22|\n",
      "| GOKXL|     ENO|           22|\n",
      "| QOQTS|     RK7|           22|\n",
      "| VKWQH|     IEM|           22|\n",
      "| IDGFP|     05H|           22|\n",
      "| OJOBU|     XJ8|           23|\n",
      "| UAGPU|     62L|           23|\n",
      "| UKPGS|     PGH|           23|\n",
      "| GOKXL|     TSA|           23|\n",
      "| ZMNYA|     V77|           23|\n",
      "| KZKKE|     QTU|           23|\n",
      "| CUQAM|     X6Z|           24|\n",
      "| QOQTS|     3XJ|           24|\n",
      "| GOOBU|     CXC|           24|\n",
      "| ZMNYA|     1UU|           24|\n",
      "| GOOBU|     PBA|           24|\n",
      "| KZKKE|     5JK|           24|\n",
      "| QOQTS|     X2O|           25|\n",
      "| UKPGS|     9AW|           25|\n",
      "| VVTVA|     TB5|           25|\n",
      "| KFZMY|     21Q|           25|\n",
      "| GOOBU|     U6J|           25|\n",
      "| GOOBU|     W8A|           26|\n",
      "| GJJHK|     NOR|           27|\n",
      "| GJJHK|     ZDT|           27|\n",
      "| DNQDD|     XXJ|           27|\n",
      "| KFZMY|     1VD|           27|\n",
      "| DNQDD|     2AP|           27|\n",
      "| ZOWMK|     CII|           27|\n",
      "| CUQAM|     BFY|           27|\n",
      "| CUQAM|     OMI|           28|\n",
      "| DNQDD|     ROP|           28|\n",
      "| GOOBU|     HKF|           28|\n",
      "| QOQTS|     0N7|           28|\n",
      "| CUQAM|     1Q1|           28|\n",
      "| QOQTS|     SUR|           28|\n",
      "| VVTVA|     7BL|           29|\n",
      "| VVTVA|     A93|           30|\n",
      "| VVTVA|     YTB|           30|\n",
      "| ZOWMK|     Q0E|           30|\n",
      "| ZOWMK|     QA2|           30|\n",
      "+------+--------+-------------+\n",
      "only showing top 100 rows\n",
      "\n"
     ]
    },
    {
     "name": "stderr",
     "output_type": "stream",
     "text": [
      "\r",
      "[Stage 38:>                                                         (0 + 1) / 1]\r"
     ]
    },
    {
     "name": "stdout",
     "output_type": "stream",
     "text": [
      "+------+--------+-------------+\n",
      "|school|class_cd|class_std_cnt|\n",
      "+------+--------+-------------+\n",
      "| GOOBU|     18K|           31|\n",
      "| VVTVA|     A93|           30|\n",
      "| VVTVA|     YTB|           30|\n",
      "| ZOWMK|     Q0E|           30|\n",
      "| ZOWMK|     QA2|           30|\n",
      "| ZOWMK|     ZBH|           30|\n",
      "| VVTVA|     7BL|           29|\n",
      "| CUQAM|     1Q1|           28|\n",
      "| QOQTS|     0N7|           28|\n",
      "| CUQAM|     OMI|           28|\n",
      "| DNQDD|     ROP|           28|\n",
      "| GOOBU|     HKF|           28|\n",
      "| QOQTS|     SUR|           28|\n",
      "| GJJHK|     NOR|           27|\n",
      "| GJJHK|     ZDT|           27|\n",
      "| KFZMY|     1VD|           27|\n",
      "| ZOWMK|     CII|           27|\n",
      "| CUQAM|     BFY|           27|\n",
      "| DNQDD|     XXJ|           27|\n",
      "| DNQDD|     2AP|           27|\n",
      "| GOOBU|     W8A|           26|\n",
      "| UKPGS|     9AW|           25|\n",
      "| VVTVA|     TB5|           25|\n",
      "| GOOBU|     U6J|           25|\n",
      "| KFZMY|     21Q|           25|\n",
      "| QOQTS|     X2O|           25|\n",
      "| GOOBU|     PBA|           24|\n",
      "| CUQAM|     X6Z|           24|\n",
      "| GOOBU|     CXC|           24|\n",
      "| KZKKE|     5JK|           24|\n",
      "| QOQTS|     3XJ|           24|\n",
      "| ZMNYA|     1UU|           24|\n",
      "| OJOBU|     XJ8|           23|\n",
      "| KZKKE|     QTU|           23|\n",
      "| UKPGS|     PGH|           23|\n",
      "| UAGPU|     62L|           23|\n",
      "| ZMNYA|     V77|           23|\n",
      "| GOKXL|     TSA|           23|\n",
      "| UKPGS|     XXE|           22|\n",
      "| GOKXL|     ENO|           22|\n",
      "| KZKKE|     3D0|           22|\n",
      "| OJOBU|     6U9|           22|\n",
      "| VKWQH|     IEM|           22|\n",
      "| GJJHK|     HCB|           22|\n",
      "| IDGFP|     05H|           22|\n",
      "| KZKKE|     O6A|           22|\n",
      "| QOQTS|     RK7|           22|\n",
      "| QOQTS|     XZ4|           22|\n",
      "| UAGPU|     1SZ|           22|\n",
      "| ZMNYA|     4NN|           22|\n",
      "| ANKYI|     ZNS|           21|\n",
      "| GJJHK|     X78|           21|\n",
      "| LAYPA|     AJ1|           21|\n",
      "| CCAAW|     PGK|           21|\n",
      "| GJJHK|     YUC|           21|\n",
      "| UAGPU|     NWZ|           21|\n",
      "| VKWQH|     D33|           21|\n",
      "| IDGFP|     98D|           21|\n",
      "| UAGPU|     S98|           21|\n",
      "| UKPGS|     08N|           21|\n",
      "| CIMBB|     EID|           21|\n",
      "| DNQDD|     PW5|           20|\n",
      "| UUUQX|     P8I|           20|\n",
      "| DNQDD|     ST7|           20|\n",
      "| VKWQH|     GYM|           20|\n",
      "| KZKKE|     2BR|           20|\n",
      "| CCAAW|     EPS|           20|\n",
      "| VHDHF|     CD8|           20|\n",
      "| ANKYI|     6OL|           20|\n",
      "| CCAAW|     UWK|           19|\n",
      "| OJOBU|     FS3|           19|\n",
      "| CIMBB|     A33|           19|\n",
      "| UKPGS|     IPU|           19|\n",
      "| VKWQH|     DFQ|           19|\n",
      "| GOKXL|     VA6|           19|\n",
      "| LAYPA|     J8J|           19|\n",
      "|  null|     MDS|           18|\n",
      "| UKPGS|     KXB|           18|\n",
      "| VKWQH|     341|           18|\n",
      "| FBUMG|     5LQ|           18|\n",
      "| CCAAW|     2B1|           18|\n",
      "| IDGFP|     P2A|           17|\n",
      "| IDGFP|     XZM|           17|\n",
      "| IDGFP|     G2L|           17|\n",
      "| LAYPA|     RA5|           17|\n",
      "| OJOBU|     5SZ|           17|\n",
      "| CIMBB|     PC6|           17|\n",
      "| UUUQX|     AE1|           17|\n",
      "| CIMBB|     HUJ|           17|\n",
      "| CCAAW|     UHU|           16|\n",
      "| UUUQX|     6C1|           16|\n",
      "| UUUQX|     H7S|           16|\n",
      "| VHDHF|     J6X|           16|\n",
      "| UUUQX|     SSP|           15|\n",
      "| VHDHF|     KR1|           15|\n",
      "| CCAAW|     IQN|           15|\n",
      "| FBUMG|     197|           14|\n",
      "| FBUMG|     JGD|           14|\n",
      "|  null|     MDE|           10|\n",
      "|  null|     6PP|         null|\n",
      "+------+--------+-------------+\n",
      "only showing top 100 rows\n",
      "\n"
     ]
    },
    {
     "name": "stderr",
     "output_type": "stream",
     "text": [
      "\r",
      "                                                                                \r"
     ]
    }
   ],
   "source": [
    "school = class_df.school # 컬럼객체 셀렉트 문에 활용가능\n",
    "class_cd = class_df.class_cd\n",
    "std_cnt = class_df.class_std_cnt\n",
    "\n",
    "std_cnt .asc() # 컬럼객체\n",
    "# class_df.select(school, class_cd, std_cnt.asc()).show(3) # 이 구문은 오류 \n",
    "\n",
    "# 아래 코드로 사용\n",
    "# DataFrame.sort(*cols: Union[str, pyspark.sql.column.Column, List[Union[str, pyspark.sql.column.Column]]], **kwargs: Any) \n",
    "# → pyspark.sql.dataframe.DataFrame\n",
    "\n",
    "# asc()는 sort된 DataFrame객체를 기반으로 작동하기 때문에 select()에 바로 넣으면 오류가 난다.\n",
    "class_df.select(school, class_cd,std_cnt).sort(std_cnt.asc()).show(100) \n",
    "# Column<'class_std_cnt ASC NULLS FIRST'> \n",
    "\n",
    "# 내림차순정렬\n",
    "# Column.desc() → pyspark.sql.column.Column\n",
    "class_df.select(school, class_cd,std_cnt).sort(std_cnt.desc()).show(100) "
   ]
  },
  {
   "cell_type": "markdown",
   "metadata": {},
   "source": [
    "## select 연습"
   ]
  },
  {
   "cell_type": "markdown",
   "metadata": {},
   "source": [
    "DataFrame은 class_df 를 사용합니다\n",
    "\n",
    "1. 모든 row의  class_cd, school, loc, school_type, teaching_type을 출력하시오.  \n",
    "   school_type의 컬럼명은 '공립/사립여부' 로 표시합니다.\n",
    "   \n",
    "   \n",
    "2. class_cd, school, scale 을 출력하시오.   \n",
    "   scale 컬럼은 반의 인원수가 15명 미만이면 small, 15명 이상 25명 미만이면 middle, 25명 이상이면 big 값을 가집니다.\n",
    "   \n",
    "   \n",
    "3. class_cd, school, class_std_cnt를 출력하시오  \n",
    "   class_std_cnt 컬럼의 값들은 string타입으로 형변환합니다."
   ]
  },
  {
   "cell_type": "code",
   "execution_count": 27,
   "metadata": {},
   "outputs": [
    {
     "name": "stderr",
     "output_type": "stream",
     "text": [
      "\r",
      "[Stage 32:>                                                         (0 + 1) / 1]\r",
      "\r",
      "                                                                                \r"
     ]
    },
    {
     "name": "stdout",
     "output_type": "stream",
     "text": [
      "+--------+------+------+\n",
      "|class_cd|school| scale|\n",
      "+--------+------+------+\n",
      "|     6OL| ANKYI|middle|\n",
      "|     ZNS| ANKYI|middle|\n",
      "|     2B1| CCAAW|middle|\n",
      "+--------+------+------+\n",
      "only showing top 3 rows\n",
      "\n"
     ]
    },
    {
     "name": "stderr",
     "output_type": "stream",
     "text": [
      "\r",
      "[Stage 33:>                                                         (0 + 1) / 1]\r",
      "\r",
      "                                                                                \r"
     ]
    },
    {
     "name": "stdout",
     "output_type": "stream",
     "text": [
      "+--------+-------------+\n",
      "|class_cd|class_std_cnt|\n",
      "+--------+-------------+\n",
      "|     6OL|           20|\n",
      "|     ZNS|           21|\n",
      "|     2B1|           18|\n",
      "+--------+-------------+\n",
      "only showing top 3 rows\n",
      "\n"
     ]
    }
   ],
   "source": [
    "# class_df.class_cd\n",
    "# class_df.school\n",
    "# class_df.loc\n",
    "# class_df.school_type\n",
    "# class_df.teaching_type\n",
    "\n",
    "# 모든 row의 class_cd, school, loc, school_type, teaching_type을 출력하시오.\n",
    "#school_type의 컬럼명은 '공립/사립여부' 로 표시합니다.\n",
    "# class_df.select(class_df.class_cd,class_df.school,class_df.loc,class_df.school_type.alias('공립/사립여부'),class_df.teaching_type).show(3)\n",
    "\n",
    "\n",
    "# class_cd, school, scale 을 출력하시오.\n",
    "# scale 컬럼은 반의 인원수가 15명 미만이면 small, 15명 이상 25명 미만이면 middle, 25명 이상이면 big 값을 가집니다.\n",
    "# class_df.select(class_df.class_cd, class_df.school, class_df.scale)\n",
    "class_df1 = class_df.withColumn('scale', when(class_df.class_std_cnt < 25 , 'middle')\n",
    "                   .when(class_df.class_std_cnt < 15, 'small')\n",
    "                   .otherwise('big'))\n",
    "class_df1.select(class_df1.class_cd, class_df1.school, class_df1.scale).show(3)\n",
    "\n",
    "# lass_cd, school, class_std_cnt를 출력하시오\n",
    "# class_std_cnt 컬럼의 값들은 string타입으로 형변환합니다.\n",
    "# class_df.class_std_cnt.cast('string')\n",
    "class_df.select(class_df.class_cd, class_df.class_std_cnt.cast('int')).show(3)\n",
    "class_df.select(class_df.class_cd, class_df.class_std_cnt.cast('int'))\n",
    "\n",
    "\n",
    "\n",
    "\n"
   ]
  },
  {
   "cell_type": "code",
   "execution_count": 4,
   "metadata": {},
   "outputs": [
    {
     "name": "stderr",
     "output_type": "stream",
     "text": [
      "                                                                                \r"
     ]
    },
    {
     "name": "stdout",
     "output_type": "stream",
     "text": [
      "+--------+------+--------+-------------+-------------+\n",
      "|class_cd|school|     loc|공립/사립여부|teaching_type|\n",
      "+--------+------+--------+-------------+-------------+\n",
      "|     6OL| ANKYI|   Urban|   Non-public|     Standard|\n",
      "|     ZNS| ANKYI|   Urban|   Non-public|     Standard|\n",
      "|     2B1| CCAAW|Suburban|   Non-public| Experimental|\n",
      "+--------+------+--------+-------------+-------------+\n",
      "only showing top 3 rows\n",
      "\n",
      "root\n",
      " |-- class_cd: string (nullable = true)\n",
      " |-- school: string (nullable = true)\n",
      " |-- class_std_cnt: string (nullable = true)\n",
      " |-- loc: string (nullable = true)\n",
      " |-- school_type: string (nullable = true)\n",
      " |-- teaching_type: string (nullable = true)\n",
      "\n"
     ]
    },
    {
     "name": "stderr",
     "output_type": "stream",
     "text": [
      "                                                                                \r"
     ]
    },
    {
     "name": "stdout",
     "output_type": "stream",
     "text": [
      "+--------+------+------+\n",
      "|class_cd|school| scale|\n",
      "+--------+------+------+\n",
      "|     6OL| ANKYI|middle|\n",
      "|     ZNS| ANKYI|middle|\n",
      "|     2B1| CCAAW|middle|\n",
      "|     EPS| CCAAW|middle|\n",
      "|     IQN| CCAAW|middle|\n",
      "|     PGK| CCAAW|middle|\n",
      "|     UHU| CCAAW|middle|\n",
      "|     UWK| CCAAW|middle|\n",
      "|     A33| CIMBB|middle|\n",
      "|     EID| CIMBB|middle|\n",
      "|     HUJ| CIMBB|middle|\n",
      "|     PC6| CIMBB|middle|\n",
      "|     1Q1| CUQAM|   big|\n",
      "|     BFY| CUQAM|   big|\n",
      "|     OMI| CUQAM|   big|\n",
      "|     X6Z| CUQAM|middle|\n",
      "|     2AP| DNQDD|   big|\n",
      "|     PW5| DNQDD|middle|\n",
      "|     ROP| DNQDD|   big|\n",
      "|     ST7| DNQDD|middle|\n",
      "+--------+------+------+\n",
      "only showing top 20 rows\n",
      "\n"
     ]
    },
    {
     "name": "stderr",
     "output_type": "stream",
     "text": [
      "                                                                                \r"
     ]
    },
    {
     "name": "stdout",
     "output_type": "stream",
     "text": [
      "+--------+------+-------------+\n",
      "|class_cd|school|class_std_cnt|\n",
      "+--------+------+-------------+\n",
      "|     6OL| ANKYI|           20|\n",
      "|     ZNS| ANKYI|           21|\n",
      "|     2B1| CCAAW|           18|\n",
      "+--------+------+-------------+\n",
      "only showing top 3 rows\n",
      "\n",
      "root\n",
      " |-- class_cd: string (nullable = true)\n",
      " |-- school: string (nullable = true)\n",
      " |-- class_std_cnt: string (nullable = true)\n",
      "\n"
     ]
    }
   ],
   "source": [
    "from pyspark.sql import functions as F\n",
    "cdf = class_df\n",
    "\n",
    "# 모든 row의 class_cd, school, loc, school_type, teaching_type을 출력하시오.\n",
    "# school_type의 컬럼명은 '공립/사립여부' 로 표시합니다.\n",
    "# hint : alias()\n",
    "class_df.select('class_cd', 'school', 'loc', class_df.school_type.alias('공립/사립여부'), 'teaching_type').show(3)\n",
    "\n",
    "# class_cd, school, scale 을 출력하시오.\n",
    "# scale 컬럼은 반의 인원수가 15명 미만이면 small, 15명 이상 25명 미만이면 middle, 25명 이상이면 big 값을 가집니다.\n",
    "# hint : when()\n",
    "class_df.printSchema()\n",
    "class_df.select('class_cd', 'school', (when(class_df.class_std_cnt <15 , 'small')\n",
    "                                                   .when(class_df.class_std_cnt.between(15,24),'middle')\n",
    "#                                                    .when((class_df.class_std_cnt >= 15) & (class_df.class_std_cnt< 25), 'middle')\n",
    "                                                   .otherwise('big')).alias('scale')).show(20)\n",
    "\n",
    "\n",
    "# class_cd, school, class_std_cnt를 출력하시오\n",
    "# class_std_cnt 컬럼의 값들은 string타입으로 형변환합니다.\n",
    "# hint : cast()\n",
    "class_df.select('class_cd', 'school', class_df.class_std_cnt.cast(\"string\")).show(3)\n",
    "class_df.select('class_cd', 'school', class_df.class_std_cnt.cast(\"string\")).printSchema()\n"
   ]
  },
  {
   "cell_type": "markdown",
   "metadata": {},
   "source": [
    "### sql"
   ]
  },
  {
   "cell_type": "code",
   "execution_count": 40,
   "metadata": {},
   "outputs": [
    {
     "name": "stdout",
     "output_type": "stream",
     "text": [
      "root\n",
      " |-- class_cd: string (nullable = true)\n",
      " |-- school: string (nullable = true)\n",
      " |-- class_std_cnt: integer (nullable = true)\n",
      " |-- loc: string (nullable = true)\n",
      " |-- school_type: string (nullable = true)\n",
      " |-- teaching_type: string (nullable = true)\n",
      "\n",
      "+--------+------+--------+-------------+-------------+\n",
      "|class_cd|school|     loc|공립/사립여부|teaching_type|\n",
      "+--------+------+--------+-------------+-------------+\n",
      "|     6OL| ANKYI|   Urban|   Non-public|     Standard|\n",
      "|     ZNS| ANKYI|   Urban|   Non-public|     Standard|\n",
      "|     2B1| CCAAW|Suburban|   Non-public| Experimental|\n",
      "+--------+------+--------+-------------+-------------+\n",
      "only showing top 3 rows\n",
      "\n"
     ]
    },
    {
     "name": "stderr",
     "output_type": "stream",
     "text": [
      "\r",
      "[Stage 47:>                                                         (0 + 1) / 1]\r",
      "\r",
      "                                                                                \r"
     ]
    },
    {
     "name": "stdout",
     "output_type": "stream",
     "text": [
      "+--------+------+------+\n",
      "|class_cd|school| scale|\n",
      "+--------+------+------+\n",
      "|     6OL| ANKYI|middle|\n",
      "|     ZNS| ANKYI|middle|\n",
      "|     2B1| CCAAW|middle|\n",
      "|     EPS| CCAAW|middle|\n",
      "|     IQN| CCAAW|middle|\n",
      "|     PGK| CCAAW|middle|\n",
      "|     UHU| CCAAW|middle|\n",
      "|     UWK| CCAAW|middle|\n",
      "|     A33| CIMBB|middle|\n",
      "|     EID| CIMBB|middle|\n",
      "|     HUJ| CIMBB|middle|\n",
      "|     PC6| CIMBB|middle|\n",
      "|     1Q1| CUQAM|   big|\n",
      "|     BFY| CUQAM|   big|\n",
      "|     OMI| CUQAM|   big|\n",
      "|     X6Z| CUQAM|middle|\n",
      "|     2AP| DNQDD|   big|\n",
      "|     PW5| DNQDD|middle|\n",
      "|     ROP| DNQDD|   big|\n",
      "|     ST7| DNQDD|middle|\n",
      "|     XXJ| DNQDD|   big|\n",
      "|     197| FBUMG| small|\n",
      "|     5LQ| FBUMG|middle|\n",
      "|     JGD| FBUMG| small|\n",
      "|     HCB| GJJHK|middle|\n",
      "|     NOR| GJJHK|   big|\n",
      "|     X78| GJJHK|middle|\n",
      "|     YUC| GJJHK|middle|\n",
      "|     ZDT| GJJHK|   big|\n",
      "|     ENO| GOKXL|middle|\n",
      "|     TSA| GOKXL|middle|\n",
      "|     VA6| GOKXL|middle|\n",
      "|     18K| GOOBU|   big|\n",
      "|     CXC| GOOBU|middle|\n",
      "|     HKF| GOOBU|   big|\n",
      "|     PBA| GOOBU|middle|\n",
      "|     U6J| GOOBU|   big|\n",
      "|     W8A| GOOBU|   big|\n",
      "|     05H| IDGFP|middle|\n",
      "|     98D| IDGFP|middle|\n",
      "|     G2L| IDGFP|middle|\n",
      "|     P2A| IDGFP|middle|\n",
      "|     XZM| IDGFP|middle|\n",
      "|     1VD| KFZMY|   big|\n",
      "|     21Q| KFZMY|   big|\n",
      "|     2BR| KZKKE|middle|\n",
      "|     3D0| KZKKE|middle|\n",
      "|     5JK| KZKKE|middle|\n",
      "|     O6A| KZKKE|middle|\n",
      "|     QTU| KZKKE|middle|\n",
      "|     AJ1| LAYPA|middle|\n",
      "|     J8J| LAYPA|middle|\n",
      "|     MDS|  null|middle|\n",
      "|     MDE|  null| small|\n",
      "|     RA5| LAYPA|middle|\n",
      "|     5SZ| OJOBU|middle|\n",
      "|     6U9| OJOBU|middle|\n",
      "|     6PP|  null|   big|\n",
      "|     4SZ|  null|   big|\n",
      "|     5SD|  null|   big|\n",
      "|     FS3| OJOBU|middle|\n",
      "|     XJ8| OJOBU|middle|\n",
      "|     0N7| QOQTS|   big|\n",
      "|     3XJ| QOQTS|middle|\n",
      "|     RK7| QOQTS|middle|\n",
      "|     SUR| QOQTS|   big|\n",
      "|     X2O| QOQTS|   big|\n",
      "|     XZ4| QOQTS|middle|\n",
      "|     1SZ| UAGPU|middle|\n",
      "|     62L| UAGPU|middle|\n",
      "|     NWZ| UAGPU|middle|\n",
      "|     S98| UAGPU|middle|\n",
      "|     08N| UKPGS|middle|\n",
      "|     9AW| UKPGS|   big|\n",
      "|     IPU| UKPGS|middle|\n",
      "|     KXB| UKPGS|middle|\n",
      "|     PGH| UKPGS|middle|\n",
      "|     XXE| UKPGS|middle|\n",
      "|     6C1| UUUQX|middle|\n",
      "|     AE1| UUUQX|middle|\n",
      "|     H7S| UUUQX|middle|\n",
      "|     P8I| UUUQX|middle|\n",
      "|     SSP| UUUQX|middle|\n",
      "|     CD8| VHDHF|middle|\n",
      "|     J6X| VHDHF|middle|\n",
      "|     KR1| VHDHF|middle|\n",
      "|     341| VKWQH|middle|\n",
      "|     D33| VKWQH|middle|\n",
      "|     DFQ| VKWQH|middle|\n",
      "|     GYM| VKWQH|middle|\n",
      "|     IEM| VKWQH|middle|\n",
      "|     7BL| VVTVA|   big|\n",
      "|     A93| VVTVA|   big|\n",
      "|     TB5| VVTVA|   big|\n",
      "|     YTB| VVTVA|   big|\n",
      "|     1UU| ZMNYA|middle|\n",
      "|     4NN| ZMNYA|middle|\n",
      "|     V77| ZMNYA|middle|\n",
      "|     CII| ZOWMK|   big|\n",
      "|     Q0E| ZOWMK|   big|\n",
      "|     QA2| ZOWMK|   big|\n",
      "|     ZBH| ZOWMK|   big|\n",
      "+--------+------+------+\n",
      "\n",
      "root\n",
      " |-- class_cd: string (nullable = true)\n",
      " |-- school: string (nullable = true)\n",
      " |-- class_std_cnt: integer (nullable = true)\n",
      "\n"
     ]
    }
   ],
   "source": [
    "# sql을 사용해 같은 결과를 받아보기\n",
    "\n",
    "# dataFrame을 테이블로 등록\n",
    "class_df1.createOrReplaceTempView('class')\n",
    "spark.sql('''\n",
    "    select * from class\n",
    "''').printSchema()\n",
    "# 모든 row의 class_cd, school, loc, school_type, teaching_type을 출력하시오.\n",
    "# school_type의 컬럼명은 '공립/사립여부' 로 표시합니다.\n",
    "spark.sql('''\n",
    "    select class_cd, school, loc, school_type as `공립/사립여부`, teaching_type from class\n",
    "''').show(3)\n",
    "\n",
    "\n",
    "# class_cd, school, scale 을 출력하시오.\n",
    "# scale 컬럼은 반의 인원수가 15명 미만이면 small, 15명 이상 25명 미만이면 middle, 25명 이상이면 big 값을 가집니다.\n",
    "spark.sql('''\n",
    "    SELECT class_cd, school, \n",
    "    CASE WHEN class_std_cnt < 15 THEN 'small' \n",
    "    WHEN class_std_cnt between 15 and 24 THEN 'middle' \n",
    "    else 'big'\n",
    "    END scale \n",
    "    FROM class\n",
    "''').show(200)\n",
    "\n",
    "\n",
    "# class_cd, school, class_std_cnt를 출력하시오\n",
    "# class_std_cnt 컬럼의 값들은 string타입으로 형변환합니다.\n",
    "# spark built-in-fnc 의 cast()\n",
    "spark.sql('''\n",
    "    select class_cd, school, cast(class_std_cnt as int) from class\n",
    "''').printSchema()\n"
   ]
  },
  {
   "cell_type": "markdown",
   "metadata": {},
   "source": [
    "## where(), filter()"
   ]
  },
  {
   "cell_type": "markdown",
   "metadata": {},
   "source": [
    "1. 공립이면서 교육방식이 전문인 데이터를 출력하시오\n",
    "\n",
    "2. 사립이면서 교육방식이 표준인 데이터를 출력하시오\n",
    "\n",
    "3. 학교 이름이 V로 시작하는 데이터를 출력하시오\n",
    "\n",
    "4. 학교 이름이 M로 끝나는 데이터를 출력하시오\n",
    "\n",
    "5. 학교 이름에 NKY가 포함된 데이터를 출력하시오\n",
    "\n",
    "6. 반의 학생 수가 15명 이상 24명 이하인 데이터를 출력하시오\n",
    "\n",
    "7. 학교 이름이 입력되지 않은 데이터들을 출력하시오\n"
   ]
  },
  {
   "cell_type": "code",
   "execution_count": 7,
   "metadata": {},
   "outputs": [
    {
     "name": "stdout",
     "output_type": "stream",
     "text": [
      "root\n",
      " |-- class_cd: string (nullable = true)\n",
      " |-- school: string (nullable = true)\n",
      " |-- class_std_cnt: string (nullable = true)\n",
      " |-- loc: string (nullable = true)\n",
      " |-- school_type: string (nullable = true)\n",
      " |-- teaching_type: string (nullable = true)\n",
      "\n",
      "공립이면서 교육방식이 전문인 데이터를 출력하시오.\n"
     ]
    },
    {
     "name": "stderr",
     "output_type": "stream",
     "text": [
      "                                                                                \r"
     ]
    },
    {
     "name": "stdout",
     "output_type": "stream",
     "text": [
      "+--------+------+-------------+--------+-----------+-------------+\n",
      "|class_cd|school|class_std_cnt|     loc|school_type|teaching_type|\n",
      "+--------+------+-------------+--------+-----------+-------------+\n",
      "|     X6Z| CUQAM|           24|   Urban|     Public| Experimental|\n",
      "|     PW5| DNQDD|           20|Suburban|     Public| Experimental|\n",
      "|     ROP| DNQDD|           28|Suburban|     Public| Experimental|\n",
      "+--------+------+-------------+--------+-----------+-------------+\n",
      "only showing top 3 rows\n",
      "\n",
      "사립이면서 교육방식이 표준 데이터를 출력하시오.\n"
     ]
    },
    {
     "name": "stderr",
     "output_type": "stream",
     "text": [
      "\r",
      "[Stage 6:>                                                          (0 + 1) / 1]\r",
      "\r",
      "                                                                                \r"
     ]
    },
    {
     "name": "stdout",
     "output_type": "stream",
     "text": [
      "+--------+------+-------------+--------+-----------+-------------+\n",
      "|class_cd|school|class_std_cnt|     loc|school_type|teaching_type|\n",
      "+--------+------+-------------+--------+-----------+-------------+\n",
      "|     6OL| ANKYI|           20|   Urban| Non-public|     Standard|\n",
      "|     ZNS| ANKYI|           21|   Urban| Non-public|     Standard|\n",
      "|     PGK| CCAAW|           21|Suburban| Non-public|     Standard|\n",
      "+--------+------+-------------+--------+-----------+-------------+\n",
      "only showing top 3 rows\n",
      "\n",
      "학교 이름이 V로 시작하는 데이터를 출력하시오.\n"
     ]
    },
    {
     "name": "stderr",
     "output_type": "stream",
     "text": [
      "                                                                                \r"
     ]
    },
    {
     "name": "stdout",
     "output_type": "stream",
     "text": [
      "+--------+------+-------------+-----+-----------+-------------+\n",
      "|class_cd|school|class_std_cnt|  loc|school_type|teaching_type|\n",
      "+--------+------+-------------+-----+-----------+-------------+\n",
      "|     CD8| VHDHF|           20|Rural| Non-public| Experimental|\n",
      "|     J6X| VHDHF|           16|Rural| Non-public|     Standard|\n",
      "|     KR1| VHDHF|           15|Rural| Non-public| Experimental|\n",
      "+--------+------+-------------+-----+-----------+-------------+\n",
      "only showing top 3 rows\n",
      "\n",
      "학교 이름이 M로 끝하는 데이터를 출력하시오.\n"
     ]
    },
    {
     "name": "stderr",
     "output_type": "stream",
     "text": [
      "                                                                                \r"
     ]
    },
    {
     "name": "stdout",
     "output_type": "stream",
     "text": [
      "+--------+------+-------------+-----+-----------+-------------+\n",
      "|class_cd|school|class_std_cnt|  loc|school_type|teaching_type|\n",
      "+--------+------+-------------+-----+-----------+-------------+\n",
      "|     1Q1| CUQAM|           28|Urban|     Public|     Standard|\n",
      "|     BFY| CUQAM|           27|Urban|     Public|     Standard|\n",
      "|     OMI| CUQAM|           28|Urban|     Public|     Standard|\n",
      "+--------+------+-------------+-----+-----------+-------------+\n",
      "only showing top 3 rows\n",
      "\n",
      "학교 이름에 NKY가 들어가는 데이터를 출력하시오.\n",
      "+--------+------+-------------+-----+-----------+-------------+\n",
      "|class_cd|school|class_std_cnt|  loc|school_type|teaching_type|\n",
      "+--------+------+-------------+-----+-----------+-------------+\n",
      "|     6OL| ANKYI|           20|Urban| Non-public|     Standard|\n",
      "|     ZNS| ANKYI|           21|Urban| Non-public|     Standard|\n",
      "+--------+------+-------------+-----+-----------+-------------+\n",
      "\n"
     ]
    },
    {
     "name": "stderr",
     "output_type": "stream",
     "text": [
      "\r",
      "[Stage 9:===========================================================(1 + 0) / 1]\r",
      "\r",
      "                                                                                \r"
     ]
    },
    {
     "ename": "AttributeError",
     "evalue": "'DataFrame' object has no attribute 'slelect'",
     "output_type": "error",
     "traceback": [
      "\u001b[0;31m---------------------------------------------------------------------------\u001b[0m",
      "\u001b[0;31mAttributeError\u001b[0m                            Traceback (most recent call last)",
      "Input \u001b[0;32mIn [7]\u001b[0m, in \u001b[0;36m<cell line: 23>\u001b[0;34m()\u001b[0m\n\u001b[1;32m     21\u001b[0m \u001b[38;5;28mprint\u001b[39m(\u001b[38;5;124m'\u001b[39m\u001b[38;5;124m학교 이름에 NKY가 들어가는 데이터를 출력하시오.\u001b[39m\u001b[38;5;124m'\u001b[39m)\n\u001b[1;32m     22\u001b[0m class_df\u001b[38;5;241m.\u001b[39mselect(\u001b[38;5;124m'\u001b[39m\u001b[38;5;124m*\u001b[39m\u001b[38;5;124m'\u001b[39m)\u001b[38;5;241m.\u001b[39mwhere((class_df\u001b[38;5;241m.\u001b[39mschool)\u001b[38;5;241m.\u001b[39mlike(\u001b[38;5;124m\"\u001b[39m\u001b[38;5;124m%\u001b[39m\u001b[38;5;124mNKY\u001b[39m\u001b[38;5;124m%\u001b[39m\u001b[38;5;124m\"\u001b[39m))\u001b[38;5;241m.\u001b[39mshow(\u001b[38;5;241m3\u001b[39m)\n\u001b[0;32m---> 23\u001b[0m \u001b[43mclass_df\u001b[49m\u001b[38;5;241;43m.\u001b[39;49m\u001b[43mslelect\u001b[49m(\u001b[38;5;124m'\u001b[39m\u001b[38;5;124m*\u001b[39m\u001b[38;5;124m'\u001b[39m) \\\n\u001b[1;32m     24\u001b[0m             \u001b[38;5;241m.\u001b[39mwhere(class_df\u001b[38;5;241m.\u001b[39mschool\u001b[38;5;241m.\u001b[39mcontains(\u001b[38;5;124m'\u001b[39m\u001b[38;5;124mNKY\u001b[39m\u001b[38;5;124m'\u001b[39m)) \\\n\u001b[1;32m     25\u001b[0m             \u001b[38;5;241m.\u001b[39mshow(\u001b[38;5;241m3\u001b[39m)\n\u001b[1;32m     26\u001b[0m \u001b[38;5;28mprint\u001b[39m(\u001b[38;5;124m'\u001b[39m\u001b[38;5;124m반의 학생 수가 15명 이상 24명 이하인 데이터를 출력하시오.\u001b[39m\u001b[38;5;124m'\u001b[39m)\n\u001b[1;32m     27\u001b[0m \u001b[38;5;66;03m# class_df.select('*').where((class_df.class_std_cnt>= 15) & (class_df.class_std_cnt < 24)).show(3)\u001b[39;00m\n",
      "File \u001b[0;32m~/spark/python/pyspark/sql/dataframe.py:1659\u001b[0m, in \u001b[0;36mDataFrame.__getattr__\u001b[0;34m(self, name)\u001b[0m\n\u001b[1;32m   1649\u001b[0m \u001b[38;5;124;03m\"\"\"Returns the :class:`Column` denoted by ``name``.\u001b[39;00m\n\u001b[1;32m   1650\u001b[0m \n\u001b[1;32m   1651\u001b[0m \u001b[38;5;124;03m.. versionadded:: 1.3.0\u001b[39;00m\n\u001b[0;32m   (...)\u001b[0m\n\u001b[1;32m   1656\u001b[0m \u001b[38;5;124;03m[Row(age=2), Row(age=5)]\u001b[39;00m\n\u001b[1;32m   1657\u001b[0m \u001b[38;5;124;03m\"\"\"\u001b[39;00m\n\u001b[1;32m   1658\u001b[0m \u001b[38;5;28;01mif\u001b[39;00m name \u001b[38;5;129;01mnot\u001b[39;00m \u001b[38;5;129;01min\u001b[39;00m \u001b[38;5;28mself\u001b[39m\u001b[38;5;241m.\u001b[39mcolumns:\n\u001b[0;32m-> 1659\u001b[0m     \u001b[38;5;28;01mraise\u001b[39;00m \u001b[38;5;167;01mAttributeError\u001b[39;00m(\n\u001b[1;32m   1660\u001b[0m         \u001b[38;5;124m\"\u001b[39m\u001b[38;5;124m'\u001b[39m\u001b[38;5;132;01m%s\u001b[39;00m\u001b[38;5;124m'\u001b[39m\u001b[38;5;124m object has no attribute \u001b[39m\u001b[38;5;124m'\u001b[39m\u001b[38;5;132;01m%s\u001b[39;00m\u001b[38;5;124m'\u001b[39m\u001b[38;5;124m\"\u001b[39m \u001b[38;5;241m%\u001b[39m (\u001b[38;5;28mself\u001b[39m\u001b[38;5;241m.\u001b[39m\u001b[38;5;18m__class__\u001b[39m\u001b[38;5;241m.\u001b[39m\u001b[38;5;18m__name__\u001b[39m, name))\n\u001b[1;32m   1661\u001b[0m jc \u001b[38;5;241m=\u001b[39m \u001b[38;5;28mself\u001b[39m\u001b[38;5;241m.\u001b[39m_jdf\u001b[38;5;241m.\u001b[39mapply(name)\n\u001b[1;32m   1662\u001b[0m \u001b[38;5;28;01mreturn\u001b[39;00m Column(jc)\n",
      "\u001b[0;31mAttributeError\u001b[0m: 'DataFrame' object has no attribute 'slelect'"
     ]
    }
   ],
   "source": [
    "class_df.printSchema()\n",
    "\n",
    "print('공립이면서 교육방식이 전문인 데이터를 출력하시오.')\n",
    "class_df.select('*') \\\n",
    "            .where((class_df.school_type ==\"Public\") &(class_df.teaching_type =='Experimental')) \\\n",
    "            .show(3)\n",
    "print('사립이면서 교육방식이 표준 데이터를 출력하시오.')\n",
    "class_df.select('*') \\\n",
    "            .where((class_df.school_type=='Non-public')&(class_df.teaching_type =='Standard')) \\\n",
    "            .show(3)\n",
    "print('학교 이름이 V로 시작하는 데이터를 출력하시오.')\n",
    "# class_df.select('*').where(col('school').like(\"V%\")).show(3)\n",
    "class_df.select('*') \\\n",
    "            .where(class_df.school.startswith('V')) \\\n",
    "            .show(3)\n",
    "print('학교 이름이 M로 끝하는 데이터를 출력하시오.')\n",
    "# class_df.select('*').where((class_df.school).like(\"%M\")).show(3)\n",
    "class_df.select('*') \\\n",
    "            .where(class_df.school.endswith('M')) \\\n",
    "            .show(3)\n",
    "print('학교 이름에 NKY가 들어가는 데이터를 출력하시오.')\n",
    "class_df.select('*').where((class_df.school).like(\"%NKY%\")).show(3)\n",
    "class_df.slelect('*') \\\n",
    "            .where(class_df.school.contains('NKY')) \\\n",
    "            .show(3)\n",
    "print('반의 학생 수가 15명 이상 24명 이하인 데이터를 출력하시오.')\n",
    "# class_df.select('*').where((class_df.class_std_cnt>= 15) & (class_df.class_std_cnt < 24)).show(3)\n",
    "class_df.select('*').where(class_df.class_std_cnt.between(15,24)).show(3)\n",
    "print('학교 이름이 입력되지 않은 데이터들을 출력하시오')\n",
    "\n",
    "class_df.select('*').where(isnull(class_df.school)).show(3)\n",
    "class_df.select('*') \\\n",
    "            .where(class_df.school.isNull()) \\\n",
    "            .show(3)"
   ]
  },
  {
   "cell_type": "markdown",
   "metadata": {},
   "source": [
    "#### sql"
   ]
  },
  {
   "cell_type": "code",
   "execution_count": 37,
   "metadata": {},
   "outputs": [
    {
     "name": "stdout",
     "output_type": "stream",
     "text": [
      "공립이면서 교육방식이 전문인 데이터를 출력하시오\n"
     ]
    },
    {
     "ename": "TypeError",
     "evalue": "sql() got an unexpected keyword argument 'bound1'",
     "output_type": "error",
     "traceback": [
      "\u001b[0;31m---------------------------------------------------------------------------\u001b[0m",
      "\u001b[0;31mTypeError\u001b[0m                                 Traceback (most recent call last)",
      "Input \u001b[0;32mIn [37]\u001b[0m, in \u001b[0;36m<cell line: 2>\u001b[0;34m()\u001b[0m\n\u001b[1;32m      1\u001b[0m \u001b[38;5;28mprint\u001b[39m(\u001b[38;5;124m'\u001b[39m\u001b[38;5;124m공립이면서 교육방식이 전문인 데이터를 출력하시오\u001b[39m\u001b[38;5;124m'\u001b[39m)\n\u001b[0;32m----> 2\u001b[0m \u001b[43mspark\u001b[49m\u001b[38;5;241;43m.\u001b[39;49m\u001b[43msql\u001b[49m\u001b[43m(\u001b[49m\n\u001b[1;32m      3\u001b[0m \u001b[43m    \u001b[49m\u001b[38;5;124;43m\"\u001b[39;49m\u001b[38;5;124;43mSELECT * FROM class WHERE school_type = \u001b[39;49m\u001b[38;5;132;43;01m{bound1}\u001b[39;49;00m\u001b[38;5;124;43m AND teaching_type = \u001b[39;49m\u001b[38;5;132;43;01m{bound2}\u001b[39;49;00m\u001b[38;5;124;43m\"\u001b[39;49m\u001b[43m,\u001b[49m\u001b[43m \u001b[49m\u001b[43mbound1\u001b[49m\u001b[38;5;241;43m=\u001b[39;49m\u001b[38;5;124;43m'\u001b[39;49m\u001b[38;5;124;43mPublic\u001b[39;49m\u001b[38;5;124;43m'\u001b[39;49m\u001b[43m,\u001b[49m\u001b[43m \u001b[49m\u001b[43mbound2\u001b[49m\u001b[38;5;241;43m=\u001b[39;49m\u001b[38;5;124;43m'\u001b[39;49m\u001b[38;5;124;43mExperimental\u001b[39;49m\u001b[38;5;124;43m'\u001b[39;49m\n\u001b[1;32m      4\u001b[0m \u001b[43m)\u001b[49m\u001b[38;5;241m.\u001b[39mshow()\n\u001b[1;32m      5\u001b[0m \u001b[38;5;28mprint\u001b[39m(\u001b[38;5;124m'\u001b[39m\u001b[38;5;124m사립이면서 교육방식이 표준인 데이터를 출력하시오\u001b[39m\u001b[38;5;124m'\u001b[39m)\n\u001b[1;32m      6\u001b[0m \u001b[38;5;66;03m# spark.sql(’”\u001b[39;00m\n\u001b[1;32m      7\u001b[0m \u001b[38;5;66;03m#           select * from class\u001b[39;00m\n\u001b[1;32m      8\u001b[0m \u001b[38;5;66;03m#           where school_type = `Non-public` and teaching_type = `Standard'\u001b[39;00m\n\u001b[1;32m      9\u001b[0m \u001b[38;5;66;03m#           ”’)\u001b[39;00m\n",
      "\u001b[0;31mTypeError\u001b[0m: sql() got an unexpected keyword argument 'bound1'"
     ]
    }
   ],
   "source": [
    "print('공립이면서 교육방식이 전문인 데이터를 출력하시오')\n",
    "spark.sql(\n",
    "    \"SELECT * FROM class WHERE school_type = {bound1} AND teaching_type = {bound2}\", bound1='Public', bound2='Experimental'\n",
    ").show()\n",
    "print('사립이면서 교육방식이 표준인 데이터를 출력하시오')\n",
    "# spark.sql(’”\n",
    "#           select * from class\n",
    "#           where school_type = `Non-public` and teaching_type = `Standard'\n",
    "#           ”’)\n",
    "print('학교 이름이 V로 시작하는 데이터를 출력하시오')\n",
    "\n",
    "print('학교 이름이 M로 끝나는 데이터를 출력하시오')\n",
    "\n",
    "print('학교 이름에 NKY가 포함된 데이터를 출력하시오')\n",
    "\n",
    "print('반의 학생 수가 15명 이상 24명 이하인 데이터를 출력하시오')\n",
    "\n",
    "          \n",
    "print('학교 이름이 입력되지 않은 데이터들을 출력하시오')\n"
   ]
  },
  {
   "cell_type": "code",
   "execution_count": 38,
   "metadata": {},
   "outputs": [
    {
     "name": "stdout",
     "output_type": "stream",
     "text": [
      "1\n"
     ]
    }
   ],
   "source": [
    "print(1)"
   ]
  },
  {
   "cell_type": "code",
   "execution_count": null,
   "metadata": {},
   "outputs": [],
   "source": []
  }
 ],
 "metadata": {
  "kernelspec": {
   "display_name": "Python 3 (ipykernel)",
   "language": "python",
   "name": "python3"
  },
  "language_info": {
   "codemirror_mode": {
    "name": "ipython",
    "version": 3
   },
   "file_extension": ".py",
   "mimetype": "text/x-python",
   "name": "python",
   "nbconvert_exporter": "python",
   "pygments_lexer": "ipython3",
   "version": "3.8.10"
  }
 },
 "nbformat": 4,
 "nbformat_minor": 5
}
