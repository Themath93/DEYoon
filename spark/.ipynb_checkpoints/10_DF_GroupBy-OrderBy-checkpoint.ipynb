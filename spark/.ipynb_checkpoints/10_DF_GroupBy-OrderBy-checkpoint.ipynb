{
 "cells": [
  {
   "cell_type": "markdown",
   "metadata": {},
   "source": [
    "## groupBy()"
   ]
  },
  {
   "cell_type": "code",
   "execution_count": 1,
   "metadata": {},
   "outputs": [],
   "source": [
    "from IPython.core.interactiveshell import InteractiveShell\n",
    "InteractiveShell.ast_node_interactivity = \"all\""
   ]
  },
  {
   "cell_type": "code",
   "execution_count": 2,
   "metadata": {},
   "outputs": [],
   "source": [
    "from datetime import date, datetime\n",
    "from pyspark.sql import *\n",
    "from pyspark.sql.types import *\n",
    "from pyspark.sql.functions import *\n",
    "from pyspark.sql import functions as F"
   ]
  },
  {
   "cell_type": "code",
   "execution_count": 3,
   "metadata": {},
   "outputs": [
    {
     "name": "stdout",
     "output_type": "stream",
     "text": [
      "root\n",
      " |-- class_cd: string (nullable = true)\n",
      " |-- school: string (nullable = true)\n",
      " |-- class_std_cnt: integer (nullable = true)\n",
      " |-- loc: string (nullable = true)\n",
      " |-- school_type: string (nullable = true)\n",
      " |-- teaching_type: string (nullable = true)\n",
      "\n"
     ]
    }
   ],
   "source": [
    "schema = StructType([\n",
    "    StructField('class_cd', StringType()),\n",
    "    StructField('school', StringType()),\n",
    "    StructField('class_std_cnt', IntegerType()),\n",
    "    StructField('loc', StringType()),\n",
    "    StructField('school_type', StringType()),\n",
    "    StructField('teaching_type', StringType()),\n",
    "    \n",
    "])\n",
    "cdf = spark.read.csv('/dataframe/a_class_info.csv',header=True, schema=schema)\n",
    "cdf.printSchema()\n",
    "cdf.createOrReplaceTempView('class')"
   ]
  },
  {
   "cell_type": "markdown",
   "metadata": {},
   "source": [
    "groupBy  : 집계함수를 가지고 있는 GroupData 객체를 반환한다.  \n",
    "\n",
    "GrouopData객체의 집계함수들을 사용해 grouping 된 데이터들의 집계결과를 저장하고 있는 DataFrame을 반환 받을 수 있다."
   ]
  },
  {
   "cell_type": "code",
   "execution_count": 9,
   "metadata": {},
   "outputs": [
    {
     "name": "stdout",
     "output_type": "stream",
     "text": [
      "지역내 교육타입별 학생 숫자와 평균을 구해고 별칭을 붙여보자.\n",
      " 단  지역내 교육타입별 학생 숫자의 총 합이 300미만인 데이터는 제외한다.\n"
     ]
    },
    {
     "name": "stderr",
     "output_type": "stream",
     "text": [
      "                                                                                \r"
     ]
    },
    {
     "name": "stdout",
     "output_type": "stream",
     "text": [
      "+--------+-------------+-----+-----------------+\n",
      "|     loc|teaching_type|total|              avg|\n",
      "+--------+-------------+-----+-----------------+\n",
      "|   Urban|     Standard|  631|24.26923076923077|\n",
      "|Suburban|     Standard|  433|            21.65|\n",
      "|   Rural|     Standard|  327|          20.4375|\n",
      "+--------+-------------+-----+-----------------+\n",
      "\n",
      "컬럼명이 sum(class_std_cnt) 이라니 너무 이상하다. 집계함수를 수행하고 별칭을 붙여보자\n"
     ]
    }
   ],
   "source": [
    "# 지역별 교육타입별 학생 숫자를 구해보자.\n",
    "\n",
    "# cdf.groupBy(cdf.loc, cdf.teaching_type).agg(F.sum(cdf.class_std_cnt),\n",
    "#                                             F.avg(\"class_std_cnt\")).show()\n",
    "\n",
    "print('''지역내 교육타입별 학생 숫자와 평균을 구해고 별칭을 붙여보자.\n",
    " 단  지역내 교육타입별 학생 숫자의 총 합이 300미만인 데이터는 제외한다.''')\n",
    "\n",
    "cdf.groupBy(cdf.loc,cdf.teaching_type) \\\n",
    "    .agg(sum(cdf.class_std_cnt).alias('total'),avg(cdf.class_std_cnt).alias('avg')) \\\n",
    "    .select('*').where(col('total')>=300).show()\n",
    "\n",
    "\n",
    "print('컬럼명이 sum(class_std_cnt) 이라니 너무 이상하다. 집계함수를 수행하고 별칭을 붙여보자')"
   ]
  },
  {
   "cell_type": "code",
   "execution_count": 8,
   "metadata": {
    "scrolled": true
   },
   "outputs": [
    {
     "name": "stderr",
     "output_type": "stream",
     "text": [
      "                                                                                \r"
     ]
    },
    {
     "name": "stdout",
     "output_type": "stream",
     "text": [
      "+--------+-------------+------------------+\n",
      "|     loc|teaching_type|sum(class_std_cnt)|\n",
      "+--------+-------------+------------------+\n",
      "|   Rural| Experimental|               211|\n",
      "|    null|         null|              null|\n",
      "|   Urban|     Standard|               631|\n",
      "|Suburban|     Standard|               433|\n",
      "|   Rural|     Standard|               327|\n",
      "|Suburban| Experimental|               284|\n",
      "|   Urban| Experimental|               275|\n",
      "+--------+-------------+------------------+\n",
      "\n",
      "지역별 class 숫자를 계산해보자. 단 지역정보가 없는 데이터는 제외한다.\n"
     ]
    },
    {
     "name": "stderr",
     "output_type": "stream",
     "text": [
      "                                                                                \r"
     ]
    },
    {
     "name": "stdout",
     "output_type": "stream",
     "text": [
      "+--------+-----+\n",
      "|     loc|count|\n",
      "+--------+-----+\n",
      "|   Urban|   37|\n",
      "|Suburban|   34|\n",
      "|   Rural|   28|\n",
      "+--------+-----+\n",
      "\n",
      "지역별 교육타입별 학생 숫자와 평균을 구해보자. 단 학생 숫자가 300미만인 데이터는 제외한다.\n"
     ]
    },
    {
     "name": "stderr",
     "output_type": "stream",
     "text": [
      "                                                                                \r"
     ]
    },
    {
     "name": "stdout",
     "output_type": "stream",
     "text": [
      "+--------+-------------+------------------+------------------+\n",
      "|     loc|teaching_type|sum(class_std_cnt)|avg(class_std_cnt)|\n",
      "+--------+-------------+------------------+------------------+\n",
      "|   Urban|     Standard|               631| 24.26923076923077|\n",
      "|Suburban|     Standard|               433|             21.65|\n",
      "|   Rural|     Standard|               327|           20.4375|\n",
      "+--------+-------------+------------------+------------------+\n",
      "\n",
      "컬럼명이 sum(class_std_cnt) 이라니 너무 이상하다. 집계함수를 수행하고 별칭을 붙여보자\n"
     ]
    },
    {
     "name": "stderr",
     "output_type": "stream",
     "text": [
      "                                                                                \r"
     ]
    },
    {
     "name": "stdout",
     "output_type": "stream",
     "text": [
      "+--------+-------------+-----+-----------------+\n",
      "|     loc|teaching_type|total|              avg|\n",
      "+--------+-------------+-----+-----------------+\n",
      "|   Urban|     Standard|  631|24.26923076923077|\n",
      "|Suburban|     Standard|  433|            21.65|\n",
      "|   Rural|     Standard|  327|          20.4375|\n",
      "+--------+-------------+-----+-----------------+\n",
      "\n"
     ]
    },
    {
     "name": "stderr",
     "output_type": "stream",
     "text": [
      "\r\n",
      "[Stage 55:>                                                         (0 + 1) / 1]\r"
     ]
    },
    {
     "name": "stdout",
     "output_type": "stream",
     "text": [
      "+--------+-------------+-----+-----------------+---+---+------------------+\n",
      "|     loc|teaching_type|total|              avg|max|min|            stddev|\n",
      "+--------+-------------+-----+-----------------+---+---+------------------+\n",
      "|   Urban|     Standard|  631|24.26923076923077| 31| 17| 4.229020617662603|\n",
      "|Suburban|     Standard|  433|            21.65| 27| 15|3.1668513334889994|\n",
      "|   Rural|     Standard|  327|          20.4375| 24| 16|2.1899391163530857|\n",
      "+--------+-------------+-----+-----------------+---+---+------------------+\n",
      "\n"
     ]
    },
    {
     "name": "stderr",
     "output_type": "stream",
     "text": [
      "\r\n",
      "                                                                                \r"
     ]
    }
   ],
   "source": []
  },
  {
   "cell_type": "code",
   "execution_count": 15,
   "metadata": {},
   "outputs": [
    {
     "name": "stderr",
     "output_type": "stream",
     "text": [
      "[Stage 29:>                                                         (0 + 1) / 1]\r"
     ]
    },
    {
     "name": "stdout",
     "output_type": "stream",
     "text": [
      "+--------+-----+\n",
      "|     loc|count|\n",
      "+--------+-----+\n",
      "|   Urban|   37|\n",
      "|Suburban|   34|\n",
      "|   Rural|   28|\n",
      "+--------+-----+\n",
      "\n"
     ]
    },
    {
     "name": "stderr",
     "output_type": "stream",
     "text": [
      "\r",
      "                                                                                \r"
     ]
    }
   ],
   "source": [
    "# 지역별 class 숫자를 계산해보자. 단 지역정보가 없는 데이터는 제외한다.\n",
    "cdf.groupBy(cdf.loc).agg(count(cdf.loc).alias('count')).where(col('loc').isNotNull()).show()\n",
    "\n"
   ]
  },
  {
   "cell_type": "code",
   "execution_count": 117,
   "metadata": {},
   "outputs": [
    {
     "name": "stderr",
     "output_type": "stream",
     "text": [
      "                                                                                \r"
     ]
    },
    {
     "name": "stdout",
     "output_type": "stream",
     "text": [
      "+--------+---+---+\n",
      "|     loc|cnt|tot|\n",
      "+--------+---+---+\n",
      "|   Urban| 37|906|\n",
      "|Suburban| 34|717|\n",
      "|   Rural| 28|538|\n",
      "+--------+---+---+\n",
      "\n"
     ]
    },
    {
     "name": "stderr",
     "output_type": "stream",
     "text": [
      "[Stage 306:>                                                        (0 + 1) / 1]\r"
     ]
    },
    {
     "name": "stdout",
     "output_type": "stream",
     "text": [
      "+---------------------+\n",
      "|(max(tot) - min(tot))|\n",
      "+---------------------+\n",
      "|                  368|\n",
      "+---------------------+\n",
      "\n"
     ]
    },
    {
     "name": "stderr",
     "output_type": "stream",
     "text": [
      "\r",
      "                                                                                \r"
     ]
    }
   ],
   "source": [
    "# 반이 가장 많이 위치한 지역의 학생 수 총합과, 가장 적게 위치한 지역의 학생 수 총 합 간의 차이를 구해보자\n",
    "# cdf.groupby(cdf.loc,cdf.class_std_cnt).agg(sum(cdf.class_std_cnt).alias('학생합')).groupBy(col('loc'), col('학생합')).agg(sum(col('학생합'))).show()\n",
    "\n",
    "# 1. 데이터프레임생성 loc컬럼 널값제거\n",
    "# 지역별로 그룹바이 해줌\n",
    "# 반의 개수와 학생총합을 데이터프레임 객체로 만들어줌\n",
    "base =cdf \\\n",
    "        .where(col('loc').isNotNull()) \\\n",
    "        .groupBy(cdf.loc) \\\n",
    "        .agg(count(cdf.class_cd).alias('cnt'), sum(cdf.class_std_cnt).alias('tot'))\n",
    "base.show()\n",
    "\n",
    "# 지역별로 학생수를 볼때 학생수가 가장 낮은곳과 낮은곳을 논리실행계획 : 컬럼객체로만듬\n",
    "# 그다음 그객체를 collect() 함수로 action하여 실제 값으로 가져옴\n",
    "min_max_row = base.select(max('cnt'),min('cnt')).collect()\n",
    "\n",
    "\n",
    "\n",
    "# base 데이터프레임의 cnt 컬럼에서 min_max_row의 실제값으로 있는 가장많은 반의 학생수 와 가장적은 반의 학생수를 가져와서\n",
    "# select문으로 빼기 연산 수행\n",
    "base.where(base.cnt.isin(min_max_row[0][0], min_max_row[0][1])) \\\n",
    "    .select(max(col('tot')) - min(col('tot'))).show()\n"
   ]
  },
  {
   "cell_type": "markdown",
   "metadata": {},
   "source": [
    "#### sql"
   ]
  },
  {
   "cell_type": "code",
   "execution_count": 5,
   "metadata": {
    "collapsed": true
   },
   "outputs": [
    {
     "ename": "AnalysisException",
     "evalue": "expression 'class.loc' is neither present in the group by, nor is it an aggregate function. Add to group by or wrap in first() (or first_value) if you don't care which value you get.;\nAggregate [teaching_type#5], [loc#3, teaching_type#5, sum(class_std_cnt#2) AS sum(class_std_cnt)#15L]\n+- SubqueryAlias class\n   +- View (`class`, [class_cd#0,school#1,class_std_cnt#2,loc#3,school_type#4,teaching_type#5])\n      +- Relation [class_cd#0,school#1,class_std_cnt#2,loc#3,school_type#4,teaching_type#5] csv\n",
     "output_type": "error",
     "traceback": [
      "\u001b[0;31m---------------------------------------------------------------------------\u001b[0m",
      "\u001b[0;31mAnalysisException\u001b[0m                         Traceback (most recent call last)",
      "Input \u001b[0;32mIn [5]\u001b[0m, in \u001b[0;36m<cell line: 2>\u001b[0;34m()\u001b[0m\n\u001b[1;32m      1\u001b[0m \u001b[38;5;66;03m# 지역별 교육타입별 학생 숫자를 구해보자.\u001b[39;00m\n\u001b[0;32m----> 2\u001b[0m \u001b[43mspark\u001b[49m\u001b[38;5;241;43m.\u001b[39;49m\u001b[43msql\u001b[49m\u001b[43m(\u001b[49m\u001b[38;5;124;43m'''\u001b[39;49m\n\u001b[1;32m      3\u001b[0m \u001b[38;5;124;43mselect loc, teaching_type, sum(class_std_cnt) from class group by teaching_type\u001b[39;49m\n\u001b[1;32m      4\u001b[0m \u001b[38;5;124;43m                \u001b[39;49m\u001b[38;5;124;43m'''\u001b[39;49m\u001b[43m)\u001b[49m\u001b[38;5;241m.\u001b[39mshow()\n\u001b[1;32m      5\u001b[0m \u001b[38;5;28mprint\u001b[39m(\u001b[38;5;124m'''\u001b[39m\u001b[38;5;124m지역내 교육타입별 학생 숫자와 평균을 구해보자. 단  지역내 교육타입별 학생 숫자의 총 합이 300미만인 데이터는 제외한다.\u001b[39m\u001b[38;5;124m'''\u001b[39m)\n\u001b[1;32m      6\u001b[0m \u001b[38;5;28mprint\u001b[39m(\u001b[38;5;124m'\u001b[39m\u001b[38;5;124m컬럼명이 sum(class_std_cnt) 이라니 너무 이상하다. 집계함수를 수행하고 별칭을 붙여보자\u001b[39m\u001b[38;5;124m'\u001b[39m)\n",
      "File \u001b[0;32m~/spark/python/pyspark/sql/session.py:723\u001b[0m, in \u001b[0;36mSparkSession.sql\u001b[0;34m(self, sqlQuery)\u001b[0m\n\u001b[1;32m    707\u001b[0m \u001b[38;5;28;01mdef\u001b[39;00m \u001b[38;5;21msql\u001b[39m(\u001b[38;5;28mself\u001b[39m, sqlQuery):\n\u001b[1;32m    708\u001b[0m     \u001b[38;5;124;03m\"\"\"Returns a :class:`DataFrame` representing the result of the given query.\u001b[39;00m\n\u001b[1;32m    709\u001b[0m \n\u001b[1;32m    710\u001b[0m \u001b[38;5;124;03m    .. versionadded:: 2.0.0\u001b[39;00m\n\u001b[0;32m   (...)\u001b[0m\n\u001b[1;32m    721\u001b[0m \u001b[38;5;124;03m    [Row(f1=1, f2='row1'), Row(f1=2, f2='row2'), Row(f1=3, f2='row3')]\u001b[39;00m\n\u001b[1;32m    722\u001b[0m \u001b[38;5;124;03m    \"\"\"\u001b[39;00m\n\u001b[0;32m--> 723\u001b[0m     \u001b[38;5;28;01mreturn\u001b[39;00m DataFrame(\u001b[38;5;28;43mself\u001b[39;49m\u001b[38;5;241;43m.\u001b[39;49m\u001b[43m_jsparkSession\u001b[49m\u001b[38;5;241;43m.\u001b[39;49m\u001b[43msql\u001b[49m\u001b[43m(\u001b[49m\u001b[43msqlQuery\u001b[49m\u001b[43m)\u001b[49m, \u001b[38;5;28mself\u001b[39m\u001b[38;5;241m.\u001b[39m_wrapped)\n",
      "File \u001b[0;32m~/spark/python/lib/py4j-0.10.9.5-src.zip/py4j/java_gateway.py:1321\u001b[0m, in \u001b[0;36mJavaMember.__call__\u001b[0;34m(self, *args)\u001b[0m\n\u001b[1;32m   1315\u001b[0m command \u001b[38;5;241m=\u001b[39m proto\u001b[38;5;241m.\u001b[39mCALL_COMMAND_NAME \u001b[38;5;241m+\u001b[39m\\\n\u001b[1;32m   1316\u001b[0m     \u001b[38;5;28mself\u001b[39m\u001b[38;5;241m.\u001b[39mcommand_header \u001b[38;5;241m+\u001b[39m\\\n\u001b[1;32m   1317\u001b[0m     args_command \u001b[38;5;241m+\u001b[39m\\\n\u001b[1;32m   1318\u001b[0m     proto\u001b[38;5;241m.\u001b[39mEND_COMMAND_PART\n\u001b[1;32m   1320\u001b[0m answer \u001b[38;5;241m=\u001b[39m \u001b[38;5;28mself\u001b[39m\u001b[38;5;241m.\u001b[39mgateway_client\u001b[38;5;241m.\u001b[39msend_command(command)\n\u001b[0;32m-> 1321\u001b[0m return_value \u001b[38;5;241m=\u001b[39m \u001b[43mget_return_value\u001b[49m\u001b[43m(\u001b[49m\n\u001b[1;32m   1322\u001b[0m \u001b[43m    \u001b[49m\u001b[43manswer\u001b[49m\u001b[43m,\u001b[49m\u001b[43m \u001b[49m\u001b[38;5;28;43mself\u001b[39;49m\u001b[38;5;241;43m.\u001b[39;49m\u001b[43mgateway_client\u001b[49m\u001b[43m,\u001b[49m\u001b[43m \u001b[49m\u001b[38;5;28;43mself\u001b[39;49m\u001b[38;5;241;43m.\u001b[39;49m\u001b[43mtarget_id\u001b[49m\u001b[43m,\u001b[49m\u001b[43m \u001b[49m\u001b[38;5;28;43mself\u001b[39;49m\u001b[38;5;241;43m.\u001b[39;49m\u001b[43mname\u001b[49m\u001b[43m)\u001b[49m\n\u001b[1;32m   1324\u001b[0m \u001b[38;5;28;01mfor\u001b[39;00m temp_arg \u001b[38;5;129;01min\u001b[39;00m temp_args:\n\u001b[1;32m   1325\u001b[0m     temp_arg\u001b[38;5;241m.\u001b[39m_detach()\n",
      "File \u001b[0;32m~/spark/python/pyspark/sql/utils.py:117\u001b[0m, in \u001b[0;36mcapture_sql_exception.<locals>.deco\u001b[0;34m(*a, **kw)\u001b[0m\n\u001b[1;32m    113\u001b[0m converted \u001b[38;5;241m=\u001b[39m convert_exception(e\u001b[38;5;241m.\u001b[39mjava_exception)\n\u001b[1;32m    114\u001b[0m \u001b[38;5;28;01mif\u001b[39;00m \u001b[38;5;129;01mnot\u001b[39;00m \u001b[38;5;28misinstance\u001b[39m(converted, UnknownException):\n\u001b[1;32m    115\u001b[0m     \u001b[38;5;66;03m# Hide where the exception came from that shows a non-Pythonic\u001b[39;00m\n\u001b[1;32m    116\u001b[0m     \u001b[38;5;66;03m# JVM exception message.\u001b[39;00m\n\u001b[0;32m--> 117\u001b[0m     \u001b[38;5;28;01mraise\u001b[39;00m converted \u001b[38;5;28;01mfrom\u001b[39;00m \u001b[38;5;28mNone\u001b[39m\n\u001b[1;32m    118\u001b[0m \u001b[38;5;28;01melse\u001b[39;00m:\n\u001b[1;32m    119\u001b[0m     \u001b[38;5;28;01mraise\u001b[39;00m\n",
      "\u001b[0;31mAnalysisException\u001b[0m: expression 'class.loc' is neither present in the group by, nor is it an aggregate function. Add to group by or wrap in first() (or first_value) if you don't care which value you get.;\nAggregate [teaching_type#5], [loc#3, teaching_type#5, sum(class_std_cnt#2) AS sum(class_std_cnt)#15L]\n+- SubqueryAlias class\n   +- View (`class`, [class_cd#0,school#1,class_std_cnt#2,loc#3,school_type#4,teaching_type#5])\n      +- Relation [class_cd#0,school#1,class_std_cnt#2,loc#3,school_type#4,teaching_type#5] csv\n"
     ]
    }
   ],
   "source": [
    "# 지역별 교육타입별 학생 숫자를 구해보자.\n",
    "spark.sql('''\n",
    "select loc, teaching_type, sum(class_std_cnt) from class group by teaching_type\n",
    "                ''').show()\n",
    "print('''지역내 교육타입별 학생 숫자와 평균을 구해보자. 단  지역내 교육타입별 학생 숫자의 총 합이 300미만인 데이터는 제외한다.''')\n",
    "print('컬럼명이 sum(class_std_cnt) 이라니 너무 이상하다. 집계함수를 수행하고 별칭을 붙여보자')"
   ]
  },
  {
   "cell_type": "markdown",
   "metadata": {},
   "source": [
    "## orderBy()"
   ]
  },
  {
   "cell_type": "code",
   "execution_count": 34,
   "metadata": {},
   "outputs": [
    {
     "name": "stdout",
     "output_type": "stream",
     "text": [
      "반 학생 숫자를 기준으로 내림차순 정렬하라\n"
     ]
    },
    {
     "name": "stderr",
     "output_type": "stream",
     "text": [
      "                                                                                \r"
     ]
    },
    {
     "name": "stdout",
     "output_type": "stream",
     "text": [
      "+--------+------+-------------+--------+-----------+-------------+\n",
      "|class_cd|school|class_std_cnt|     loc|school_type|teaching_type|\n",
      "+--------+------+-------------+--------+-----------+-------------+\n",
      "|     18K| GOOBU|           31|   Urban|     Public|     Standard|\n",
      "|     ZBH| ZOWMK|           30|   Urban|     Public|     Standard|\n",
      "|     A93| VVTVA|           30|   Urban|     Public| Experimental|\n",
      "|     YTB| VVTVA|           30|   Urban|     Public| Experimental|\n",
      "|     Q0E| ZOWMK|           30|   Urban|     Public| Experimental|\n",
      "|     QA2| ZOWMK|           30|   Urban|     Public|     Standard|\n",
      "|     7BL| VVTVA|           29|   Urban|     Public|     Standard|\n",
      "|     SUR| QOQTS|           28|   Urban|     Public|     Standard|\n",
      "|     1Q1| CUQAM|           28|   Urban|     Public|     Standard|\n",
      "|     OMI| CUQAM|           28|   Urban|     Public|     Standard|\n",
      "|     HKF| GOOBU|           28|   Urban|     Public|     Standard|\n",
      "|     0N7| QOQTS|           28|   Urban|     Public| Experimental|\n",
      "|     ROP| DNQDD|           28|Suburban|     Public| Experimental|\n",
      "|     1VD| KFZMY|           27|   Urban| Non-public| Experimental|\n",
      "|     BFY| CUQAM|           27|   Urban|     Public|     Standard|\n",
      "|     XXJ| DNQDD|           27|Suburban|     Public|     Standard|\n",
      "|     2AP| DNQDD|           27|Suburban|     Public|     Standard|\n",
      "|     NOR| GJJHK|           27|Suburban|     Public| Experimental|\n",
      "|     CII| ZOWMK|           27|   Urban|     Public|     Standard|\n",
      "|     ZDT| GJJHK|           27|Suburban|     Public|     Standard|\n",
      "+--------+------+-------------+--------+-----------+-------------+\n",
      "only showing top 20 rows\n",
      "\n",
      "loc를 기준으로 오름차순 정렬하라, 이때 같은 지역끼리는 학교이름을 기준으로 내림차순 정렬하라\n"
     ]
    },
    {
     "name": "stderr",
     "output_type": "stream",
     "text": [
      "                                                                                \r"
     ]
    },
    {
     "name": "stdout",
     "output_type": "stream",
     "text": [
      "+--------+------+-------------+-----+-----------+-------------+\n",
      "|class_cd|school|class_std_cnt|  loc|school_type|teaching_type|\n",
      "+--------+------+-------------+-----+-----------+-------------+\n",
      "|     5SD|  null|         null| null|       null|         null|\n",
      "|     4SZ|  null|         null| null|       null|         null|\n",
      "|     6PP|  null|         null| null|       null|         null|\n",
      "|     341| VKWQH|           18|Rural|     Public|     Standard|\n",
      "|     DFQ| VKWQH|           19|Rural|     Public| Experimental|\n",
      "|     GYM| VKWQH|           20|Rural|     Public|     Standard|\n",
      "|     D33| VKWQH|           21|Rural|     Public|     Standard|\n",
      "|     IEM| VKWQH|           22|Rural|     Public| Experimental|\n",
      "|     CD8| VHDHF|           20|Rural| Non-public| Experimental|\n",
      "|     J6X| VHDHF|           16|Rural| Non-public|     Standard|\n",
      "|     KR1| VHDHF|           15|Rural| Non-public| Experimental|\n",
      "|     6U9| OJOBU|           22|Rural|     Public|     Standard|\n",
      "|     FS3| OJOBU|           19|Rural|     Public|     Standard|\n",
      "|     XJ8| OJOBU|           23|Rural|     Public|     Standard|\n",
      "|     5SZ| OJOBU|           17|Rural|     Public| Experimental|\n",
      "|     J8J| LAYPA|           19|Rural|     Public|     Standard|\n",
      "|     RA5| LAYPA|           17|Rural|     Public| Experimental|\n",
      "|     AJ1| LAYPA|           21|Rural|     Public|     Standard|\n",
      "|     2BR| KZKKE|           20|Rural|     Public|     Standard|\n",
      "|     3D0| KZKKE|           22|Rural|     Public|     Standard|\n",
      "+--------+------+-------------+-----+-----------+-------------+\n",
      "only showing top 20 rows\n",
      "\n",
      "학교 종류를 기준으로 오름차순 정렬하라, 만약 school_type이 null인 행이 있다면 제일 위로 오게 하라\n"
     ]
    },
    {
     "name": "stderr",
     "output_type": "stream",
     "text": [
      "\r",
      "[Stage 34:>                                                         (0 + 1) / 1]\r"
     ]
    },
    {
     "name": "stdout",
     "output_type": "stream",
     "text": [
      "+--------+------+-------------+--------+-----------+-------------+\n",
      "|class_cd|school|class_std_cnt|     loc|school_type|teaching_type|\n",
      "+--------+------+-------------+--------+-----------+-------------+\n",
      "|     5SD|  null|         null|    null|       null|         null|\n",
      "|     4SZ|  null|         null|    null|       null|         null|\n",
      "|     6PP|  null|         null|    null|       null|         null|\n",
      "|     5LQ| FBUMG|           18|   Rural| Non-public| Experimental|\n",
      "|     JGD| FBUMG|           14|   Rural| Non-public| Experimental|\n",
      "|     197| FBUMG|           14|   Rural| Non-public| Experimental|\n",
      "|     PGK| CCAAW|           21|Suburban| Non-public|     Standard|\n",
      "|     UWK| CCAAW|           19|Suburban| Non-public|     Standard|\n",
      "|     EID| CIMBB|           21|   Urban| Non-public|     Standard|\n",
      "|     05H| IDGFP|           22|   Urban| Non-public|     Standard|\n",
      "|     MDE|  null|           10|   Rural| Non-public| Experimental|\n",
      "|     98D| IDGFP|           21|   Urban| Non-public| Experimental|\n",
      "|     ZNS| ANKYI|           21|   Urban| Non-public|     Standard|\n",
      "|     G2L| IDGFP|           17|   Urban| Non-public|     Standard|\n",
      "|     P2A| IDGFP|           17|   Urban| Non-public| Experimental|\n",
      "|     PC6| CIMBB|           17|   Urban| Non-public|     Standard|\n",
      "|     XZM| IDGFP|           17|   Urban| Non-public|     Standard|\n",
      "|     SSP| UUUQX|           15|Suburban| Non-public|     Standard|\n",
      "|     6OL| ANKYI|           20|   Urban| Non-public|     Standard|\n",
      "|     EPS| CCAAW|           20|Suburban| Non-public| Experimental|\n",
      "+--------+------+-------------+--------+-----------+-------------+\n",
      "only showing top 20 rows\n",
      "\n"
     ]
    },
    {
     "name": "stderr",
     "output_type": "stream",
     "text": [
      "\r",
      "                                                                                \r"
     ]
    }
   ],
   "source": [
    "print('반 학생 숫자를 기준으로 내림차순 정렬하라')\n",
    "# cdf.select('*') \\\n",
    "#     .orderBy(cdf.class_std_cnt, ascending=0).show(20)\n",
    "cdf.select('*') \\\n",
    "    .orderBy(cdf.class_std_cnt.desc()).show(20)\n",
    "print('loc를 기준으로 오름차순 정렬하라, 이때 같은 지역끼리는 학교이름을 기준으로 내림차순 정렬하라')\n",
    "# cdf.select('*') \\\n",
    "#     .orderBy(cdf.loc,cdf.school, ascending=[1,0]).show(20)\n",
    "cdf.orderBy(cdf.loc.asc(),cdf.school.desc()).show(20)\n",
    "print('학교 종류를 기준으로 오름차순 정렬하라, 만약 school_type이 null인 행이 있다면 제일 위로 오게 하라')\n",
    "cdf.select('*') \\\n",
    "    .orderBy(cdf.school_type.asc_nulls_first()).show(20)"
   ]
  },
  {
   "cell_type": "markdown",
   "metadata": {},
   "source": [
    "#### sql"
   ]
  },
  {
   "cell_type": "code",
   "execution_count": 22,
   "metadata": {},
   "outputs": [
    {
     "name": "stdout",
     "output_type": "stream",
     "text": [
      "root\n",
      " |-- class_cd: string (nullable = true)\n",
      " |-- school: string (nullable = true)\n",
      " |-- class_std_cnt: integer (nullable = true)\n",
      " |-- loc: string (nullable = true)\n",
      " |-- school_type: string (nullable = true)\n",
      " |-- teaching_type: string (nullable = true)\n",
      "\n",
      "반 학생 숫자를 기준으로 내림차순 정렬하라\n"
     ]
    },
    {
     "name": "stderr",
     "output_type": "stream",
     "text": [
      "                                                                                \r"
     ]
    },
    {
     "name": "stdout",
     "output_type": "stream",
     "text": [
      "+--------+------+-------------+--------+-----------+-------------+\n",
      "|class_cd|school|class_std_cnt|     loc|school_type|teaching_type|\n",
      "+--------+------+-------------+--------+-----------+-------------+\n",
      "|     18K| GOOBU|           31|   Urban|     Public|     Standard|\n",
      "|     ZBH| ZOWMK|           30|   Urban|     Public|     Standard|\n",
      "|     A93| VVTVA|           30|   Urban|     Public| Experimental|\n",
      "|     YTB| VVTVA|           30|   Urban|     Public| Experimental|\n",
      "|     Q0E| ZOWMK|           30|   Urban|     Public| Experimental|\n",
      "|     QA2| ZOWMK|           30|   Urban|     Public|     Standard|\n",
      "|     7BL| VVTVA|           29|   Urban|     Public|     Standard|\n",
      "|     SUR| QOQTS|           28|   Urban|     Public|     Standard|\n",
      "|     1Q1| CUQAM|           28|   Urban|     Public|     Standard|\n",
      "|     OMI| CUQAM|           28|   Urban|     Public|     Standard|\n",
      "|     HKF| GOOBU|           28|   Urban|     Public|     Standard|\n",
      "|     0N7| QOQTS|           28|   Urban|     Public| Experimental|\n",
      "|     ROP| DNQDD|           28|Suburban|     Public| Experimental|\n",
      "|     1VD| KFZMY|           27|   Urban| Non-public| Experimental|\n",
      "|     BFY| CUQAM|           27|   Urban|     Public|     Standard|\n",
      "|     XXJ| DNQDD|           27|Suburban|     Public|     Standard|\n",
      "|     2AP| DNQDD|           27|Suburban|     Public|     Standard|\n",
      "|     NOR| GJJHK|           27|Suburban|     Public| Experimental|\n",
      "|     CII| ZOWMK|           27|   Urban|     Public|     Standard|\n",
      "|     ZDT| GJJHK|           27|Suburban|     Public|     Standard|\n",
      "+--------+------+-------------+--------+-----------+-------------+\n",
      "only showing top 20 rows\n",
      "\n",
      "loc를 기준으로 오름차순 정렬하라, 이때 같은 지역끼리는 학교이름을 기준으로 내림차순 정렬하라\n"
     ]
    },
    {
     "name": "stderr",
     "output_type": "stream",
     "text": [
      "                                                                                \r"
     ]
    },
    {
     "name": "stdout",
     "output_type": "stream",
     "text": [
      "+--------+------+-------------+-----+-----------+-------------+\n",
      "|class_cd|school|class_std_cnt|  loc|school_type|teaching_type|\n",
      "+--------+------+-------------+-----+-----------+-------------+\n",
      "|     5SD|  null|         null| null|       null|         null|\n",
      "|     4SZ|  null|         null| null|       null|         null|\n",
      "|     6PP|  null|         null| null|       null|         null|\n",
      "|     341| VKWQH|           18|Rural|     Public|     Standard|\n",
      "|     DFQ| VKWQH|           19|Rural|     Public| Experimental|\n",
      "|     GYM| VKWQH|           20|Rural|     Public|     Standard|\n",
      "|     D33| VKWQH|           21|Rural|     Public|     Standard|\n",
      "|     IEM| VKWQH|           22|Rural|     Public| Experimental|\n",
      "|     CD8| VHDHF|           20|Rural| Non-public| Experimental|\n",
      "|     J6X| VHDHF|           16|Rural| Non-public|     Standard|\n",
      "|     KR1| VHDHF|           15|Rural| Non-public| Experimental|\n",
      "|     6U9| OJOBU|           22|Rural|     Public|     Standard|\n",
      "|     FS3| OJOBU|           19|Rural|     Public|     Standard|\n",
      "|     XJ8| OJOBU|           23|Rural|     Public|     Standard|\n",
      "|     5SZ| OJOBU|           17|Rural|     Public| Experimental|\n",
      "|     J8J| LAYPA|           19|Rural|     Public|     Standard|\n",
      "|     RA5| LAYPA|           17|Rural|     Public| Experimental|\n",
      "|     AJ1| LAYPA|           21|Rural|     Public|     Standard|\n",
      "|     2BR| KZKKE|           20|Rural|     Public|     Standard|\n",
      "|     3D0| KZKKE|           22|Rural|     Public|     Standard|\n",
      "+--------+------+-------------+-----+-----------+-------------+\n",
      "only showing top 20 rows\n",
      "\n",
      "학교 종류를 기준으로 오름차순 정렬하라, 만약 school_type이 null인 행이 있다면 제일 위로 오게 하라\n"
     ]
    },
    {
     "name": "stderr",
     "output_type": "stream",
     "text": [
      "\r",
      "[Stage 13:>                                                         (0 + 1) / 1]\r"
     ]
    },
    {
     "name": "stdout",
     "output_type": "stream",
     "text": [
      "+--------+------+-------------+--------+-----------+-------------+\n",
      "|class_cd|school|class_std_cnt|     loc|school_type|teaching_type|\n",
      "+--------+------+-------------+--------+-----------+-------------+\n",
      "|     6OL| ANKYI|           20|   Urban| Non-public|     Standard|\n",
      "|     ZNS| ANKYI|           21|   Urban| Non-public|     Standard|\n",
      "|     2B1| CCAAW|           18|Suburban| Non-public| Experimental|\n",
      "|     EPS| CCAAW|           20|Suburban| Non-public| Experimental|\n",
      "|     IQN| CCAAW|           15|Suburban| Non-public| Experimental|\n",
      "|     PGK| CCAAW|           21|Suburban| Non-public|     Standard|\n",
      "|     UHU| CCAAW|           16|Suburban| Non-public| Experimental|\n",
      "|     UWK| CCAAW|           19|Suburban| Non-public|     Standard|\n",
      "|     A33| CIMBB|           19|   Urban| Non-public|     Standard|\n",
      "|     EID| CIMBB|           21|   Urban| Non-public|     Standard|\n",
      "|     HUJ| CIMBB|           17|   Urban| Non-public| Experimental|\n",
      "|     PC6| CIMBB|           17|   Urban| Non-public|     Standard|\n",
      "|     197| FBUMG|           14|   Rural| Non-public| Experimental|\n",
      "|     5LQ| FBUMG|           18|   Rural| Non-public| Experimental|\n",
      "|     JGD| FBUMG|           14|   Rural| Non-public| Experimental|\n",
      "|     05H| IDGFP|           22|   Urban| Non-public|     Standard|\n",
      "|     98D| IDGFP|           21|   Urban| Non-public| Experimental|\n",
      "|     G2L| IDGFP|           17|   Urban| Non-public|     Standard|\n",
      "|     P2A| IDGFP|           17|   Urban| Non-public| Experimental|\n",
      "|     XZM| IDGFP|           17|   Urban| Non-public|     Standard|\n",
      "+--------+------+-------------+--------+-----------+-------------+\n",
      "only showing top 20 rows\n",
      "\n"
     ]
    },
    {
     "name": "stderr",
     "output_type": "stream",
     "text": [
      "\r",
      "                                                                                \r"
     ]
    }
   ],
   "source": [
    "cdf.printSchema()\n",
    "print('반 학생 숫자를 기준으로 내림차순 정렬하라')\n",
    "spark.sql(\"select * from class order by class_std_cnt desc\").show()\n",
    "\n",
    "print('loc를 기준으로 오름차순 정렬하라, 이때 같은 지역끼리는 학교이름을 기준으로 내림차순 정렬하라')\n",
    "spark.sql(\"select * from class order by loc asc, school desc\").show()\n",
    "\n",
    "\n",
    "print('학교 종류를 기준으로 오름차순 정렬하라, 만약 school_type이 null인 행이 있다면 제일 위로 오게 하라')\n",
    "spark.sql(\"select * from class order by school_type asc nulls last\").show()"
   ]
  }
 ],
 "metadata": {
  "kernelspec": {
   "display_name": "Python 3 (ipykernel)",
   "language": "python",
   "name": "python3"
  },
  "language_info": {
   "codemirror_mode": {
    "name": "ipython",
    "version": 3
   },
   "file_extension": ".py",
   "mimetype": "text/x-python",
   "name": "python",
   "nbconvert_exporter": "python",
   "pygments_lexer": "ipython3",
   "version": "3.8.10"
  }
 },
 "nbformat": 4,
 "nbformat_minor": 5
}
