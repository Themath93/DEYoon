{
 "cells": [
  {
   "cell_type": "code",
   "execution_count": 1,
   "metadata": {},
   "outputs": [],
   "source": [
    "from IPython.core.interactiveshell import InteractiveShell\n",
    "InteractiveShell.ast_node_interactivity = \"all\""
   ]
  },
  {
   "cell_type": "code",
   "execution_count": 2,
   "metadata": {},
   "outputs": [],
   "source": [
    "from datetime import date, datetime\n",
    "from pyspark.sql import *\n",
    "from pyspark.sql.types import *\n",
    "from pyspark.sql.functions import *\n",
    "from pyspark.sql import functions as F"
   ]
  },
  {
   "cell_type": "code",
   "execution_count": 3,
   "metadata": {},
   "outputs": [
    {
     "name": "stderr",
     "output_type": "stream",
     "text": [
      "                                                                                \r"
     ]
    },
    {
     "name": "stdout",
     "output_type": "stream",
     "text": [
      "root\n",
      " |-- class_cd: string (nullable = true)\n",
      " |-- school: string (nullable = true)\n",
      " |-- class_std_cnt: string (nullable = true)\n",
      " |-- loc: string (nullable = true)\n",
      " |-- school_type: string (nullable = true)\n",
      " |-- teaching_type: string (nullable = true)\n",
      "\n"
     ]
    }
   ],
   "source": [
    "cdf = spark.read.csv('/dataframe/a_class_info.csv', header=True)\n",
    "cdf.printSchema()"
   ]
  },
  {
   "cell_type": "markdown",
   "metadata": {},
   "source": [
    "## Set Operation\n",
    "\n",
    "- 집합연산\n",
    "    - union : 합집합, 결과집합에서 중복되는 행 제거하지 않음\n",
    "    - unionAll : 2.0버전이후 union으로 대체됨, union과 동일한 함수\n",
    "    - exceptAll : 차집합\n",
    "    - intersect : 교집합, 결과집합에서 중복되는 행 제거\n",
    "    - intersectAll : 교집합, 결과집합에서 중복되는 행 제거하지 않음\n",
    "    "
   ]
  },
  {
   "cell_type": "markdown",
   "metadata": {},
   "source": [
    "![dataframe](./img/set_operation.jpg)\n",
    "![dataframe](./img/Union-VS-intersection-.jpg)\n"
   ]
  },
  {
   "cell_type": "markdown",
   "metadata": {},
   "source": [
    "### union, unionAll"
   ]
  },
  {
   "cell_type": "code",
   "execution_count": 20,
   "metadata": {
    "scrolled": false
   },
   "outputs": [
    {
     "name": "stdout",
     "output_type": "stream",
     "text": [
      "+--------+------+-------------+--------+-----------+-------------+\n",
      "|class_cd|school|class_std_cnt|     loc|school_type|teaching_type|\n",
      "+--------+------+-------------+--------+-----------+-------------+\n",
      "|     18K| GOOBU|           31|   Urban|     Public|     Standard|\n",
      "|     A93| VVTVA|           30|   Urban|     Public| Experimental|\n",
      "|     YTB| VVTVA|           30|   Urban|     Public| Experimental|\n",
      "|     Q0E| ZOWMK|           30|   Urban|     Public| Experimental|\n",
      "|     QA2| ZOWMK|           30|   Urban|     Public|     Standard|\n",
      "|     ZBH| ZOWMK|           30|   Urban|     Public|     Standard|\n",
      "|     IQN| CCAAW|           15|Suburban| Non-public| Experimental|\n",
      "|     197| FBUMG|           14|   Rural| Non-public| Experimental|\n",
      "|     JGD| FBUMG|           14|   Rural| Non-public| Experimental|\n",
      "|     MDE|  null|           10|   Rural| Non-public| Experimental|\n",
      "|     SSP| UUUQX|           15|Suburban| Non-public|     Standard|\n",
      "|     KR1| VHDHF|           15|   Rural| Non-public| Experimental|\n",
      "+--------+------+-------------+--------+-----------+-------------+\n",
      "\n",
      "+--------+------+-------------+--------+-----------+-------------+\n",
      "|class_cd|school|class_std_cnt|     loc|school_type|teaching_type|\n",
      "+--------+------+-------------+--------+-----------+-------------+\n",
      "|     IQN| CCAAW|           15|Suburban| Non-public| Experimental|\n",
      "|     197| FBUMG|           14|   Rural| Non-public| Experimental|\n",
      "|     JGD| FBUMG|           14|   Rural| Non-public| Experimental|\n",
      "|     18K| GOOBU|           31|   Urban|     Public|     Standard|\n",
      "|     MDE|  null|           10|   Rural| Non-public| Experimental|\n",
      "|     SSP| UUUQX|           15|Suburban| Non-public|     Standard|\n",
      "|     KR1| VHDHF|           15|   Rural| Non-public| Experimental|\n",
      "|     A93| VVTVA|           30|   Urban|     Public| Experimental|\n",
      "|     YTB| VVTVA|           30|   Urban|     Public| Experimental|\n",
      "|     Q0E| ZOWMK|           30|   Urban|     Public| Experimental|\n",
      "|     QA2| ZOWMK|           30|   Urban|     Public|     Standard|\n",
      "|     ZBH| ZOWMK|           30|   Urban|     Public|     Standard|\n",
      "+--------+------+-------------+--------+-----------+-------------+\n",
      "\n"
     ]
    },
    {
     "name": "stderr",
     "output_type": "stream",
     "text": [
      "\r\n",
      "[Stage 28:>                                                         (0 + 1) / 1]\r\n",
      "\r\n",
      "                                                                                \r"
     ]
    }
   ],
   "source": []
  },
  {
   "cell_type": "markdown",
   "metadata": {},
   "source": [
    "### intersect, intersectAll"
   ]
  },
  {
   "cell_type": "code",
   "execution_count": 50,
   "metadata": {},
   "outputs": [
    {
     "name": "stdout",
     "output_type": "stream",
     "text": [
      "+--------+------+-------------+-----+-----------+-------------+\n",
      "|class_cd|school|class_std_cnt|  loc|school_type|teaching_type|\n",
      "+--------+------+-------------+-----+-----------+-------------+\n",
      "|     1Q1| CUQAM|           28|Urban|     Public|     Standard|\n",
      "|     A33| CIMBB|           19|Urban| Non-public|     Standard|\n",
      "|     BFY| CUQAM|           27|Urban|     Public|     Standard|\n",
      "|     EID| CIMBB|           21|Urban| Non-public|     Standard|\n",
      "|     HUJ| CIMBB|           17|Urban| Non-public| Experimental|\n",
      "|     OMI| CUQAM|           28|Urban|     Public|     Standard|\n",
      "|     PC6| CIMBB|           17|Urban| Non-public|     Standard|\n",
      "|     X6Z| CUQAM|           24|Urban|     Public| Experimental|\n",
      "+--------+------+-------------+-----+-----------+-------------+\n",
      "\n",
      "+--------+------+-------------+-----+-----------+-------------+\n",
      "|class_cd|school|class_std_cnt|  loc|school_type|teaching_type|\n",
      "+--------+------+-------------+-----+-----------+-------------+\n",
      "|     1Q1| CUQAM|           28|Urban|     Public|     Standard|\n",
      "|     A33| CIMBB|           19|Urban| Non-public|     Standard|\n",
      "|     BFY| CUQAM|           27|Urban|     Public|     Standard|\n",
      "|     EID| CIMBB|           21|Urban| Non-public|     Standard|\n",
      "|     HUJ| CIMBB|           17|Urban| Non-public| Experimental|\n",
      "|     OMI| CUQAM|           28|Urban|     Public|     Standard|\n",
      "|     PC6| CIMBB|           17|Urban| Non-public|     Standard|\n",
      "|     X6Z| CUQAM|           24|Urban|     Public| Experimental|\n",
      "+--------+------+-------------+-----+-----------+-------------+\n",
      "\n"
     ]
    }
   ],
   "source": []
  },
  {
   "cell_type": "code",
   "execution_count": null,
   "metadata": {},
   "outputs": [],
   "source": []
  },
  {
   "cell_type": "markdown",
   "metadata": {},
   "source": [
    "### exceptAll"
   ]
  },
  {
   "cell_type": "code",
   "execution_count": 51,
   "metadata": {},
   "outputs": [
    {
     "name": "stderr",
     "output_type": "stream",
     "text": [
      "[Stage 191:============================>                            (2 + 2) / 4]\r"
     ]
    },
    {
     "name": "stdout",
     "output_type": "stream",
     "text": [
      "+--------+------+-------------+--------+-----------+-------------+\n",
      "|class_cd|school|class_std_cnt|     loc|school_type|teaching_type|\n",
      "+--------+------+-------------+--------+-----------+-------------+\n",
      "|     2B1| CCAAW|           18|Suburban| Non-public| Experimental|\n",
      "|     EPS| CCAAW|           20|Suburban| Non-public| Experimental|\n",
      "|     IQN| CCAAW|           15|Suburban| Non-public| Experimental|\n",
      "|     PGK| CCAAW|           21|Suburban| Non-public|     Standard|\n",
      "|     UHU| CCAAW|           16|Suburban| Non-public| Experimental|\n",
      "|     UWK| CCAAW|           19|Suburban| Non-public|     Standard|\n",
      "+--------+------+-------------+--------+-----------+-------------+\n",
      "\n"
     ]
    },
    {
     "name": "stderr",
     "output_type": "stream",
     "text": [
      "\r\n",
      "                                                                                \r"
     ]
    }
   ],
   "source": []
  }
 ],
 "metadata": {
  "kernelspec": {
   "display_name": "Python 3 (ipykernel)",
   "language": "python",
   "name": "python3"
  },
  "language_info": {
   "codemirror_mode": {
    "name": "ipython",
    "version": 3
   },
   "file_extension": ".py",
   "mimetype": "text/x-python",
   "name": "python",
   "nbconvert_exporter": "python",
   "pygments_lexer": "ipython3",
   "version": "3.8.10"
  }
 },
 "nbformat": 4,
 "nbformat_minor": 5
}
