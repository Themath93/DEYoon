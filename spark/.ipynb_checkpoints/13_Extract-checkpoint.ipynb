{
 "cells": [
  {
   "cell_type": "code",
   "execution_count": 2,
   "metadata": {},
   "outputs": [
    {
     "name": "stdout",
     "output_type": "stream",
     "text": [
      "Collecting hdfs\n",
      "  Downloading hdfs-2.7.0-py3-none-any.whl (34 kB)\n",
      "Requirement already satisfied: requests>=2.7.0 in /usr/lib/python3/dist-packages (from hdfs) (2.22.0)\n",
      "Requirement already satisfied: six>=1.9.0 in /usr/lib/python3/dist-packages (from hdfs) (1.14.0)\n",
      "Collecting docopt\n",
      "  Downloading docopt-0.6.2.tar.gz (25 kB)\n",
      "Building wheels for collected packages: docopt\n",
      "  Building wheel for docopt (setup.py) ... \u001b[?25ldone\n",
      "\u001b[?25h  Created wheel for docopt: filename=docopt-0.6.2-py2.py3-none-any.whl size=13704 sha256=b878c93ec9a9fd400be86b4e263130027699d07ef0bf8b3f65f82fc5f0d9ae30\n",
      "  Stored in directory: /home/big/.cache/pip/wheels/56/ea/58/ead137b087d9e326852a851351d1debf4ada529b6ac0ec4e8c\n",
      "Successfully built docopt\n",
      "Installing collected packages: docopt, hdfs\n",
      "\u001b[33m  WARNING: The scripts hdfscli and hdfscli-avro are installed in '/home/big/.local/bin' which is not on PATH.\n",
      "  Consider adding this directory to PATH or, if you prefer to suppress this warning, use --no-warn-script-location.\u001b[0m\n",
      "Successfully installed docopt-0.6.2 hdfs-2.7.0\n"
     ]
    }
   ],
   "source": [
    "# !pip install hdfs\n",
    "# ref : https://hdfscli.readthedocs.io/en/latest/quickstart.html#python-bindings\n"
   ]
  },
  {
   "cell_type": "code",
   "execution_count": 9,
   "metadata": {},
   "outputs": [
    {
     "name": "stdout",
     "output_type": "stream",
     "text": [
      "<class 'bytes'>\n",
      "하명도 스파크 50\r\n",
      "홍길동 스파크 80\r\n",
      "임꺽정 스파크 60\r\n",
      "임요환 텐서플로우 100\r\n",
      "홍진호 텐서플로우 22\r\n",
      "홍진호 텐서플로우 22\r\n",
      "이윤열 텐서플로우 90\r\n",
      "\n"
     ]
    }
   ],
   "source": [
    "import requests\n",
    "import json\n",
    "import datetime as dt\n",
    "from hdfs import InsecureClient\n",
    "client = InsecureClient('http://localhost:9870', user='big') #나의 로컬호스트주소 #user : big(내가정함)\n",
    "\n",
    "# Loading a file in memory.\n",
    "with client.read('/rdd/score.txt') as reader:\n",
    " score = reader.read() #<class 'bytes'> 리턴타입\n",
    "\n",
    "score_str = bytes.decode(score) # 위의 bytes 리턴타입을 디코드하여 기본 인코딩인 UTF-8로 만들어준후 str, 즉 문자열로 반환해준다.\n",
    "print(score_str)"
   ]
  },
  {
   "cell_type": "markdown",
   "metadata": {},
   "source": [
    "## hdfs로 부터 읽기"
   ]
  },
  {
   "cell_type": "code",
   "execution_count": 10,
   "metadata": {},
   "outputs": [],
   "source": []
  },
  {
   "cell_type": "markdown",
   "metadata": {},
   "source": [
    "## hdfs에 쓰기"
   ]
  },
  {
   "cell_type": "code",
   "execution_count": 22,
   "metadata": {
    "collapsed": true
   },
   "outputs": [],
   "source": [
    "# Writing part of a file.\n",
    "with open('/home/big/study/data/corona_data/sido_area.csv',encoding='CP949') as reader, client.write('/corana_data/loc/sido_area.csv') as writer:\n",
    "  for line in reader:\n",
    "    writer.write(line.encode('CP949'))\n"
   ]
  },
  {
   "cell_type": "code",
   "execution_count": 11,
   "metadata": {},
   "outputs": [
    {
     "data": {
      "text/plain": [
       "'/corona_data/loc'"
      ]
     },
     "execution_count": 11,
     "metadata": {},
     "output_type": "execute_result"
    }
   ],
   "source": [
    "client.upload(\"/corona_data/loc\",'/home/big/study/data/corona_data')"
   ]
  },
  {
   "cell_type": "markdown",
   "metadata": {},
   "source": [
    "## hdfs에 수정하기"
   ]
  },
  {
   "cell_type": "code",
   "execution_count": 12,
   "metadata": {},
   "outputs": [],
   "source": [
    "client.write('/rdd/score.txt', \"최연성 장고 100\".encode('UTF-8'),append=True)"
   ]
  },
  {
   "cell_type": "markdown",
   "metadata": {},
   "source": [
    "## hdfs 권한 수정"
   ]
  },
  {
   "cell_type": "code",
   "execution_count": 13,
   "metadata": {},
   "outputs": [],
   "source": []
  },
  {
   "cell_type": "markdown",
   "metadata": {},
   "source": [
    "## hdfs 삭제"
   ]
  },
  {
   "cell_type": "code",
   "execution_count": 19,
   "metadata": {
    "scrolled": true
   },
   "outputs": [
    {
     "data": {
      "text/plain": [
       "False"
      ]
     },
     "execution_count": 19,
     "metadata": {},
     "output_type": "execute_result"
    }
   ],
   "source": []
  },
  {
   "cell_type": "markdown",
   "metadata": {},
   "source": [
    "## REST_API로 데이터를 호출해 HDFS에 저장"
   ]
  },
  {
   "cell_type": "code",
   "execution_count": 23,
   "metadata": {},
   "outputs": [],
   "source": [
    "\n",
    "\n"
   ]
  },
  {
   "cell_type": "markdown",
   "metadata": {},
   "source": [
    "### 기준일자 함수"
   ]
  },
  {
   "cell_type": "code",
   "execution_count": 24,
   "metadata": {},
   "outputs": [],
   "source": []
  },
  {
   "cell_type": "markdown",
   "metadata": {},
   "source": [
    "### logger"
   ]
  },
  {
   "cell_type": "code",
   "execution_count": 25,
   "metadata": {},
   "outputs": [],
   "source": []
  },
  {
   "cell_type": "code",
   "execution_count": 26,
   "metadata": {},
   "outputs": [],
   "source": []
  },
  {
   "cell_type": "markdown",
   "metadata": {},
   "source": [
    "### api 호출"
   ]
  },
  {
   "cell_type": "code",
   "execution_count": null,
   "metadata": {},
   "outputs": [],
   "source": [
    "  \n",
    "        \n",
    "     \n",
    "\n"
   ]
  },
  {
   "cell_type": "markdown",
   "metadata": {},
   "source": [
    "## 웹크롤링 hdfs 저장"
   ]
  },
  {
   "cell_type": "code",
   "execution_count": 5,
   "metadata": {},
   "outputs": [
    {
     "name": "stderr",
     "output_type": "stream",
     "text": [
      "2022-09-06 05:27:54,011 INFO spark.SparkContext: Invoking stop() from shutdown hook\n",
      "2022-09-06 05:27:54,020 INFO server.AbstractConnector: Stopped Spark@c7a281b{HTTP/1.1, (http/1.1)}{0.0.0.0:4040}\n",
      "2022-09-06 05:27:54,025 INFO ui.SparkUI: Stopped Spark web UI at http://localhost:4040\n",
      "2022-09-06 05:27:54,030 INFO cluster.YarnClientSchedulerBackend: Interrupting monitor thread\n",
      "2022-09-06 05:27:54,048 INFO cluster.YarnClientSchedulerBackend: Shutting down all executors\n",
      "2022-09-06 05:27:54,049 INFO cluster.YarnSchedulerBackend$YarnDriverEndpoint: Asking each executor to shut down\n",
      "2022-09-06 05:27:54,056 INFO cluster.YarnClientSchedulerBackend: YARN client scheduler backend Stopped\n",
      "2022-09-06 05:27:54,071 INFO spark.MapOutputTrackerMasterEndpoint: MapOutputTrackerMasterEndpoint stopped!\n",
      "2022-09-06 05:27:54,096 INFO memory.MemoryStore: MemoryStore cleared\n",
      "2022-09-06 05:27:54,096 INFO storage.BlockManager: BlockManager stopped\n",
      "2022-09-06 05:27:54,103 INFO storage.BlockManagerMaster: BlockManagerMaster stopped\n",
      "2022-09-06 05:27:54,107 INFO scheduler.OutputCommitCoordinator$OutputCommitCoordinatorEndpoint: OutputCommitCoordinator stopped!\n",
      "2022-09-06 05:27:54,130 INFO spark.SparkContext: Successfully stopped SparkContext\n",
      "2022-09-06 05:27:54,130 INFO util.ShutdownHookManager: Shutdown hook called\n",
      "2022-09-06 05:27:54,131 INFO util.ShutdownHookManager: Deleting directory /tmp/spark-2b59fbc0-1283-47f5-80d7-b642211f8bb5\n",
      "2022-09-06 05:27:54,139 INFO util.ShutdownHookManager: Deleting directory /tmp/spark-2b59fbc0-1283-47f5-80d7-b642211f8bb5/pyspark-a24fef6e-441c-40a6-b172-68d8b04c6591\n",
      "2022-09-06 05:27:54,142 INFO util.ShutdownHookManager: Deleting directory /tmp/spark-7e575ef2-1cd3-4e42-bed2-a7fc1b830390\n"
     ]
    }
   ],
   "source": [
    "   \n"
   ]
  }
 ],
 "metadata": {
  "kernelspec": {
   "display_name": "Python 3 (ipykernel)",
   "language": "python",
   "name": "python3"
  },
  "language_info": {
   "codemirror_mode": {
    "name": "ipython",
    "version": 3
   },
   "file_extension": ".py",
   "mimetype": "text/x-python",
   "name": "python",
   "nbconvert_exporter": "python",
   "pygments_lexer": "ipython3",
   "version": "3.8.10"
  },
  "vscode": {
   "interpreter": {
    "hash": "916dbcbb3f70747c44a77c7bcd40155683ae19c65e1c03b4aa3499c5328201f1"
   }
  }
 },
 "nbformat": 4,
 "nbformat_minor": 5
}
