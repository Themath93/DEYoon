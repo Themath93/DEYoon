{
 "cells": [
  {
   "cell_type": "code",
   "execution_count": 1,
   "metadata": {},
   "outputs": [],
   "source": [
    "from IPython.core.interactiveshell import InteractiveShell\n",
    "InteractiveShell.ast_node_interactivity = \"all\"\n"
   ]
  },
  {
   "cell_type": "markdown",
   "metadata": {},
   "source": [
    "# Spark 데이터 종류\n",
    "\n",
    "- RDD : Low-level API에 해당 하는 데이터, 스파크에서 동작하는 모든 데이터는 결국 RDD형태로 연산된다  \n",
    "- DataFrame : 열과 행으로 이루어진 테이블 형태의 데이터\n",
    "- DataSet : 한가지 타입의 값만 저장할 수 있는 DataFrame. PySpark에서는 사용하지 않음"
   ]
  },
  {
   "cell_type": "markdown",
   "metadata": {},
   "source": [
    "## RDD \n",
    "\n",
    "### Resillient Distributed Data\n",
    "\n",
    "Resillient : 회복력 있는  \n",
    "Distributed : 분산  \n",
    "Data : 데이터  \n",
    " * Resilient : 장애가 발생할 경우 자동으로 데이터를 복구\n",
    " * Distributed : 데이터를 읽고 쓸 때 데이터를 파티셔닝 하여 병렬로 읽고 쓴다. 직렬로 모두 읽을 때 보다 속도가 빠르다\n",
    " \n",
    " \n",
    "### RDD의 특징\n",
    "\n",
    " - Read Only : 변경불가능 객체\n",
    " - Lazy Evaluation : 늦은 수행\n"
   ]
  },
  {
   "cell_type": "markdown",
   "metadata": {},
   "source": [
    "### RDD 파티셔닝\n",
    "\n",
    "- 커다란 RDD를 처음 부터 끝까지 직렬로 읽고 쓰면 시간이 오래 걸린다.\n",
    "- RDD를 작은 부분(Partition) 으로 쪼개 각 Patition 을 병렬로 읽고 써 실행속도를 향상시킬 수 있다.\n",
    "- Patition을 나눠줄때는 스파크 클러스터 환경의 cpu core 숫자에 맞춰주는 것이 속도 측면에서 유리하다.\n"
   ]
  },
  {
   "cell_type": "markdown",
   "metadata": {},
   "source": [
    "![rdd_partitioning](./img/rdd-partitioning.png)"
   ]
  },
  {
   "cell_type": "markdown",
   "metadata": {},
   "source": [
    "#### * cpu 코어가 3개일때 파티셔닝 예시\n",
    "\n",
    "![partioning](./img/partioning-optimizer.jpg)"
   ]
  },
  {
   "cell_type": "markdown",
   "metadata": {},
   "source": [
    "## RDD - 생성\n",
    "\n",
    "https://spark.apache.org/docs/latest/rdd-programming-guide.html#resilient-distributed-datasets-rdds"
   ]
  },
  {
   "cell_type": "code",
   "execution_count": 2,
   "metadata": {},
   "outputs": [
    {
     "name": "stderr",
     "output_type": "stream",
     "text": [
      "\r",
      "[Stage 0:=============================>                             (1 + 1) / 2]\r",
      "\r",
      "                                                                                \r"
     ]
    },
    {
     "data": {
      "text/plain": [
       "[1, 2, 3, 4, 5]"
      ]
     },
     "execution_count": 2,
     "metadata": {},
     "output_type": "execute_result"
    }
   ],
   "source": [
    "\n",
    "data = [1, 2, 3, 4, 5]\n",
    "distData = sc.parallelize(data)\n",
    "\n",
    "distData.collect()"
   ]
  },
  {
   "cell_type": "code",
   "execution_count": 3,
   "metadata": {},
   "outputs": [
    {
     "data": {
      "text/plain": [
       "[1, 3, 5, 7, 9]"
      ]
     },
     "execution_count": 3,
     "metadata": {},
     "output_type": "execute_result"
    },
    {
     "data": {
      "text/plain": [
       "3"
      ]
     },
     "execution_count": 3,
     "metadata": {},
     "output_type": "execute_result"
    }
   ],
   "source": [
    "# range메서드로 RDD생성\n",
    "# 1부터 10까지 2씩 증가하는 값, 파티션 3개\n",
    "rdd1 = sc.range(1, 10, 2, 3)\n",
    "\n",
    "rdd1.collect()\n",
    "rdd1.getNumPartitions()\n"
   ]
  },
  {
   "cell_type": "code",
   "execution_count": 5,
   "metadata": {
    "scrolled": true
   },
   "outputs": [
    {
     "name": "stderr",
     "output_type": "stream",
     "text": [
      "2022-09-05 13:47:27,995 INFO memory.MemoryStore: Block broadcast_4 stored as values in memory (estimated size 307.6 KiB, free 433.7 MiB)\n",
      "2022-09-05 13:47:28,230 INFO memory.MemoryStore: Block broadcast_4_piece0 stored as bytes in memory (estimated size 51.6 KiB, free 433.7 MiB)\n",
      "2022-09-05 13:47:28,238 INFO storage.BlockManagerInfo: Added broadcast_4_piece0 in memory on localhost:45529 (size: 51.6 KiB, free: 434.3 MiB)\n",
      "2022-09-05 13:47:28,253 INFO spark.SparkContext: Created broadcast 4 from textFile at NativeMethodAccessorImpl.java:0\n",
      "2022-09-05 13:47:28,423 INFO mapred.FileInputFormat: Total input files to process : 1\n",
      "2022-09-05 13:47:28,490 INFO spark.SparkContext: Starting job: collect at /tmp/ipykernel_2410/3349058622.py:2\n",
      "2022-09-05 13:47:28,497 INFO scheduler.DAGScheduler: Got job 3 (collect at /tmp/ipykernel_2410/3349058622.py:2) with 22 output partitions\n",
      "2022-09-05 13:47:28,497 INFO scheduler.DAGScheduler: Final stage: ResultStage 3 (collect at /tmp/ipykernel_2410/3349058622.py:2)\n",
      "2022-09-05 13:47:28,497 INFO scheduler.DAGScheduler: Parents of final stage: List()\n",
      "2022-09-05 13:47:28,499 INFO scheduler.DAGScheduler: Missing parents: List()\n",
      "2022-09-05 13:47:28,506 INFO scheduler.DAGScheduler: Submitting ResultStage 3 (/rdd/score.txt MapPartitionsRDD[6] at textFile at NativeMethodAccessorImpl.java:0), which has no missing parents\n",
      "2022-09-05 13:47:28,541 INFO memory.MemoryStore: Block broadcast_5 stored as values in memory (estimated size 4.9 KiB, free 433.7 MiB)\n",
      "2022-09-05 13:47:28,554 INFO memory.MemoryStore: Block broadcast_5_piece0 stored as bytes in memory (estimated size 2.8 KiB, free 433.7 MiB)\n",
      "2022-09-05 13:47:28,559 INFO storage.BlockManagerInfo: Added broadcast_5_piece0 in memory on localhost:45529 (size: 2.8 KiB, free: 434.3 MiB)\n",
      "2022-09-05 13:47:28,562 INFO spark.SparkContext: Created broadcast 5 from broadcast at DAGScheduler.scala:1478\n",
      "2022-09-05 13:47:28,567 INFO scheduler.DAGScheduler: Submitting 22 missing tasks from ResultStage 3 (/rdd/score.txt MapPartitionsRDD[6] at textFile at NativeMethodAccessorImpl.java:0) (first 15 tasks are for partitions Vector(0, 1, 2, 3, 4, 5, 6, 7, 8, 9, 10, 11, 12, 13, 14))\n",
      "2022-09-05 13:47:28,568 INFO cluster.YarnScheduler: Adding task set 3.0 with 22 tasks resource profile 0\n",
      "2022-09-05 13:47:28,580 INFO scheduler.TaskSetManager: Starting task 0.0 in stage 3.0 (TID 30) (localhost, executor 1, partition 0, PROCESS_LOCAL, 4515 bytes) taskResourceAssignments Map()\n",
      "2022-09-05 13:47:28,583 INFO scheduler.TaskSetManager: Starting task 1.0 in stage 3.0 (TID 31) (localhost, executor 2, partition 1, PROCESS_LOCAL, 4515 bytes) taskResourceAssignments Map()\n",
      "2022-09-05 13:47:28,780 INFO storage.BlockManagerInfo: Added broadcast_5_piece0 in memory on localhost:32873 (size: 2.8 KiB, free: 434.3 MiB)\n",
      "2022-09-05 13:47:28,802 INFO storage.BlockManagerInfo: Added broadcast_5_piece0 in memory on localhost:33887 (size: 2.8 KiB, free: 434.3 MiB)\n",
      "2022-09-05 13:47:28,952 INFO storage.BlockManagerInfo: Added broadcast_4_piece0 in memory on localhost:33887 (size: 51.6 KiB, free: 434.3 MiB)\n",
      "2022-09-05 13:47:29,310 INFO scheduler.TaskSetManager: Starting task 2.0 in stage 3.0 (TID 32) (localhost, executor 1, partition 2, PROCESS_LOCAL, 4515 bytes) taskResourceAssignments Map()\n",
      "2022-09-05 13:47:29,318 INFO scheduler.TaskSetManager: Finished task 0.0 in stage 3.0 (TID 30) in 739 ms on localhost (executor 1) (1/22)\n",
      "2022-09-05 13:47:29,525 INFO storage.BlockManagerInfo: Added broadcast_4_piece0 in memory on localhost:32873 (size: 51.6 KiB, free: 434.3 MiB)\n",
      "2022-09-05 13:47:29,656 INFO scheduler.TaskSetManager: Starting task 3.0 in stage 3.0 (TID 33) (localhost, executor 1, partition 3, PROCESS_LOCAL, 4515 bytes) taskResourceAssignments Map()\n",
      "2022-09-05 13:47:29,660 INFO scheduler.TaskSetManager: Finished task 2.0 in stage 3.0 (TID 32) in 353 ms on localhost (executor 1) (2/22)\n",
      "2022-09-05 13:47:30,151 INFO scheduler.TaskSetManager: Starting task 4.0 in stage 3.0 (TID 34) (localhost, executor 2, partition 4, PROCESS_LOCAL, 4515 bytes) taskResourceAssignments Map()\n",
      "2022-09-05 13:47:30,153 INFO scheduler.TaskSetManager: Finished task 1.0 in stage 3.0 (TID 31) in 1572 ms on localhost (executor 2) (3/22)\n",
      "2022-09-05 13:47:30,262 INFO scheduler.TaskSetManager: Starting task 5.0 in stage 3.0 (TID 35) (localhost, executor 1, partition 5, PROCESS_LOCAL, 4515 bytes) taskResourceAssignments Map()\n",
      "2022-09-05 13:47:30,269 INFO scheduler.TaskSetManager: Finished task 3.0 in stage 3.0 (TID 33) in 619 ms on localhost (executor 1) (4/22)\n",
      "2022-09-05 13:47:30,291 INFO scheduler.TaskSetManager: Starting task 6.0 in stage 3.0 (TID 36) (localhost, executor 2, partition 6, PROCESS_LOCAL, 4515 bytes) taskResourceAssignments Map()\n",
      "2022-09-05 13:47:30,294 INFO scheduler.TaskSetManager: Finished task 4.0 in stage 3.0 (TID 34) in 148 ms on localhost (executor 2) (5/22)\n",
      "2022-09-05 13:47:30,411 INFO scheduler.TaskSetManager: Starting task 7.0 in stage 3.0 (TID 37) (localhost, executor 1, partition 7, PROCESS_LOCAL, 4515 bytes) taskResourceAssignments Map()\n",
      "2022-09-05 13:47:30,416 INFO scheduler.TaskSetManager: Finished task 5.0 in stage 3.0 (TID 35) in 156 ms on localhost (executor 1) (6/22)\n",
      "2022-09-05 13:47:30,452 INFO scheduler.TaskSetManager: Starting task 8.0 in stage 3.0 (TID 38) (localhost, executor 2, partition 8, PROCESS_LOCAL, 4515 bytes) taskResourceAssignments Map()\n",
      "2022-09-05 13:47:30,453 INFO scheduler.TaskSetManager: Finished task 6.0 in stage 3.0 (TID 36) in 163 ms on localhost (executor 2) (7/22)\n",
      "2022-09-05 13:47:30,551 INFO scheduler.TaskSetManager: Starting task 9.0 in stage 3.0 (TID 39) (localhost, executor 2, partition 9, PROCESS_LOCAL, 4515 bytes) taskResourceAssignments Map()\n",
      "2022-09-05 13:47:30,555 INFO scheduler.TaskSetManager: Finished task 8.0 in stage 3.0 (TID 38) in 106 ms on localhost (executor 2) (8/22)\n",
      "2022-09-05 13:47:30,569 INFO scheduler.TaskSetManager: Starting task 10.0 in stage 3.0 (TID 40) (localhost, executor 1, partition 10, PROCESS_LOCAL, 4515 bytes) taskResourceAssignments Map()\n",
      "2022-09-05 13:47:30,574 INFO scheduler.TaskSetManager: Finished task 7.0 in stage 3.0 (TID 37) in 165 ms on localhost (executor 1) (9/22)\n",
      "2022-09-05 13:47:30,700 INFO scheduler.TaskSetManager: Starting task 11.0 in stage 3.0 (TID 41) (localhost, executor 2, partition 11, PROCESS_LOCAL, 4515 bytes) taskResourceAssignments Map()\n",
      "2022-09-05 13:47:30,703 INFO scheduler.TaskSetManager: Finished task 9.0 in stage 3.0 (TID 39) in 154 ms on localhost (executor 2) (10/22)\n",
      "2022-09-05 13:47:30,724 INFO scheduler.TaskSetManager: Starting task 12.0 in stage 3.0 (TID 42) (localhost, executor 1, partition 12, PROCESS_LOCAL, 4515 bytes) taskResourceAssignments Map()\n",
      "2022-09-05 13:47:30,726 INFO scheduler.TaskSetManager: Finished task 10.0 in stage 3.0 (TID 40) in 164 ms on localhost (executor 1) (11/22)\n",
      "2022-09-05 13:47:30,824 INFO scheduler.TaskSetManager: Starting task 13.0 in stage 3.0 (TID 43) (localhost, executor 1, partition 13, PROCESS_LOCAL, 4515 bytes) taskResourceAssignments Map()\n",
      "2022-09-05 13:47:30,832 INFO scheduler.TaskSetManager: Finished task 12.0 in stage 3.0 (TID 42) in 113 ms on localhost (executor 1) (12/22)\n",
      "2022-09-05 13:47:30,873 INFO scheduler.TaskSetManager: Starting task 14.0 in stage 3.0 (TID 44) (localhost, executor 2, partition 14, PROCESS_LOCAL, 4515 bytes) taskResourceAssignments Map()\n",
      "2022-09-05 13:47:30,876 INFO scheduler.TaskSetManager: Finished task 11.0 in stage 3.0 (TID 41) in 191 ms on localhost (executor 2) (13/22)\n",
      "2022-09-05 13:47:30,963 INFO scheduler.TaskSetManager: Starting task 15.0 in stage 3.0 (TID 45) (localhost, executor 1, partition 15, PROCESS_LOCAL, 4515 bytes) taskResourceAssignments Map()\n",
      "2022-09-05 13:47:30,972 INFO scheduler.TaskSetManager: Finished task 13.0 in stage 3.0 (TID 43) in 150 ms on localhost (executor 1) (14/22)\n",
      "2022-09-05 13:47:31,015 INFO scheduler.TaskSetManager: Starting task 16.0 in stage 3.0 (TID 46) (localhost, executor 2, partition 16, PROCESS_LOCAL, 4515 bytes) taskResourceAssignments Map()\n",
      "2022-09-05 13:47:31,016 INFO scheduler.TaskSetManager: Finished task 14.0 in stage 3.0 (TID 44) in 148 ms on localhost (executor 2) (15/22)\n",
      "2022-09-05 13:47:31,167 INFO scheduler.TaskSetManager: Starting task 17.0 in stage 3.0 (TID 47) (localhost, executor 2, partition 17, PROCESS_LOCAL, 4515 bytes) taskResourceAssignments Map()\n",
      "2022-09-05 13:47:31,170 INFO scheduler.TaskSetManager: Finished task 16.0 in stage 3.0 (TID 46) in 155 ms on localhost (executor 2) (16/22)\n",
      "2022-09-05 13:47:31,181 INFO scheduler.TaskSetManager: Starting task 18.0 in stage 3.0 (TID 48) (localhost, executor 1, partition 18, PROCESS_LOCAL, 4515 bytes) taskResourceAssignments Map()\n",
      "2022-09-05 13:47:31,187 INFO scheduler.TaskSetManager: Finished task 15.0 in stage 3.0 (TID 45) in 226 ms on localhost (executor 1) (17/22)\n",
      "2022-09-05 13:47:31,290 INFO scheduler.TaskSetManager: Starting task 19.0 in stage 3.0 (TID 49) (localhost, executor 1, partition 19, PROCESS_LOCAL, 4515 bytes) taskResourceAssignments Map()\n",
      "2022-09-05 13:47:31,293 INFO scheduler.TaskSetManager: Finished task 18.0 in stage 3.0 (TID 48) in 113 ms on localhost (executor 1) (18/22)\n",
      "2022-09-05 13:47:31,321 INFO scheduler.TaskSetManager: Starting task 20.0 in stage 3.0 (TID 50) (localhost, executor 2, partition 20, PROCESS_LOCAL, 4515 bytes) taskResourceAssignments Map()\n",
      "2022-09-05 13:47:31,326 INFO scheduler.TaskSetManager: Finished task 17.0 in stage 3.0 (TID 47) in 165 ms on localhost (executor 2) (19/22)\n"
     ]
    },
    {
     "name": "stderr",
     "output_type": "stream",
     "text": [
      "[Stage 3:=================================================>       (19 + 2) / 22]\r",
      "2022-09-05 13:47:31,437 INFO scheduler.TaskSetManager: Starting task 21.0 in stage 3.0 (TID 51) (localhost, executor 1, partition 21, PROCESS_LOCAL, 4515 bytes) taskResourceAssignments Map()\n",
      "2022-09-05 13:47:31,440 INFO scheduler.TaskSetManager: Finished task 19.0 in stage 3.0 (TID 49) in 151 ms on localhost (executor 1) (20/22)\n",
      "2022-09-05 13:47:31,453 INFO scheduler.TaskSetManager: Finished task 20.0 in stage 3.0 (TID 50) in 133 ms on localhost (executor 2) (21/22)\n",
      "2022-09-05 13:47:31,521 INFO scheduler.TaskSetManager: Finished task 21.0 in stage 3.0 (TID 51) in 85 ms on localhost (executor 1) (22/22)\n",
      "2022-09-05 13:47:31,522 INFO cluster.YarnScheduler: Removed TaskSet 3.0, whose tasks have all completed, from pool \n",
      "2022-09-05 13:47:31,526 INFO scheduler.DAGScheduler: ResultStage 3 (collect at /tmp/ipykernel_2410/3349058622.py:2) finished in 2.996 s\n",
      "2022-09-05 13:47:31,528 INFO scheduler.DAGScheduler: Job 3 is finished. Cancelling potential speculative or zombie tasks for this job\n",
      "2022-09-05 13:47:31,529 INFO cluster.YarnScheduler: Killing all running tasks in stage 3: Stage finished\n",
      "2022-09-05 13:47:31,532 INFO scheduler.DAGScheduler: Job 3 finished: collect at /tmp/ipykernel_2410/3349058622.py:2, took 3.040730 s\n",
      "\r",
      "                                                                                \r"
     ]
    },
    {
     "data": {
      "text/plain": [
       "['하명도 스파크 50',\n",
       " '홍길동 스파크 80',\n",
       " '임꺽정 스파크 60',\n",
       " '임요환 텐서플로우 100',\n",
       " '홍진호 텐서플로우 22',\n",
       " '홍진호 텐서플로우 22',\n",
       " '이윤열 텐서플로우 90']"
      ]
     },
     "execution_count": 5,
     "metadata": {},
     "output_type": "execute_result"
    },
    {
     "data": {
      "text/plain": [
       "22"
      ]
     },
     "execution_count": 5,
     "metadata": {},
     "output_type": "execute_result"
    },
    {
     "name": "stderr",
     "output_type": "stream",
     "text": [
      "2022-09-05 14:00:55,394 INFO storage.BlockManagerInfo: Removed broadcast_5_piece0 on localhost:33887 in memory (size: 2.8 KiB, free: 434.3 MiB)\n",
      "2022-09-05 14:00:55,413 INFO storage.BlockManagerInfo: Removed broadcast_5_piece0 on localhost:32873 in memory (size: 2.8 KiB, free: 434.3 MiB)\n",
      "2022-09-05 14:00:55,419 INFO storage.BlockManagerInfo: Removed broadcast_5_piece0 on localhost:45529 in memory (size: 2.8 KiB, free: 434.3 MiB)\n",
      "2022-09-05 14:00:55,495 INFO storage.BlockManagerInfo: Removed broadcast_3_piece0 on localhost:45529 in memory (size: 2.8 KiB, free: 434.3 MiB)\n",
      "2022-09-05 14:00:55,513 INFO storage.BlockManagerInfo: Removed broadcast_3_piece0 on localhost:32873 in memory (size: 2.8 KiB, free: 434.3 MiB)\n",
      "2022-09-05 14:00:55,516 INFO storage.BlockManagerInfo: Removed broadcast_3_piece0 on localhost:33887 in memory (size: 2.8 KiB, free: 434.3 MiB)\n"
     ]
    }
   ],
   "source": [
    "\n",
    "score_rdd = sc.textFile(\"/rdd/score.txt\",20)\n",
    "score_rdd.collect()\n",
    "score_rdd.getNumPartitions()"
   ]
  },
  {
   "cell_type": "code",
   "execution_count": null,
   "metadata": {},
   "outputs": [],
   "source": []
  }
 ],
 "metadata": {
  "kernelspec": {
   "display_name": "Python 3 (ipykernel)",
   "language": "python",
   "name": "python3"
  },
  "language_info": {
   "codemirror_mode": {
    "name": "ipython",
    "version": 3
   },
   "file_extension": ".py",
   "mimetype": "text/x-python",
   "name": "python",
   "nbconvert_exporter": "python",
   "pygments_lexer": "ipython3",
   "version": "3.8.10"
  }
 },
 "nbformat": 4,
 "nbformat_minor": 5
}
