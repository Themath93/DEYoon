{
 "cells": [
  {
   "cell_type": "markdown",
   "id": "6096a974",
   "metadata": {},
   "source": [
    "# DataFrame"
   ]
  },
  {
   "cell_type": "markdown",
   "id": "bc1ab44b",
   "metadata": {},
   "source": [
    "![dataframe](./img/dataframe.png)"
   ]
  },
  {
   "cell_type": "markdown",
   "id": "0c662e10",
   "metadata": {},
   "source": [
    "- DataFrame은 행과 열로 이루어진 구조화된 데이터이다.\n",
    "- 내부적인 연산과정에서는 RDD로 변경되어 동작한다.\n",
    "- 광범위한 데이터 형식과 소스를 지원한다.\n",
    "- 기존 개발자들에게 친숙한 SQL과 Pandas API를 제공해 준다.\n",
    "- 스키마(데이터의 구조)가 존재하기 때문에 Spark가 실행 계획을 최적화 하기에 유리하다."
   ]
  },
  {
   "cell_type": "markdown",
   "id": "5c2cf2aa",
   "metadata": {},
   "source": [
    "![rdd_df_ds.png](./img/rdd_df_ds.png)"
   ]
  },
  {
   "cell_type": "markdown",
   "id": "d2a5cc8b",
   "metadata": {},
   "source": [
    "- scala Dataset문서 확인"
   ]
  },
  {
   "cell_type": "markdown",
   "id": "545d90ec",
   "metadata": {},
   "source": [
    "## DataFrame Catalyst Optimizer 동작 과정\n",
    "![catalyst](./img/catalyst_optimizer.jpg)"
   ]
  }
 ],
 "metadata": {
  "kernelspec": {
   "display_name": "Python 3 (ipykernel)",
   "language": "python",
   "name": "python3"
  }
 },
 "nbformat": 4,
 "nbformat_minor": 5
}
