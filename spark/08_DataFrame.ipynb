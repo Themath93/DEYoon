{
 "cells": [
  {
   "cell_type": "code",
   "execution_count": 1,
   "metadata": {},
   "outputs": [],
   "source": [
    "from IPython.core.interactiveshell import InteractiveShell\n",
    "InteractiveShell.ast_node_interactivity = \"all\""
   ]
  },
  {
   "cell_type": "code",
   "execution_count": 2,
   "metadata": {},
   "outputs": [
    {
     "name": "stderr",
     "output_type": "stream",
     "text": [
      "<jemalloc>: MADV_DONTNEED does not work (memset will be used instead)\n",
      "<jemalloc>: (This is the expected behaviour if you are running under QEMU)\n"
     ]
    }
   ],
   "source": [
    "# !pip install pandas\n",
    "# !pip install pyarrow\n",
    "\n",
    "from datetime import date, datetime\n",
    "from pyspark.sql import *\n",
    "from pyspark.sql.types import *\n",
    "from pyspark.sql.functions import *\n",
    "import pandas as pd\n",
    "\n"
   ]
  },
  {
   "cell_type": "markdown",
   "metadata": {},
   "source": [
    "# 1. DataFrame 생성"
   ]
  },
  {
   "cell_type": "markdown",
   "metadata": {},
   "source": [
    "- SparkSession 객체를 사용해 DataFrame을 생성할 수 있다.\n",
    "- SparkSession 객체는 pyspark shell을 실행할 때 spark 라는 이름으로 미리 생성된다.\n",
    "\n"
   ]
  },
  {
   "cell_type": "markdown",
   "metadata": {},
   "source": [
    "## Row 객체를 사용해 생성하기\n",
    "\n",
    "- row : DataFrame에서의 한 행"
   ]
  },
  {
   "cell_type": "code",
   "execution_count": 3,
   "metadata": {},
   "outputs": [
    {
     "name": "stderr",
     "output_type": "stream",
     "text": [
      "                                                                                \r"
     ]
    },
    {
     "name": "stdout",
     "output_type": "stream",
     "text": [
      "+------+---+----------+\n",
      "|  name|age|     birth|\n",
      "+------+---+----------+\n",
      "|윤병우| 21|2001-09-06|\n",
      "|김시찬| 22|2000-10-06|\n",
      "|강혁준| 19|2003-07-06|\n",
      "+------+---+----------+\n",
      "\n"
     ]
    }
   ],
   "source": [
    "df = spark.createDataFrame([\n",
    "    Row(name=\"윤병우\", age=21, birth=date(2001, 9,6)), \n",
    "    Row(name=\"김시찬\", age=22, birth=date(2000, 10,6)),\n",
    "    Row(name=\"강혁준\", age=19, birth=date(2003, 7,6))\n",
    "])\n",
    "df.show()"
   ]
  },
  {
   "cell_type": "code",
   "execution_count": 4,
   "metadata": {},
   "outputs": [
    {
     "name": "stdout",
     "output_type": "stream",
     "text": [
      "root\n",
      " |-- name: string (nullable = true)\n",
      " |-- age: long (nullable = true)\n",
      " |-- birth: date (nullable = true)\n",
      "\n"
     ]
    }
   ],
   "source": [
    "# 스키마 확인\n",
    "df.printSchema()"
   ]
  },
  {
   "cell_type": "markdown",
   "metadata": {},
   "source": [
    "## schema를 명시하여 DataFrame 생성"
   ]
  },
  {
   "cell_type": "code",
   "execution_count": 16,
   "metadata": {
    "scrolled": false
   },
   "outputs": [
    {
     "name": "stderr",
     "output_type": "stream",
     "text": [
      "[Stage 1:>                                                          (0 + 1) / 1]\r"
     ]
    },
    {
     "name": "stdout",
     "output_type": "stream",
     "text": [
      "+------+---+----------+\n",
      "|  name|age|     birth|\n",
      "+------+---+----------+\n",
      "|김경민| 17|2005-10-01|\n",
      "|김도은| 18|2004-12-25|\n",
      "|김민석| 11|2011-01-10|\n",
      "+------+---+----------+\n",
      "\n"
     ]
    },
    {
     "name": "stderr",
     "output_type": "stream",
     "text": [
      "\r",
      "                                                                                \r"
     ]
    }
   ],
   "source": [
    "# 튜플에 데이터를 저장하고 스키마를 직접 지정\n",
    "df2 = spark.createDataFrame([\n",
    "    ('김경민', 17, date(2005, 10,1)),\n",
    "    ('김도은', 18, date(2004, 12,25)),\n",
    "    ('김민석', 11, date(2011, 1,10))\n",
    "], schema='name string, age int, birth date')\n",
    "df2.show()"
   ]
  },
  {
   "cell_type": "markdown",
   "metadata": {},
   "source": [
    "## StructType 객체를 사용해 Schema 지정"
   ]
  },
  {
   "cell_type": "code",
   "execution_count": 21,
   "metadata": {},
   "outputs": [
    {
     "name": "stdout",
     "output_type": "stream",
     "text": [
      "+------+---+----------+\n",
      "|  name|age|     birth|\n",
      "+------+---+----------+\n",
      "|손지수| 22|2011-06-08|\n",
      "|유승종| 21|2009-08-28|\n",
      "|윤병우| 23|2022-03-03|\n",
      "+------+---+----------+\n",
      "\n"
     ]
    }
   ],
   "source": [
    "schema = StructType([\n",
    "    StructField('name', StringType(),False),\n",
    "    StructField('age', IntegerType(),False),\n",
    "    StructField('birth', DateType(),False)\n",
    "])\n",
    "\n",
    "\n",
    "df3 = spark.createDataFrame([\n",
    "    ('손지수',22, date(2011, 6, 8))\n",
    "    ,('유승종',21, date(2009, 8, 28))\n",
    "    ,('윤병우',23, date(2022, 3, 3))\n",
    "],schema = schema)\n",
    "df3.show()\n",
    "df3.printSchema()"
   ]
  },
  {
   "cell_type": "markdown",
   "metadata": {},
   "source": [
    "## 중첩스키마적용"
   ]
  },
  {
   "cell_type": "code",
   "execution_count": 25,
   "metadata": {},
   "outputs": [
    {
     "name": "stdout",
     "output_type": "stream",
     "text": [
      "+------+---+----------+-----------------+\n",
      "|  name|age|     birth|            birth|\n",
      "+------+---+----------+-----------------+\n",
      "|이서정| 21|2000-11-11|{010, 1111, 2222}|\n",
      "|이선희| 25|1999-11-01|{010, 2222, 3333}|\n",
      "|정주연| 23|2244-11-11|{010, 3333, 4444}|\n",
      "+------+---+----------+-----------------+\n",
      "\n",
      "root\n",
      " |-- name: string (nullable = false)\n",
      " |-- age: integer (nullable = false)\n",
      " |-- birth: date (nullable = false)\n",
      " |-- birth: struct (nullable = false)\n",
      " |    |-- phone1: string (nullable = false)\n",
      " |    |-- phone2: string (nullable = false)\n",
      " |    |-- phone3: string (nullable = false)\n",
      "\n"
     ]
    },
    {
     "data": {
      "text/plain": [
       "'{\"fields\":[{\"metadata\":{},\"name\":\"name\",\"nullable\":false,\"type\":\"string\"},{\"metadata\":{},\"name\":\"age\",\"nullable\":false,\"type\":\"integer\"},{\"metadata\":{},\"name\":\"birth\",\"nullable\":false,\"type\":\"date\"},{\"metadata\":{\"desc\":\"user phone number\"},\"name\":\"birth\",\"nullable\":false,\"type\":{\"fields\":[{\"metadata\":{},\"name\":\"phone1\",\"nullable\":false,\"type\":\"string\"},{\"metadata\":{},\"name\":\"phone2\",\"nullable\":false,\"type\":\"string\"},{\"metadata\":{},\"name\":\"phone3\",\"nullable\":false,\"type\":\"string\"}],\"type\":\"struct\"}}],\"type\":\"struct\"}'"
      ]
     },
     "execution_count": 25,
     "metadata": {},
     "output_type": "execute_result"
    }
   ],
   "source": [
    "data = [\n",
    "    ('이서정', 21, date(2000, 11 ,11), ('010','1111','2222'))\n",
    "    ,('이선희', 25, date(1999, 11 ,1), ('010','2222','3333'))\n",
    "    ,('정주연', 23, date(2244, 11 ,11), ('010','3333','4444')) \n",
    "]\n",
    "schema = StructType([\n",
    "    StructField('name', StringType(),False),\n",
    "    StructField('age', IntegerType(),False),\n",
    "    StructField('birth', DateType(),False),\n",
    "    StructField('birth', StructType([\n",
    "        StructField('phone1', StringType(),False),\n",
    "        StructField('phone2', StringType(),False),\n",
    "        StructField('phone3', StringType(),False)   \n",
    "    ]),False,metadata={'desc':'user phone number'})\n",
    "])\n",
    "df4 = spark.createDataFrame(data=data,schema=schema)\n",
    "df4.show()\n",
    "df4.printSchema()\n",
    "\n",
    "schema_json = df4.schema.json()\n",
    "schema_json"
   ]
  },
  {
   "cell_type": "markdown",
   "metadata": {},
   "source": [
    "## Pandas DataFrame으로 생성"
   ]
  },
  {
   "cell_type": "code",
   "execution_count": 27,
   "metadata": {
    "scrolled": true
   },
   "outputs": [
    {
     "data": {
      "text/html": [
       "<div>\n",
       "<style scoped>\n",
       "    .dataframe tbody tr th:only-of-type {\n",
       "        vertical-align: middle;\n",
       "    }\n",
       "\n",
       "    .dataframe tbody tr th {\n",
       "        vertical-align: top;\n",
       "    }\n",
       "\n",
       "    .dataframe thead th {\n",
       "        text-align: right;\n",
       "    }\n",
       "</style>\n",
       "<table border=\"1\" class=\"dataframe\">\n",
       "  <thead>\n",
       "    <tr style=\"text-align: right;\">\n",
       "      <th></th>\n",
       "      <th>name</th>\n",
       "      <th>age</th>\n",
       "      <th>birth</th>\n",
       "    </tr>\n",
       "  </thead>\n",
       "  <tbody>\n",
       "    <tr>\n",
       "      <th>0</th>\n",
       "      <td>정현진</td>\n",
       "      <td>20</td>\n",
       "      <td>2000-01-01</td>\n",
       "    </tr>\n",
       "    <tr>\n",
       "      <th>1</th>\n",
       "      <td>한병현</td>\n",
       "      <td>21</td>\n",
       "      <td>2001-02-02</td>\n",
       "    </tr>\n",
       "    <tr>\n",
       "      <th>2</th>\n",
       "      <td>홍효정</td>\n",
       "      <td>22</td>\n",
       "      <td>2005-05-05</td>\n",
       "    </tr>\n",
       "  </tbody>\n",
       "</table>\n",
       "</div>"
      ],
      "text/plain": [
       "  name  age       birth\n",
       "0  정현진   20  2000-01-01\n",
       "1  한병현   21  2001-02-02\n",
       "2  홍효정   22  2005-05-05"
      ]
     },
     "execution_count": 27,
     "metadata": {},
     "output_type": "execute_result"
    },
    {
     "name": "stdout",
     "output_type": "stream",
     "text": [
      "+------+---+----------+\n",
      "|  name|age|     birth|\n",
      "+------+---+----------+\n",
      "|정현진| 20|2000-01-01|\n",
      "|한병현| 21|2001-02-02|\n",
      "|홍효정| 22|2005-05-05|\n",
      "+------+---+----------+\n",
      "\n"
     ]
    }
   ],
   "source": [
    "pandas_df = pd.DataFrame({\n",
    "    'name':['정현진','한병현','홍효정'],\n",
    "    'age':[20,21,22],\n",
    "    'birth':[date(2000,1,1),date(2001,2,2),date(2005,5,5)]\n",
    "})\n",
    "pandas_df\n",
    "df5 = spark.createDataFrame(pandas_df)\n",
    "df5.show()"
   ]
  },
  {
   "cell_type": "markdown",
   "metadata": {},
   "source": [
    "## DataFrame -> Pandas"
   ]
  },
  {
   "cell_type": "code",
   "execution_count": 33,
   "metadata": {
    "scrolled": true
   },
   "outputs": [
    {
     "data": {
      "text/html": [
       "<div>\n",
       "<style scoped>\n",
       "    .dataframe tbody tr th:only-of-type {\n",
       "        vertical-align: middle;\n",
       "    }\n",
       "\n",
       "    .dataframe tbody tr th {\n",
       "        vertical-align: top;\n",
       "    }\n",
       "\n",
       "    .dataframe thead th {\n",
       "        text-align: right;\n",
       "    }\n",
       "</style>\n",
       "<table border=\"1\" class=\"dataframe\">\n",
       "  <thead>\n",
       "    <tr style=\"text-align: right;\">\n",
       "      <th></th>\n",
       "      <th>name</th>\n",
       "      <th>age</th>\n",
       "      <th>birth</th>\n",
       "    </tr>\n",
       "  </thead>\n",
       "  <tbody>\n",
       "    <tr>\n",
       "      <th>0</th>\n",
       "      <td>정현진</td>\n",
       "      <td>20</td>\n",
       "      <td>2000-01-01</td>\n",
       "    </tr>\n",
       "    <tr>\n",
       "      <th>1</th>\n",
       "      <td>한병현</td>\n",
       "      <td>21</td>\n",
       "      <td>2001-02-02</td>\n",
       "    </tr>\n",
       "    <tr>\n",
       "      <th>2</th>\n",
       "      <td>홍효정</td>\n",
       "      <td>22</td>\n",
       "      <td>2005-05-05</td>\n",
       "    </tr>\n",
       "  </tbody>\n",
       "</table>\n",
       "</div>"
      ],
      "text/plain": [
       "  name  age       birth\n",
       "0  정현진   20  2000-01-01\n",
       "1  한병현   21  2001-02-02\n",
       "2  홍효정   22  2005-05-05"
      ]
     },
     "execution_count": 33,
     "metadata": {},
     "output_type": "execute_result"
    }
   ],
   "source": [
    "pandas_df2 = df5.toPandas()\n",
    "pandas_df2"
   ]
  },
  {
   "cell_type": "markdown",
   "metadata": {},
   "source": [
    "## DataFrame -> pyspark.pandas\n"
   ]
  },
  {
   "cell_type": "code",
   "execution_count": 36,
   "metadata": {},
   "outputs": [
    {
     "data": {
      "text/html": [
       "<div>\n",
       "<style scoped>\n",
       "    .dataframe tbody tr th:only-of-type {\n",
       "        vertical-align: middle;\n",
       "    }\n",
       "\n",
       "    .dataframe tbody tr th {\n",
       "        vertical-align: top;\n",
       "    }\n",
       "\n",
       "    .dataframe thead th {\n",
       "        text-align: right;\n",
       "    }\n",
       "</style>\n",
       "<table border=\"1\" class=\"dataframe\">\n",
       "  <thead>\n",
       "    <tr style=\"text-align: right;\">\n",
       "      <th></th>\n",
       "      <th>name</th>\n",
       "      <th>age</th>\n",
       "      <th>birth</th>\n",
       "    </tr>\n",
       "  </thead>\n",
       "  <tbody>\n",
       "    <tr>\n",
       "      <th>0</th>\n",
       "      <td>정현진</td>\n",
       "      <td>20</td>\n",
       "      <td>2000-01-01</td>\n",
       "    </tr>\n",
       "    <tr>\n",
       "      <th>1</th>\n",
       "      <td>한병현</td>\n",
       "      <td>21</td>\n",
       "      <td>2001-02-02</td>\n",
       "    </tr>\n",
       "    <tr>\n",
       "      <th>2</th>\n",
       "      <td>홍효정</td>\n",
       "      <td>22</td>\n",
       "      <td>2005-05-05</td>\n",
       "    </tr>\n",
       "  </tbody>\n",
       "</table>\n",
       "</div>"
      ],
      "text/plain": [
       "  name  age       birth\n",
       "0  정현진   20  2000-01-01\n",
       "1  한병현   21  2001-02-02\n",
       "2  홍효정   22  2005-05-05"
      ]
     },
     "execution_count": 36,
     "metadata": {},
     "output_type": "execute_result"
    }
   ],
   "source": [
    "pandas_df3=df5.to_pandas_on_spark()\n",
    "pandas_df3"
   ]
  },
  {
   "cell_type": "markdown",
   "metadata": {},
   "source": [
    "## 외부파일을 사용해 DataFrame 생성"
   ]
  },
  {
   "cell_type": "code",
   "execution_count": 40,
   "metadata": {},
   "outputs": [
    {
     "name": "stdout",
     "output_type": "stream",
     "text": [
      "+--------+------+-------------+--------+-----------+-------------+\n",
      "|class_cd|school|class_std_cnt|     loc|school_type|teaching_type|\n",
      "+--------+------+-------------+--------+-----------+-------------+\n",
      "|     6OL| ANKYI|           20|   Urban| Non-public|     Standard|\n",
      "|     ZNS| ANKYI|           21|   Urban| Non-public|     Standard|\n",
      "|     2B1| CCAAW|           18|Suburban| Non-public| Experimental|\n",
      "+--------+------+-------------+--------+-----------+-------------+\n",
      "only showing top 3 rows\n",
      "\n"
     ]
    }
   ],
   "source": [
    "class_df = spark.read.csv('/dataframe/a_class_info.csv',header=True)\n",
    "class_df.show(3)"
   ]
  },
  {
   "cell_type": "markdown",
   "metadata": {},
   "source": [
    "## DataFrame 컬럼"
   ]
  },
  {
   "cell_type": "markdown",
   "metadata": {},
   "source": [
    "- withColumn"
   ]
  },
  {
   "cell_type": "code",
   "execution_count": 8,
   "metadata": {},
   "outputs": [
    {
     "name": "stderr",
     "output_type": "stream",
     "text": [
      "                                                                                \r"
     ]
    },
    {
     "name": "stdout",
     "output_type": "stream",
     "text": [
      "+------+---+----------+-----------------+\n",
      "|  name|age|     birth|            birth|\n",
      "+------+---+----------+-----------------+\n",
      "|이서정| 21|2000-11-11|{010, 1111, 2222}|\n",
      "|이선희| 25|1999-11-01|{010, 2222, 3333}|\n",
      "|정주연| 23|2244-11-11|{010, 3333, 4444}|\n",
      "+------+---+----------+-----------------+\n",
      "\n"
     ]
    }
   ],
   "source": [
    "data = [\n",
    "    ('이서정', 21, date(2000, 11 ,11), ('010','1111','2222'))\n",
    "    ,('이선희', 25, date(1999, 11 ,1), ('010','2222','3333'))\n",
    "    ,('정주연', 23, date(2244, 11 ,11), ('010','3333','4444')) \n",
    "]\n",
    "schema = StructType([\n",
    "    StructField('name', StringType(),False),\n",
    "    StructField('age', IntegerType(),False),\n",
    "    StructField('birth', DateType(),False),\n",
    "    StructField('birth', StructType([\n",
    "        StructField('phone1', StringType(),False),\n",
    "        StructField('phone2', StringType(),False),\n",
    "        StructField('phone3', StringType(),False)   \n",
    "    ]),False,metadata={'desc':'user phone number'})\n",
    "])\n",
    "df4 = spark.createDataFrame(data=data,schema=schema)\n",
    "df4.show()"
   ]
  },
  {
   "cell_type": "code",
   "execution_count": 21,
   "metadata": {
    "scrolled": true
   },
   "outputs": [
    {
     "name": "stderr",
     "output_type": "stream",
     "text": [
      "[Stage 21:>                                                         (0 + 1) / 1]\r"
     ]
    },
    {
     "name": "stdout",
     "output_type": "stream",
     "text": [
      "+------+---+----------+-----------------+------+\n",
      "|  name|age|     birth|            birth|  성별|\n",
      "+------+---+----------+-----------------+------+\n",
      "|이서정| 21|2000-11-11|{010, 1111, 2222}|  여성|\n",
      "|이선희| 25|1999-11-01|{010, 2222, 3333}|female|\n",
      "|정주연| 23|2244-11-11|{010, 3333, 4444}|     F|\n",
      "+------+---+----------+-----------------+------+\n",
      "\n"
     ]
    },
    {
     "name": "stderr",
     "output_type": "stream",
     "text": [
      "\r",
      "                                                                                \r"
     ]
    }
   ],
   "source": [
    "# 컬럼 추가 \n",
    "# 컬럼 이름 : '성별'\n",
    "# 해당 컬럼에 기본 값으로 넣을 것 lit(\"\") : 공백\n",
    "df4 = df4.withColumn('성별',lit(''))\n",
    "# df4.show(3)\n",
    "\n",
    "# 기본 값 지정 : F , withColumns 사용시 기존의 컬럼과 컬럼명이 같으면 덮어쓴다.\n",
    "df4 = df4.withColumn('성별',lit('F'))\n",
    "# df4.show(3)\n",
    "\n",
    "# 조건에 따라 다른 컬럼값을 가지도록 컬럼을 추가\n",
    "# when - otherwise 함수사용\n",
    "temp = df4.withColumn('성별', when(df4.age < 23, '여성')\n",
    "                      .when(df4.age == 23, 'F')\n",
    "                      .otherwise('female'))\n",
    "temp.show(3)"
   ]
  },
  {
   "cell_type": "markdown",
   "metadata": {},
   "source": [
    "### column  내용  변경"
   ]
  },
  {
   "cell_type": "code",
   "execution_count": 15,
   "metadata": {
    "scrolled": true
   },
   "outputs": [],
   "source": [
    "# 컬럼 추가 \n",
    "# 컬럼 이름 : '성별'\n",
    "# 해당 컬럼에 기본 값으로 넣을 것 lit(\"\") : 공백\n",
    "df4 = df4.withColumn('성별',lit(''))\n",
    "# df4.show(3)\n",
    "\n",
    "# 기본 값 지정 : F , withColumns 사용시 기존의 컬럼과 컬럼명이 같으면 덮어쓴다.\n",
    "df4 = df4.withColumn('성별',lit('F'))\n",
    "# df4.show(3)"
   ]
  },
  {
   "cell_type": "markdown",
   "metadata": {},
   "source": [
    "### column 이름 변경"
   ]
  },
  {
   "cell_type": "code",
   "execution_count": 16,
   "metadata": {
    "scrolled": true
   },
   "outputs": [
    {
     "name": "stderr",
     "output_type": "stream",
     "text": [
      "                                                                                \r"
     ]
    },
    {
     "name": "stdout",
     "output_type": "stream",
     "text": [
      "+------+---+----------+-----------------+------+\n",
      "|  name|age|     birth|            birth|gender|\n",
      "+------+---+----------+-----------------+------+\n",
      "|이서정| 21|2000-11-11|{010, 1111, 2222}|     F|\n",
      "|이선희| 25|1999-11-01|{010, 2222, 3333}|     F|\n",
      "|정주연| 23|2244-11-11|{010, 3333, 4444}|     F|\n",
      "+------+---+----------+-----------------+------+\n",
      "\n"
     ]
    }
   ],
   "source": [
    "temp = df4.withColumnRenamed('성별','gender')\n",
    "temp.show()"
   ]
  },
  {
   "cell_type": "markdown",
   "metadata": {},
   "source": [
    "### column  삭제"
   ]
  },
  {
   "cell_type": "code",
   "execution_count": 17,
   "metadata": {},
   "outputs": [
    {
     "name": "stderr",
     "output_type": "stream",
     "text": [
      "                                                                                \r"
     ]
    },
    {
     "name": "stdout",
     "output_type": "stream",
     "text": [
      "+------+---+----------+-----------------+\n",
      "|  name|age|     birth|            birth|\n",
      "+------+---+----------+-----------------+\n",
      "|이서정| 21|2000-11-11|{010, 1111, 2222}|\n",
      "|이선희| 25|1999-11-01|{010, 2222, 3333}|\n",
      "|정주연| 23|2244-11-11|{010, 3333, 4444}|\n",
      "+------+---+----------+-----------------+\n",
      "\n"
     ]
    }
   ],
   "source": [
    "temp = df4.drop('성별')\n",
    "temp.show()"
   ]
  },
  {
   "cell_type": "markdown",
   "metadata": {},
   "source": []
  }
 ],
 "metadata": {
  "kernelspec": {
   "display_name": "Python 3 (ipykernel)",
   "language": "python",
   "name": "python3"
  },
  "language_info": {
   "codemirror_mode": {
    "name": "ipython",
    "version": 3
   },
   "file_extension": ".py",
   "mimetype": "text/x-python",
   "name": "python",
   "nbconvert_exporter": "python",
   "pygments_lexer": "ipython3",
   "version": "3.8.10"
  }
 },
 "nbformat": 4,
 "nbformat_minor": 5
}
