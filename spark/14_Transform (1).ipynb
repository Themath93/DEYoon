{
 "cells": [
  {
   "cell_type": "code",
   "execution_count": 1,
   "metadata": {},
   "outputs": [],
   "source": [
    "from IPython.core.interactiveshell import InteractiveShell\n",
    "InteractiveShell.ast_node_interactivity = \"all\""
   ]
  },
  {
   "cell_type": "code",
   "execution_count": 2,
   "metadata": {},
   "outputs": [],
   "source": [
    "# matplotlib 한글 꺠짐 방지\n",
    "# apt-get update\n",
    "# apt-get install fonts-nanum* \n",
    "# apt-get install fontconfig\n",
    "# fc-cache -fv  # font 캐시 날리기\n",
    "# rm -rf /home/hy1/.cache/matplotlib/  #matplotliob 폰트 캐시 날리기\n"
   ]
  },
  {
   "cell_type": "code",
   "execution_count": 3,
   "metadata": {},
   "outputs": [],
   "source": [
    "#!pip install matplotlib\n",
    "#!pip install pandas"
   ]
  },
  {
   "cell_type": "code",
   "execution_count": 4,
   "metadata": {},
   "outputs": [
    {
     "name": "stderr",
     "output_type": "stream",
     "text": [
      "<jemalloc>: MADV_DONTNEED does not work (memset will be used instead)\n",
      "<jemalloc>: (This is the expected behaviour if you are running under QEMU)\n"
     ]
    }
   ],
   "source": [
    "from datetime import date, datetime\n",
    "from pyspark.sql.types import *\n",
    "from pyspark.sql.functions import *\n",
    "import datetime as dt\n",
    "import pandas as pd\n",
    "import matplotlib.pyplot as plt #그래프 패키지 모듈 등록\n",
    "%matplotlib inline \n"
   ]
  },
  {
   "cell_type": "code",
   "execution_count": 5,
   "metadata": {},
   "outputs": [],
   "source": [
    "def cal_std_day(befor_day):   \n",
    "    x = dt.datetime.now() - dt.timedelta(befor_day)\n",
    "    year = x.year\n",
    "    month = x.month if x.month >= 10 else '0'+ str(x.month)\n",
    "    day = x.day if x.day >= 10 else '0'+ str(x.day)  \n",
    "    return str(year)+ '-' +str(month)+ '-' +str(day)"
   ]
  },
  {
   "cell_type": "code",
   "execution_count": 6,
   "metadata": {},
   "outputs": [],
   "source": [
    "import platform\n",
    "\n",
    "from matplotlib import font_manager, rc\n",
    "plt.rcParams['axes.unicode_minus'] = False\n",
    "\n",
    "if platform.system() == 'Darwin':  # 맥OS \n",
    "    rc('font', family='AppleGothic')\n",
    "elif platform.system() == 'Windows':  # 윈도우\n",
    "    path = \"c:/Windows/Fonts/malgun.ttf\"\n",
    "    font_name = font_manager.FontProperties(fname=path).get_name()\n",
    "    rc('font', family=font_name)\n",
    "else:\n",
    "    rc('font', family='NanumGothic')"
   ]
  },
  {
   "cell_type": "markdown",
   "metadata": {},
   "source": [
    "## Transform"
   ]
  },
  {
   "cell_type": "markdown",
   "metadata": {},
   "source": [
    "### 1. 지역별 단위면적(km)당 인구수와 코로나 확진자 수의 상관관계를 구해보자"
   ]
  },
  {
   "cell_type": "code",
   "execution_count": 7,
   "metadata": {
    "scrolled": true
   },
   "outputs": [
    {
     "ename": "NameError",
     "evalue": "name 'spark' is not defined",
     "output_type": "error",
     "traceback": [
      "\u001b[0;31m---------------------------------------------------------------------------\u001b[0m",
      "\u001b[0;31mNameError\u001b[0m                                 Traceback (most recent call last)",
      "Input \u001b[0;32mIn [7]\u001b[0m, in \u001b[0;36m<cell line: 2>\u001b[0;34m()\u001b[0m\n\u001b[1;32m      1\u001b[0m \u001b[38;5;66;03m# 면적, 인구정보\u001b[39;00m\n\u001b[0;32m----> 2\u001b[0m area \u001b[38;5;241m=\u001b[39m \u001b[43mspark\u001b[49m\u001b[38;5;241m.\u001b[39mread\u001b[38;5;241m.\u001b[39mcsv(\u001b[38;5;124m'\u001b[39m\u001b[38;5;124m/corona_data/loc/sido_area.csv\u001b[39m\u001b[38;5;124m'\u001b[39m, encoding\u001b[38;5;241m=\u001b[39m\u001b[38;5;124m'\u001b[39m\u001b[38;5;124mCP949\u001b[39m\u001b[38;5;124m'\u001b[39m, header\u001b[38;5;241m=\u001b[39m\u001b[38;5;28;01mTrue\u001b[39;00m)\n\u001b[1;32m      3\u001b[0m popu \u001b[38;5;241m=\u001b[39m spark\u001b[38;5;241m.\u001b[39mread\u001b[38;5;241m.\u001b[39mcsv(\u001b[38;5;124m'\u001b[39m\u001b[38;5;124m/corona_data/loc/sido_population.csv\u001b[39m\u001b[38;5;124m'\u001b[39m, encoding\u001b[38;5;241m=\u001b[39m\u001b[38;5;124m'\u001b[39m\u001b[38;5;124mCP949\u001b[39m\u001b[38;5;124m'\u001b[39m, header\u001b[38;5;241m=\u001b[39m\u001b[38;5;28;01mTrue\u001b[39;00m)\n\u001b[1;32m      5\u001b[0m area\u001b[38;5;241m.\u001b[39mshow(\u001b[38;5;241m3\u001b[39m)\n",
      "\u001b[0;31mNameError\u001b[0m: name 'spark' is not defined"
     ]
    }
   ],
   "source": [
    "# 면적, 인구정보\n",
    "area = spark.read.csv('/corona_data/loc/sido_area.csv', encoding='CP949', header=True)\n",
    "popu = spark.read.csv('/corona_data/loc/sido_population.csv', encoding='CP949', header=True)\n",
    "\n",
    "area.show(3)\n",
    "popu.show(3)"
   ]
  },
  {
   "cell_type": "code",
   "execution_count": 8,
   "metadata": {},
   "outputs": [
    {
     "data": {
      "text/plain": [
       "''"
      ]
     },
     "execution_count": 8,
     "metadata": {},
     "output_type": "execute_result"
    }
   ],
   "source": [
    "sc"
   ]
  },
  {
   "cell_type": "code",
   "execution_count": 10,
   "metadata": {},
   "outputs": [
    {
     "name": "stdout",
     "output_type": "stream",
     "text": [
      "+----+------------+\n",
      "| loc|popu_density|\n",
      "+----+------------+\n",
      "|서울|       16093|\n",
      "|부산|        4411|\n",
      "|대구|        2733|\n",
      "|인천|        2831|\n",
      "|광주|        2920|\n",
      "|대전|        2722|\n",
      "|울산|        1072|\n",
      "|세종|         811|\n",
      "|경기|        1366|\n",
      "|강원|          93|\n",
      "|충북|         221|\n",
      "|충남|         265|\n",
      "|전북|         226|\n",
      "|전남|         152|\n",
      "|경북|         141|\n",
      "|경남|         321|\n",
      "|제주|         378|\n",
      "+----+------------+\n",
      "\n"
     ]
    }
   ],
   "source": [
    "\n",
    "area_popu = area.join(popu, on='loc')\n",
    "#area_popu.show()\n",
    "\n",
    "#popu_density : 면적당 인구수 : 인구 밀집도\n",
    "area_popu = area_popu.select(area_popu.loc, ceil((area_popu.total/area_popu.area)).alias('popu_density'))\n",
    "area_popu.show()\n"
   ]
  },
  {
   "cell_type": "code",
   "execution_count": 11,
   "metadata": {
    "scrolled": false
   },
   "outputs": [
    {
     "name": "stdout",
     "output_type": "stream",
     "text": [
      "+--------------------+---------+------+----------+--------------+----------+\n",
      "|               items|numOfRows|pageNo|resultCode|     resultMsg|totalCount|\n",
      "+--------------------+---------+------+----------+--------------+----------+\n",
      "|[{1465, 1461477, ...|      500|     1|        00|NORMAL SERVICE|     19722|\n",
      "+--------------------+---------+------+----------+--------------+----------+\n",
      "\n"
     ]
    }
   ],
   "source": [
    "# 코로나 감염자 데이터 가져오기\n",
    "file_name = '/corona_data/patient/corona_patient_' + cal_std_day(2) + '.json'\n",
    "tmp = spark.read.json(file_name, encoding='UTF-8')\n",
    "tmp.show(3)\n"
   ]
  },
  {
   "cell_type": "code",
   "execution_count": 15,
   "metadata": {
    "collapsed": true
   },
   "outputs": [
    {
     "data": {
      "text/plain": [
       "Row(items=[Row(deathCnt='1465', defCnt='1461477', gubun='경남', gubunCn='庆南', gubunEn='Gyeongsangnam-do', incDec='5884', isolClearCnt='0', isolIngCnt='0', localOccCnt='5867', overFlowCnt='17', qurRate='44098', stdDay='2022-09-14'), Row(deathCnt='637', defCnt='715090', gubun='광주', gubunCn='光州', gubunEn='Gwangju', incDec='2532', isolClearCnt='0', isolIngCnt='0', localOccCnt='2519', overFlowCnt='13', qurRate='49604', stdDay='2022-09-14'), Row(deathCnt='6963', defCnt='6495551', gubun='경기', gubunCn='京畿', gubunEn='Gyeonggi-do', incDec='26133', isolClearCnt='0', isolIngCnt='0', localOccCnt='26110', overFlowCnt='23', qurRate='47883', stdDay='2022-09-14'), Row(deathCnt='1605', defCnt='1089380', gubun='경북', gubunCn='庆北', gubunEn='Gyeongsangbuk-do', incDec='4329', isolClearCnt='0', isolIngCnt='0', localOccCnt='4306', overFlowCnt='23', qurRate='41475', stdDay='2022-09-14'), Row(deathCnt='637', defCnt='715090', gubun='광주', gubunCn='光州', gubunEn='Gwangju', incDec='2532', isolClearCnt='0', isolIngCnt='0', localOccCnt='2519', overFlowCnt='13', qurRate='49604', stdDay='2022-09-14'), Row(deathCnt='6963', defCnt='6495551', gubun='경기', gubunCn='京畿', gubunEn='Gyeonggi-do', incDec='26133', isolClearCnt='0', isolIngCnt='0', localOccCnt='26110', overFlowCnt='23', qurRate='47883', stdDay='2022-09-14'), Row(deathCnt='967', defCnt='820183', gubun='전북', gubunCn='全北', gubunEn='Jeollabuk-do', incDec='3232', isolClearCnt='0', isolIngCnt='0', localOccCnt='3218', overFlowCnt='14', qurRate='45901', stdDay='2022-09-14'), Row(deathCnt='1465', defCnt='1461477', gubun='경남', gubunCn='庆南', gubunEn='Gyeongsangnam-do', incDec='5884', isolClearCnt='0', isolIngCnt='0', localOccCnt='5867', overFlowCnt='17', qurRate='44098', stdDay='2022-09-14'), Row(deathCnt='1502', defCnt='1392441', gubun='인천', gubunCn='仁川', gubunEn='Incheon', incDec='5548', isolClearCnt='0', isolIngCnt='0', localOccCnt='5476', overFlowCnt='72', qurRate='47227', stdDay='2022-09-14'), Row(deathCnt='1579', defCnt='1048878', gubun='대구', gubunCn='大邱', gubunEn='Daegu', incDec='5360', isolClearCnt='0', isolIngCnt='0', localOccCnt='5351', overFlowCnt='9', qurRate='43971', stdDay='2022-09-14'), Row(deathCnt='655', defCnt='806148', gubun='전남', gubunCn='全南', gubunEn='Jeollanam-do', incDec='2744', isolClearCnt='0', isolIngCnt='0', localOccCnt='2739', overFlowCnt='5', qurRate='43984', stdDay='2022-09-14'), Row(deathCnt='1017', defCnt='707376', gubun='강원', gubunCn='江原', gubunEn='Gangwon-do', incDec='2917', isolClearCnt='0', isolIngCnt='0', localOccCnt='2916', overFlowCnt='1', qurRate='45979', stdDay='2022-09-14'), Row(deathCnt='2406', defCnt='1446689', gubun='부산', gubunCn='釜山', gubunEn='Busan', incDec='4982', isolClearCnt='0', isolIngCnt='0', localOccCnt='4975', overFlowCnt='7', qurRate='43180', stdDay='2022-09-14'), Row(deathCnt='2406', defCnt='1446689', gubun='부산', gubunCn='釜山', gubunEn='Busan', incDec='4982', isolClearCnt='0', isolIngCnt='0', localOccCnt='4975', overFlowCnt='7', qurRate='43180', stdDay='2022-09-14'), Row(deathCnt='27593', defCnt='24193038', gubun='합계', gubunCn='合计', gubunEn='Total', incDec='93981', isolClearCnt='0', isolIngCnt='0', localOccCnt='93667', overFlowCnt='314', qurRate='46850', stdDay='2022-09-14'), Row(deathCnt='1605', defCnt='1089380', gubun='경북', gubunCn='庆北', gubunEn='Gyeongsangbuk-do', incDec='4329', isolClearCnt='0', isolIngCnt='0', localOccCnt='4306', overFlowCnt='23', qurRate='41475', stdDay='2022-09-14'), Row(deathCnt='27593', defCnt='24193038', gubun='합계', gubunCn='合计', gubunEn='Total', incDec='93981', isolClearCnt='0', isolIngCnt='0', localOccCnt='93667', overFlowCnt='314', qurRate='46850', stdDay='2022-09-14'), Row(deathCnt='637', defCnt='715090', gubun='광주', gubunCn='光州', gubunEn='Gwangju', incDec='2532', isolClearCnt='0', isolIngCnt='0', localOccCnt='2519', overFlowCnt='13', qurRate='49604', stdDay='2022-09-14'), Row(deathCnt='1149', defCnt='974079', gubun='충남', gubunCn='忠南', gubunEn='Chungcheongnam-do', incDec='3725', isolClearCnt='0', isolIngCnt='0', localOccCnt='3699', overFlowCnt='26', qurRate='45963', stdDay='2022-09-14'), Row(deathCnt='6963', defCnt='6495551', gubun='경기', gubunCn='京畿', gubunEn='Gyeonggi-do', incDec='26133', isolClearCnt='0', isolIngCnt='0', localOccCnt='26110', overFlowCnt='23', qurRate='47883', stdDay='2022-09-14'), Row(deathCnt='400', defCnt='522861', gubun='울산', gubunCn='蔚山', gubunEn='Ulsan', incDec='1637', isolClearCnt='0', isolIngCnt='0', localOccCnt='1629', overFlowCnt='8', qurRate='46618', stdDay='2022-09-14'), Row(deathCnt='6963', defCnt='6495551', gubun='경기', gubunCn='京畿', gubunEn='Gyeonggi-do', incDec='26133', isolClearCnt='0', isolIngCnt='0', localOccCnt='26110', overFlowCnt='23', qurRate='47883', stdDay='2022-09-14'), Row(deathCnt='16', defCnt='13194', gubun='검역', gubunCn='隔離區', gubunEn='Lazaretto', incDec='19', isolClearCnt='0', isolIngCnt='0', localOccCnt='0', overFlowCnt='19', qurRate='-', stdDay='2022-09-14'), Row(deathCnt='400', defCnt='522861', gubun='울산', gubunCn='蔚山', gubunEn='Ulsan', incDec='1637', isolClearCnt='0', isolIngCnt='0', localOccCnt='1629', overFlowCnt='8', qurRate='46618', stdDay='2022-09-14'), Row(deathCnt='400', defCnt='522861', gubun='울산', gubunCn='蔚山', gubunEn='Ulsan', incDec='1637', isolClearCnt='0', isolIngCnt='0', localOccCnt='1629', overFlowCnt='8', qurRate='46618', stdDay='2022-09-14'), Row(deathCnt='1605', defCnt='1089380', gubun='경북', gubunCn='庆北', gubunEn='Gyeongsangbuk-do', incDec='4329', isolClearCnt='0', isolIngCnt='0', localOccCnt='4306', overFlowCnt='23', qurRate='41475', stdDay='2022-09-14'), Row(deathCnt='655', defCnt='806148', gubun='전남', gubunCn='全南', gubunEn='Jeollanam-do', incDec='2744', isolClearCnt='0', isolIngCnt='0', localOccCnt='2739', overFlowCnt='5', qurRate='43984', stdDay='2022-09-14'), Row(deathCnt='43', defCnt='189344', gubun='세종', gubunCn='世宗', gubunEn='Sejong', incDec='844', isolClearCnt='0', isolIngCnt='0', localOccCnt='838', overFlowCnt='6', qurRate='50913', stdDay='2022-09-14'), Row(deathCnt='5368', defCnt='4723634', gubun='서울', gubunCn='首尔', gubunEn='Seoul', incDec='17384', isolClearCnt='0', isolIngCnt='0', localOccCnt='17368', overFlowCnt='16', qurRate='49673', stdDay='2022-09-14'), Row(deathCnt='43', defCnt='189344', gubun='세종', gubunCn='世宗', gubunEn='Sejong', incDec='844', isolClearCnt='0', isolIngCnt='0', localOccCnt='838', overFlowCnt='6', qurRate='50913', stdDay='2022-09-14'), Row(deathCnt='967', defCnt='820183', gubun='전북', gubunCn='全北', gubunEn='Jeollabuk-do', incDec='3232', isolClearCnt='0', isolIngCnt='0', localOccCnt='3218', overFlowCnt='14', qurRate='45901', stdDay='2022-09-14'), Row(deathCnt='1017', defCnt='707376', gubun='강원', gubunCn='江原', gubunEn='Gangwon-do', incDec='2917', isolClearCnt='0', isolIngCnt='0', localOccCnt='2916', overFlowCnt='1', qurRate='45979', stdDay='2022-09-14'), Row(deathCnt='830', defCnt='755791', gubun='충북', gubunCn='忠北', gubunEn='Chungcheongbuk-do', incDec='3166', isolClearCnt='0', isolIngCnt='0', localOccCnt='3143', overFlowCnt='23', qurRate='47313', stdDay='2022-09-14'), Row(deathCnt='16', defCnt='13194', gubun='검역', gubunCn='隔離區', gubunEn='Lazaretto', incDec='19', isolClearCnt='0', isolIngCnt='0', localOccCnt='0', overFlowCnt='19', qurRate='-', stdDay='2022-09-14'), Row(deathCnt='43', defCnt='189344', gubun='세종', gubunCn='世宗', gubunEn='Sejong', incDec='844', isolClearCnt='0', isolIngCnt='0', localOccCnt='838', overFlowCnt='6', qurRate='50913', stdDay='2022-09-14'), Row(deathCnt='1502', defCnt='1392441', gubun='인천', gubunCn='仁川', gubunEn='Incheon', incDec='5548', isolClearCnt='0', isolIngCnt='0', localOccCnt='5476', overFlowCnt='72', qurRate='47227', stdDay='2022-09-14'), Row(deathCnt='216', defCnt='329390', gubun='제주', gubunCn='济州', gubunEn='Jeju', incDec='470', isolClearCnt='0', isolIngCnt='0', localOccCnt='466', overFlowCnt='4', qurRate='48672', stdDay='2022-09-14'), Row(deathCnt='1579', defCnt='1048878', gubun='대구', gubunCn='大邱', gubunEn='Daegu', incDec='5360', isolClearCnt='0', isolIngCnt='0', localOccCnt='5351', overFlowCnt='9', qurRate='43971', stdDay='2022-09-14'), Row(deathCnt='400', defCnt='522861', gubun='울산', gubunCn='蔚山', gubunEn='Ulsan', incDec='1637', isolClearCnt='0', isolIngCnt='0', localOccCnt='1629', overFlowCnt='8', qurRate='46618', stdDay='2022-09-14'), Row(deathCnt='1579', defCnt='1048878', gubun='대구', gubunCn='大邱', gubunEn='Daegu', incDec='5360', isolClearCnt='0', isolIngCnt='0', localOccCnt='5351', overFlowCnt='9', qurRate='43971', stdDay='2022-09-14'), Row(deathCnt='1149', defCnt='974079', gubun='충남', gubunCn='忠南', gubunEn='Chungcheongnam-do', incDec='3725', isolClearCnt='0', isolIngCnt='0', localOccCnt='3699', overFlowCnt='26', qurRate='45963', stdDay='2022-09-14'), Row(deathCnt='1149', defCnt='974079', gubun='충남', gubunCn='忠南', gubunEn='Chungcheongnam-do', incDec='3725', isolClearCnt='0', isolIngCnt='0', localOccCnt='3699', overFlowCnt='26', qurRate='45963', stdDay='2022-09-14'), Row(deathCnt='1149', defCnt='974079', gubun='충남', gubunCn='忠南', gubunEn='Chungcheongnam-do', incDec='3725', isolClearCnt='0', isolIngCnt='0', localOccCnt='3699', overFlowCnt='26', qurRate='45963', stdDay='2022-09-14'), Row(deathCnt='16', defCnt='13194', gubun='검역', gubunCn='隔離區', gubunEn='Lazaretto', incDec='19', isolClearCnt='0', isolIngCnt='0', localOccCnt='0', overFlowCnt='19', qurRate='-', stdDay='2022-09-14'), Row(deathCnt='637', defCnt='715090', gubun='광주', gubunCn='光州', gubunEn='Gwangju', incDec='2532', isolClearCnt='0', isolIngCnt='0', localOccCnt='2519', overFlowCnt='13', qurRate='49604', stdDay='2022-09-14'), Row(deathCnt='830', defCnt='755791', gubun='충북', gubunCn='忠北', gubunEn='Chungcheongbuk-do', incDec='3166', isolClearCnt='0', isolIngCnt='0', localOccCnt='3143', overFlowCnt='23', qurRate='47313', stdDay='2022-09-14'), Row(deathCnt='2406', defCnt='1446689', gubun='부산', gubunCn='釜山', gubunEn='Busan', incDec='4982', isolClearCnt='0', isolIngCnt='0', localOccCnt='4975', overFlowCnt='7', qurRate='43180', stdDay='2022-09-14'), Row(deathCnt='655', defCnt='806148', gubun='전남', gubunCn='全南', gubunEn='Jeollanam-do', incDec='2744', isolClearCnt='0', isolIngCnt='0', localOccCnt='2739', overFlowCnt='5', qurRate='43984', stdDay='2022-09-14'), Row(deathCnt='775', defCnt='701532', gubun='대전', gubunCn='大田', gubunEn='Daejeon', incDec='3075', isolClearCnt='0', isolIngCnt='0', localOccCnt='3047', overFlowCnt='28', qurRate='48307', stdDay='2022-09-14'), Row(deathCnt='655', defCnt='806148', gubun='전남', gubunCn='全南', gubunEn='Jeollanam-do', incDec='2744', isolClearCnt='0', isolIngCnt='0', localOccCnt='2739', overFlowCnt='5', qurRate='43984', stdDay='2022-09-14'), Row(deathCnt='5368', defCnt='4723634', gubun='서울', gubunCn='首尔', gubunEn='Seoul', incDec='17384', isolClearCnt='0', isolIngCnt='0', localOccCnt='17368', overFlowCnt='16', qurRate='49673', stdDay='2022-09-14'), Row(deathCnt='830', defCnt='755791', gubun='충북', gubunCn='忠北', gubunEn='Chungcheongbuk-do', incDec='3166', isolClearCnt='0', isolIngCnt='0', localOccCnt='3143', overFlowCnt='23', qurRate='47313', stdDay='2022-09-14'), Row(deathCnt='775', defCnt='701532', gubun='대전', gubunCn='大田', gubunEn='Daejeon', incDec='3075', isolClearCnt='0', isolIngCnt='0', localOccCnt='3047', overFlowCnt='28', qurRate='48307', stdDay='2022-09-14'), Row(deathCnt='1502', defCnt='1392441', gubun='인천', gubunCn='仁川', gubunEn='Incheon', incDec='5548', isolClearCnt='0', isolIngCnt='0', localOccCnt='5476', overFlowCnt='72', qurRate='47227', stdDay='2022-09-14'), Row(deathCnt='16', defCnt='13194', gubun='검역', gubunCn='隔離區', gubunEn='Lazaretto', incDec='19', isolClearCnt='0', isolIngCnt='0', localOccCnt='0', overFlowCnt='19', qurRate='-', stdDay='2022-09-14'), Row(deathCnt='775', defCnt='701532', gubun='대전', gubunCn='大田', gubunEn='Daejeon', incDec='3075', isolClearCnt='0', isolIngCnt='0', localOccCnt='3047', overFlowCnt='28', qurRate='48307', stdDay='2022-09-14'), Row(deathCnt='216', defCnt='329390', gubun='제주', gubunCn='济州', gubunEn='Jeju', incDec='470', isolClearCnt='0', isolIngCnt='0', localOccCnt='466', overFlowCnt='4', qurRate='48672', stdDay='2022-09-14'), Row(deathCnt='1465', defCnt='1461477', gubun='경남', gubunCn='庆南', gubunEn='Gyeongsangnam-do', incDec='5884', isolClearCnt='0', isolIngCnt='0', localOccCnt='5867', overFlowCnt='17', qurRate='44098', stdDay='2022-09-14'), Row(deathCnt='43', defCnt='189344', gubun='세종', gubunCn='世宗', gubunEn='Sejong', incDec='844', isolClearCnt='0', isolIngCnt='0', localOccCnt='838', overFlowCnt='6', qurRate='50913', stdDay='2022-09-14'), Row(deathCnt='1605', defCnt='1089380', gubun='경북', gubunCn='庆北', gubunEn='Gyeongsangbuk-do', incDec='4329', isolClearCnt='0', isolIngCnt='0', localOccCnt='4306', overFlowCnt='23', qurRate='41475', stdDay='2022-09-14'), Row(deathCnt='216', defCnt='329390', gubun='제주', gubunCn='济州', gubunEn='Jeju', incDec='470', isolClearCnt='0', isolIngCnt='0', localOccCnt='466', overFlowCnt='4', qurRate='48672', stdDay='2022-09-14'), Row(deathCnt='5368', defCnt='4723634', gubun='서울', gubunCn='首尔', gubunEn='Seoul', incDec='17384', isolClearCnt='0', isolIngCnt='0', localOccCnt='17368', overFlowCnt='16', qurRate='49673', stdDay='2022-09-14'), Row(deathCnt='967', defCnt='820183', gubun='전북', gubunCn='全北', gubunEn='Jeollabuk-do', incDec='3232', isolClearCnt='0', isolIngCnt='0', localOccCnt='3218', overFlowCnt='14', qurRate='45901', stdDay='2022-09-14'), Row(deathCnt='27593', defCnt='24193038', gubun='합계', gubunCn='合计', gubunEn='Total', incDec='93981', isolClearCnt='0', isolIngCnt='0', localOccCnt='93667', overFlowCnt='314', qurRate='46850', stdDay='2022-09-14'), Row(deathCnt='967', defCnt='820183', gubun='전북', gubunCn='全北', gubunEn='Jeollabuk-do', incDec='3232', isolClearCnt='0', isolIngCnt='0', localOccCnt='3218', overFlowCnt='14', qurRate='45901', stdDay='2022-09-14'), Row(deathCnt='5368', defCnt='4723634', gubun='서울', gubunCn='首尔', gubunEn='Seoul', incDec='17384', isolClearCnt='0', isolIngCnt='0', localOccCnt='17368', overFlowCnt='16', qurRate='49673', stdDay='2022-09-14'), Row(deathCnt='216', defCnt='329390', gubun='제주', gubunCn='济州', gubunEn='Jeju', incDec='470', isolClearCnt='0', isolIngCnt='0', localOccCnt='466', overFlowCnt='4', qurRate='48672', stdDay='2022-09-14'), Row(deathCnt='1017', defCnt='707376', gubun='강원', gubunCn='江原', gubunEn='Gangwon-do', incDec='2917', isolClearCnt='0', isolIngCnt='0', localOccCnt='2916', overFlowCnt='1', qurRate='45979', stdDay='2022-09-14'), Row(deathCnt='1502', defCnt='1392441', gubun='인천', gubunCn='仁川', gubunEn='Incheon', incDec='5548', isolClearCnt='0', isolIngCnt='0', localOccCnt='5476', overFlowCnt='72', qurRate='47227', stdDay='2022-09-14'), Row(deathCnt='1465', defCnt='1461477', gubun='경남', gubunCn='庆南', gubunEn='Gyeongsangnam-do', incDec='5884', isolClearCnt='0', isolIngCnt='0', localOccCnt='5867', overFlowCnt='17', qurRate='44098', stdDay='2022-09-14'), Row(deathCnt='2406', defCnt='1446689', gubun='부산', gubunCn='釜山', gubunEn='Busan', incDec='4982', isolClearCnt='0', isolIngCnt='0', localOccCnt='4975', overFlowCnt='7', qurRate='43180', stdDay='2022-09-14'), Row(deathCnt='27593', defCnt='24193038', gubun='합계', gubunCn='合计', gubunEn='Total', incDec='93981', isolClearCnt='0', isolIngCnt='0', localOccCnt='93667', overFlowCnt='314', qurRate='46850', stdDay='2022-09-14'), Row(deathCnt='830', defCnt='755791', gubun='충북', gubunCn='忠北', gubunEn='Chungcheongbuk-do', incDec='3166', isolClearCnt='0', isolIngCnt='0', localOccCnt='3143', overFlowCnt='23', qurRate='47313', stdDay='2022-09-14'), Row(deathCnt='1579', defCnt='1048878', gubun='대구', gubunCn='大邱', gubunEn='Daegu', incDec='5360', isolClearCnt='0', isolIngCnt='0', localOccCnt='5351', overFlowCnt='9', qurRate='43971', stdDay='2022-09-14'), Row(deathCnt='1017', defCnt='707376', gubun='강원', gubunCn='江原', gubunEn='Gangwon-do', incDec='2917', isolClearCnt='0', isolIngCnt='0', localOccCnt='2916', overFlowCnt='1', qurRate='45979', stdDay='2022-09-14'), Row(deathCnt='775', defCnt='701532', gubun='대전', gubunCn='大田', gubunEn='Daejeon', incDec='3075', isolClearCnt='0', isolIngCnt='0', localOccCnt='3047', overFlowCnt='28', qurRate='48307', stdDay='2022-09-14')])"
      ]
     },
     "execution_count": 15,
     "metadata": {},
     "output_type": "execute_result"
    }
   ],
   "source": [
    "# 첫번째 컬럼의 값에 row가 있음\n",
    "tmp.select('items').first()"
   ]
  },
  {
   "cell_type": "code",
   "execution_count": 12,
   "metadata": {},
   "outputs": [
    {
     "name": "stdout",
     "output_type": "stream",
     "text": [
      "+--------+-------+-----+-------+----------------+------+------------+----------+-----------+-----------+-------+----------+\n",
      "|deathCnt| defCnt|gubun|gubunCn|         gubunEn|incDec|isolClearCnt|isolIngCnt|localOccCnt|overFlowCnt|qurRate|    stdDay|\n",
      "+--------+-------+-----+-------+----------------+------+------------+----------+-----------+-----------+-------+----------+\n",
      "|    1465|1461477| 경남|   庆南|Gyeongsangnam-do|  5884|           0|         0|       5867|         17|  44098|2022-09-14|\n",
      "|     637| 715090| 광주|   光州|         Gwangju|  2532|           0|         0|       2519|         13|  49604|2022-09-14|\n",
      "|    6963|6495551| 경기|   京畿|     Gyeonggi-do| 26133|           0|         0|      26110|         23|  47883|2022-09-14|\n",
      "+--------+-------+-----+-------+----------------+------+------------+----------+-----------+-----------+-------+----------+\n",
      "only showing top 3 rows\n",
      "\n",
      "+----+-------+\n",
      "| loc|qurRate|\n",
      "+----+-------+\n",
      "|경남|  44098|\n",
      "|광주|  49604|\n",
      "|경기|  47883|\n",
      "+----+-------+\n",
      "only showing top 3 rows\n",
      "\n"
     ]
    },
    {
     "name": "stderr",
     "output_type": "stream",
     "text": [
      "\r",
      "[Stage 17:=============================>                            (1 + 1) / 2]\r"
     ]
    },
    {
     "name": "stdout",
     "output_type": "stream",
     "text": [
      "+----+------------+-------+\n",
      "| loc|popu_density|qurRate|\n",
      "+----+------------+-------+\n",
      "|강원|          93|  45979|\n",
      "|경기|        1366|  47883|\n",
      "|경남|         321|  44098|\n",
      "|경북|         141|  41475|\n",
      "|광주|        2920|  49604|\n",
      "|대구|        2733|  43971|\n",
      "|대전|        2722|  48307|\n",
      "|부산|        4411|  43180|\n",
      "|서울|       16093|  49673|\n",
      "|세종|         811|  50913|\n",
      "|울산|        1072|  46618|\n",
      "|인천|        2831|  47227|\n",
      "|전남|         152|  43984|\n",
      "|전북|         226|  45901|\n",
      "|제주|         378|  48672|\n",
      "|충남|         265|  45963|\n",
      "|충북|         221|  47313|\n",
      "+----+------------+-------+\n",
      "\n"
     ]
    },
    {
     "name": "stderr",
     "output_type": "stream",
     "text": [
      "\r",
      "                                                                                \r"
     ]
    }
   ],
   "source": [
    "# 지역명과, 10만명 당 감염 현황\n",
    "tmp2 = tmp.select('items').first()\n",
    "co_patient = spark.createDataFrame(tmp2['items'])\n",
    "co_patient.show(3)\n",
    "\n",
    "tmp3 = co_patient.select(co_patient.gubun.alias('loc'), co_patient.qurRate)\n",
    "tmp3.show(3)\n",
    "co_rate = area_popu.join(tmp3, on='loc').distinct().orderBy(col('loc'))\n",
    "co_rate.show()\n",
    "\n"
   ]
  },
  {
   "cell_type": "code",
   "execution_count": 16,
   "metadata": {},
   "outputs": [
    {
     "data": {
      "text/plain": [
       "<AxesSubplot:xlabel='popu_density', ylabel='qurRate'>"
      ]
     },
     "execution_count": 16,
     "metadata": {},
     "output_type": "execute_result"
    },
    {
     "name": "stderr",
     "output_type": "stream",
     "text": [
      "findfont: Font family ['NanumGothic'] not found. Falling back to DejaVu Sans.\n"
     ]
    },
    {
     "data": {
      "image/png": "[encoded data removed]",
      "text/plain": [
       "<Figure size 600x600 with 1 Axes>"
      ]
     },
     "metadata": {},
     "output_type": "display_data"
    }
   ],
   "source": [
    "pd_co = co_rate.toPandas()\n",
    "pd_co['qurRate'] = pd_co['qurRate'].astype(int)\n",
    "# pd_co.plot(kind='scatter'\n",
    "#            ,x='popu_density'\n",
    "#            ,y='qurRate'\n",
    "#            ,ylim=(30000,50000)\n",
    "#            ,figsize=(6, 6)\n",
    "#           )\n"
   ]
  },
  {
   "cell_type": "markdown",
   "metadata": {},
   "source": [
    "### 2.  4차 예방접종 완료자와 코로나 확진자 수의 상관관계를 구해보자"
   ]
  },
  {
   "cell_type": "code",
   "execution_count": 27,
   "metadata": {},
   "outputs": [
    {
     "name": "stdout",
     "output_type": "stream",
     "text": [
      "+----+-------+---------+------+\n",
      "| loc|     v4|    total|v_rate|\n",
      "+----+-------+---------+------+\n",
      "|서울|1226070| 9736027 |    13|\n",
      "|부산| 488630| 3396109 |    15|\n",
      "|대구| 259429| 2412642 |    11|\n",
      "|인천| 394343| 3014739 |    14|\n",
      "|광주| 233610| 1462545 |    16|\n",
      "|대전| 193191| 1469543 |    14|\n",
      "|울산| 124886| 1138419 |    11|\n",
      "|세종|  34585|  376779 |    10|\n",
      "|경기|1680362|13925862 |    13|\n",
      "|강원| 269222| 1555876 |    18|\n",
      "|충북| 277332| 1633472 |    17|\n",
      "|충남| 365655| 2181835 |    17|\n",
      "|전북| 370187| 1817186 |    21|\n",
      "|전남| 444061| 1865459 |    24|\n",
      "|경북| 394769| 2677709 |    15|\n",
      "|경남| 483703| 3377331 |    15|\n",
      "|제주|  92009|  697476 |    14|\n",
      "+----+-------+---------+------+\n",
      "\n",
      "+----+------+-------+\n",
      "| loc|v_rate|qurRate|\n",
      "+----+------+-------+\n",
      "|강원|    18|  45979|\n",
      "|경기|    13|  47883|\n",
      "|경남|    15|  44098|\n",
      "|경북|    15|  41475|\n",
      "|광주|    16|  49604|\n",
      "|대구|    11|  43971|\n",
      "|대전|    14|  48307|\n",
      "|부산|    15|  43180|\n",
      "|서울|    13|  49673|\n",
      "|세종|    10|  50913|\n",
      "|울산|    11|  46618|\n",
      "|인천|    14|  47227|\n",
      "|전남|    24|  43984|\n",
      "|전북|    21|  45901|\n",
      "|제주|    14|  48672|\n",
      "|충남|    17|  45963|\n",
      "|충북|    17|  47313|\n",
      "+----+------+-------+\n",
      "\n"
     ]
    }
   ],
   "source": [
    "file_name = '/corona_data/vaccine/corona_vaccine_' + cal_std_day(1) + '.json'\n",
    "vaccine = spark.read.json(file_name)\n",
    "#vaccine.show(3)\n",
    "vaccine_df = spark.createDataFrame(vaccine.select('data').first()['data'])\n",
    "#vaccine_df.show()\n",
    "\n",
    "pop_vaccine = vaccine_df.join(popu, on='loc').select('loc', col('v4'), col('total'),\n",
    "                                                     ceil(\n",
    "                                                         (col('v4')/col('total')) * 100\n",
    "                                                     ).alias('v_rate'))\n",
    "pop_vaccine.show(100)\n",
    "tmp3 = co_patient.select(co_patient.gubun.alias('loc'), co_patient.qurRate)\n",
    "\n",
    "co_vaccine_df = pop_vaccine.join(tmp3, on ='loc')\n",
    "co_vaccine_df = co_vaccine_df.select('loc','v_rate','qurRate').distinct()\n",
    "co_vaccine_df.show()"
   ]
  },
  {
   "cell_type": "code",
   "execution_count": null,
   "metadata": {},
   "outputs": [],
   "source": []
  },
  {
   "cell_type": "markdown",
   "metadata": {},
   "source": [
    "### 3. 다중이용시설과 코로나 확진자 수의 상관관계"
   ]
  },
  {
   "cell_type": "code",
   "execution_count": 90,
   "metadata": {
    "scrolled": true
   },
   "outputs": [],
   "source": []
  },
  {
   "cell_type": "code",
   "execution_count": 92,
   "metadata": {},
   "outputs": [
    {
     "name": "stdout",
     "output_type": "stream",
     "text": [
      "MapPartitionsRDD[924] at javaToPython at <unknown>:0\n"
     ]
    },
    {
     "name": "stderr",
     "output_type": "stream",
     "text": [
      "                                                                                \r"
     ]
    },
    {
     "name": "stdout",
     "output_type": "stream",
     "text": [
      "+----+--------+-------+\n",
      "| loc|fac_popu|qurRate|\n",
      "+----+--------+-------+\n",
      "|경북|      36|  34789|\n",
      "|대전|      53|  41017|\n",
      "|전북|      42|  38925|\n",
      "|충북|      38|  40338|\n",
      "|울산|      38|  40562|\n",
      "|경남|      41|  37690|\n",
      "|제주|      45|  42605|\n",
      "|충남|      38|  39130|\n",
      "|전남|      45|  36958|\n",
      "|인천|      46|  41435|\n",
      "|부산|      44|  37579|\n",
      "|대구|      43|  36677|\n",
      "|경기|      46|  41938|\n",
      "|서울|      54|  44168|\n",
      "|광주|      51|  42137|\n",
      "|세종|      65|  43412|\n",
      "|강원|      38|  39566|\n",
      "+----+--------+-------+\n",
      "\n"
     ]
    }
   ],
   "source": []
  },
  {
   "cell_type": "code",
   "execution_count": null,
   "metadata": {},
   "outputs": [],
   "source": []
  },
  {
   "cell_type": "markdown",
   "metadata": {},
   "source": [
    "### 4. 요일별 코로나 확진자 수를 구해보자"
   ]
  },
  {
   "cell_type": "code",
   "execution_count": 110,
   "metadata": {
    "scrolled": true
   },
   "outputs": [
    {
     "name": "stderr",
     "output_type": "stream",
     "text": [
      "                                                                                \r"
     ]
    }
   ],
   "source": []
  },
  {
   "cell_type": "code",
   "execution_count": 138,
   "metadata": {
    "scrolled": false
   },
   "outputs": [
    {
     "name": "stdout",
     "output_type": "stream",
     "text": [
      "+-----------+---------+\n",
      "|day_of_week| patients|\n",
      "+-----------+---------+\n",
      "|          1|3730348.0|\n",
      "|          2|2381642.0|\n",
      "|          3|5038466.0|\n",
      "|          4|6983162.0|\n",
      "|          5|5646140.0|\n",
      "|          6|4312480.0|\n",
      "|          7|4161302.0|\n",
      "+-----------+---------+\n",
      "\n"
     ]
    }
   ],
   "source": []
  },
  {
   "cell_type": "code",
   "execution_count": null,
   "metadata": {},
   "outputs": [],
   "source": []
  }
 ],
 "metadata": {
  "kernelspec": {
   "display_name": "Python 3 (ipykernel)",
   "language": "python",
   "name": "python3"
  },
  "language_info": {
   "codemirror_mode": {
    "name": "ipython",
    "version": 3
   },
   "file_extension": ".py",
   "mimetype": "text/x-python",
   "name": "python",
   "nbconvert_exporter": "python",
   "pygments_lexer": "ipython3",
   "version": "3.8.10"
  }
 },
 "nbformat": 4,
 "nbformat_minor": 5
}
