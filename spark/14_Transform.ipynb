{
 "cells": [
  {
   "cell_type": "code",
   "execution_count": 1,
   "metadata": {},
   "outputs": [],
   "source": [
    "from IPython.core.interactiveshell import InteractiveShell\n",
    "InteractiveShell.ast_node_interactivity = \"all\""
   ]
  },
  {
   "cell_type": "code",
   "execution_count": 2,
   "metadata": {},
   "outputs": [],
   "source": [
    "# matplotlib 한글 꺠짐 방지\n",
    "# apt-get update\n",
    "# apt-get install fonts-nanum* \n",
    "# apt-get install fontconfig\n",
    "# fc-cache -fv  # font 캐시 날리기\n",
    "# rm -rf /home/hy1/.cache/matplotlib/  #matplotliob 폰트 캐시 날리기\n",
    "# !pip install matplotlib"
   ]
  },
  {
   "cell_type": "code",
   "execution_count": 3,
   "metadata": {},
   "outputs": [
    {
     "name": "stderr",
     "output_type": "stream",
     "text": [
      "<jemalloc>: MADV_DONTNEED does not work (memset will be used instead)\n",
      "<jemalloc>: (This is the expected behaviour if you are running under QEMU)\n"
     ]
    }
   ],
   "source": [
    "from datetime import date, datetime\n",
    "from pyspark.sql.types import *\n",
    "from pyspark.sql.functions import *\n",
    "import datetime as dt\n",
    "import pandas as pd\n",
    "import matplotlib.pyplot as plt #그래프 패키지 모듈 등록\n",
    "%matplotlib inline \n"
   ]
  },
  {
   "cell_type": "code",
   "execution_count": 4,
   "metadata": {},
   "outputs": [],
   "source": [
    "def cal_std_day(befor_day):   \n",
    "    x = dt.datetime.now() - dt.timedelta(befor_day)\n",
    "    year = x.year\n",
    "    month = x.month if x.month >= 10 else '0'+ str(x.month)\n",
    "    day = x.day if x.day >= 10 else '0'+ str(x.day)  \n",
    "    return str(year)+ '-' +str(month)+ '-' +str(day)"
   ]
  },
  {
   "cell_type": "code",
   "execution_count": 5,
   "metadata": {},
   "outputs": [],
   "source": [
    "import platform\n",
    "\n",
    "from matplotlib import font_manager, rc\n",
    "plt.rcParams['axes.unicode_minus'] = False\n",
    "\n",
    "if platform.system() == 'Darwin':  # 맥OS \n",
    "    rc('font', family='AppleGothic')\n",
    "elif platform.system() == 'Windows':  # 윈도우\n",
    "    path = \"c:/Windows/Fonts/malgun.ttf\"\n",
    "    font_name = font_manager.FontProperties(fname=path).get_name()\n",
    "    rc('font', family=font_name)\n",
    "else:\n",
    "    rc('font', family='NanumGothic')"
   ]
  },
  {
   "cell_type": "markdown",
   "metadata": {},
   "source": [
    "## Transform"
   ]
  },
  {
   "cell_type": "markdown",
   "metadata": {},
   "source": [
    "### 1. 지역별 단위면적(km)당 인구수와 코로나 확진자 수의 상관관계를 구해보자"
   ]
  },
  {
   "cell_type": "code",
   "execution_count": 6,
   "metadata": {},
   "outputs": [
    {
     "ename": "NameError",
     "evalue": "name 'spark' is not defined",
     "output_type": "error",
     "traceback": [
      "\u001b[0;31m---------------------------------------------------------------------------\u001b[0m",
      "\u001b[0;31mNameError\u001b[0m                                 Traceback (most recent call last)",
      "Input \u001b[0;32mIn [6]\u001b[0m, in \u001b[0;36m<cell line: 2>\u001b[0;34m()\u001b[0m\n\u001b[1;32m      1\u001b[0m \u001b[38;5;66;03m##면적 인구정보\u001b[39;00m\n\u001b[0;32m----> 2\u001b[0m area \u001b[38;5;241m=\u001b[39m\u001b[43mspark\u001b[49m\u001b[38;5;241m.\u001b[39mread\u001b[38;5;241m.\u001b[39mcsv(\u001b[38;5;124m'\u001b[39m\u001b[38;5;124m/corona_data/loc/sido_area.csv\u001b[39m\u001b[38;5;124m'\u001b[39m, encoding\u001b[38;5;241m=\u001b[39m\u001b[38;5;124m'\u001b[39m\u001b[38;5;124mCP949\u001b[39m\u001b[38;5;124m'\u001b[39m, header\u001b[38;5;241m=\u001b[39m\u001b[38;5;28;01mTrue\u001b[39;00m)\n\u001b[1;32m      4\u001b[0m popu \u001b[38;5;241m=\u001b[39m spark\u001b[38;5;241m.\u001b[39mread\u001b[38;5;241m.\u001b[39mcsv(\u001b[38;5;124m'\u001b[39m\u001b[38;5;124m/corona_data/loc/sido_population.csv\u001b[39m\u001b[38;5;124m'\u001b[39m, encoding\u001b[38;5;241m=\u001b[39m\u001b[38;5;124m'\u001b[39m\u001b[38;5;124mCP949\u001b[39m\u001b[38;5;124m'\u001b[39m, header\u001b[38;5;241m=\u001b[39m\u001b[38;5;28;01mTrue\u001b[39;00m)\n",
      "\u001b[0;31mNameError\u001b[0m: name 'spark' is not defined"
     ]
    }
   ],
   "source": [
    "##면적 인구정보\n",
    "area = spark.read.csv('/corona_data/loc/sido_area.csv', encoding='CP949', header=True)\n",
    "popu = spark.read.csv('/corona_data/loc/sido_population.csv', encoding='CP949', header=True)\n",
    "\n",
    "area.show(3)\n",
    "popu.show(3)"
   ]
  },
  {
   "cell_type": "code",
   "execution_count": 7,
   "metadata": {},
   "outputs": [
    {
     "data": {
      "text/plain": [
       "''"
      ]
     },
     "execution_count": 7,
     "metadata": {},
     "output_type": "execute_result"
    }
   ],
   "source": [
    "sc"
   ]
  },
  {
   "cell_type": "code",
   "execution_count": 9,
   "metadata": {},
   "outputs": [
    {
     "ename": "NameError",
     "evalue": "name 'area' is not defined",
     "output_type": "error",
     "traceback": [
      "\u001b[0;31m---------------------------------------------------------------------------\u001b[0m",
      "\u001b[0;31mNameError\u001b[0m                                 Traceback (most recent call last)",
      "Input \u001b[0;32mIn [9]\u001b[0m, in \u001b[0;36m<cell line: 1>\u001b[0;34m()\u001b[0m\n\u001b[0;32m----> 1\u001b[0m area_popu \u001b[38;5;241m=\u001b[39m \u001b[43marea\u001b[49m\u001b[38;5;241m.\u001b[39mjoin(popu, on\u001b[38;5;241m=\u001b[39m\u001b[38;5;124m'\u001b[39m\u001b[38;5;124mloc\u001b[39m\u001b[38;5;124m'\u001b[39m)\n\u001b[1;32m      3\u001b[0m area_popu \u001b[38;5;241m=\u001b[39m area_popu\u001b[38;5;241m.\u001b[39mselect(arae_pop\u001b[38;5;241m.\u001b[39mloc,(area_popu\u001b[38;5;241m.\u001b[39mtotal\u001b[38;5;241m/\u001b[39marea_popu\u001b[38;5;241m.\u001b[39marea)\u001b[38;5;241m.\u001b[39malias(\u001b[38;5;124m'\u001b[39m\u001b[38;5;124mpopu_density\u001b[39m\u001b[38;5;124m'\u001b[39m))\n\u001b[1;32m      5\u001b[0m area_popu\n",
      "\u001b[0;31mNameError\u001b[0m: name 'area' is not defined"
     ]
    }
   ],
   "source": [
    "area_popu = area.join(popu, on='loc')\n",
    "#area_popu.show()\n",
    "area_popu = area_popu.select(area_popu.loc, ceil((area_popu.total/area_popu.area)).alias('popu_density'))\n",
    "area_popu.show()"
   ]
  },
  {
   "cell_type": "code",
   "execution_count": 10,
   "metadata": {
    "scrolled": false
   },
   "outputs": [],
   "source": [
    "# 지역명과, 10만명 당 감염 현황\n",
    "tmp2 = tmp.select('items').first()\n",
    "co_patient = spark.createDataFrame(tmp2['items'])\n",
    "#co_patient.show(3)\n",
    "\n",
    "# tmp3 = co_patient.select(co_patient.gubun.alias('loc'), co_patient.qurRate)\n",
    "# tmp3.show(3)\n",
    "# co_rate = area_popu.join(tmp3, on='loc').distinct().orderBy(col('loc'))\n",
    "# co_rate.show()"
   ]
  },
  {
   "cell_type": "code",
   "execution_count": 85,
   "metadata": {},
   "outputs": [
    {
     "name": "stderr",
     "output_type": "stream",
     "text": [
      "[Stage 147:>                                                        (0 + 1) / 1]\r"
     ]
    },
    {
     "name": "stdout",
     "output_type": "stream",
     "text": [
      "+----+------------+-------+\n",
      "| loc|popu_density|qurRate|\n",
      "+----+------------+-------+\n",
      "|강원|          93|  39566|\n",
      "|경기|        1366|  41938|\n",
      "|경남|         321|  37690|\n",
      "|경북|         141|  34789|\n",
      "|광주|        2920|  42137|\n",
      "|대구|        2733|  36677|\n",
      "|대전|        2722|  41017|\n",
      "|부산|        4411|  37579|\n",
      "|서울|       16093|  44168|\n",
      "|세종|         811|  43412|\n",
      "|울산|        1072|  40562|\n",
      "|인천|        2831|  41435|\n",
      "|전남|         152|  36958|\n",
      "|전북|         226|  38925|\n",
      "|제주|         378|  42605|\n",
      "|충남|         265|  39130|\n",
      "|충북|         221|  40338|\n",
      "+----+------------+-------+\n",
      "\n"
     ]
    },
    {
     "name": "stderr",
     "output_type": "stream",
     "text": [
      "\r\n",
      "                                                                                \r"
     ]
    }
   ],
   "source": [
    "# 시각화\n",
    "pd_co = co_rate.toPandas()\n",
    "pd_co['qurRate'] = pd_co['qurRate'].astype(int)\n",
    "pd_co.plot(kind='scatter'\n",
    "           ,x='popu_density'\n",
    "           ,y='qurRate'\n",
    "           ,ylim=(30000,50000)\n",
    "           ,figsize=(6, 6)\n",
    "          )"
   ]
  },
  {
   "cell_type": "code",
   "execution_count": null,
   "metadata": {},
   "outputs": [],
   "source": []
  },
  {
   "cell_type": "markdown",
   "metadata": {},
   "source": [
    "### 2.  4차 예방접종 완료자와 코로나 확진자 수의 상관관계를 구해보자"
   ]
  },
  {
   "cell_type": "code",
   "execution_count": 88,
   "metadata": {},
   "outputs": [
    {
     "name": "stderr",
     "output_type": "stream",
     "text": [
      "                                                                                \r"
     ]
    },
    {
     "name": "stdout",
     "output_type": "stream",
     "text": [
      "+----+------+-------+\n",
      "| loc|v_rate|qurRate|\n",
      "+----+------+-------+\n",
      "|서울|    11|  44168|\n",
      "|부산|    13|  37579|\n",
      "|대구|    10|  36677|\n",
      "|인천|    12|  41435|\n",
      "|광주|    15|  42137|\n",
      "|대전|    12|  41017|\n",
      "|울산|    10|  40562|\n",
      "|세종|     9|  43412|\n",
      "|경기|    11|  41938|\n",
      "|강원|    16|  39566|\n",
      "|충북|    16|  40338|\n",
      "|충남|    15|  39130|\n",
      "|전북|    19|  38925|\n",
      "|전남|    22|  36958|\n",
      "|경북|    13|  34789|\n",
      "|경남|    13|  37690|\n",
      "|제주|    12|  42605|\n",
      "+----+------+-------+\n",
      "\n"
     ]
    }
   ],
   "source": [
    "file_name = '/corona_data/vaccine/corona_vaccine_' + cal_std_day(1) + '.json'\n",
    "vaccine = spark.read.json(file_name)\n",
    "#vaccine.show(3)\n",
    "vaccine_df = spark.createDataFrame(vaccine.select('data').first()['data'])\n",
    "#vaccine_df.show()\n",
    "\n",
    "pop_vaccine = vaccine_df.join(popu, on='loc').select('loc', col('v4'), col('total'),\n",
    "                                                     ceil(\n",
    "                                                         (col('v4')/col('total')) * 100\n",
    "                                                     ).alias('v_rate'))\n",
    "#pop_vaccine.show(100)\n",
    "tmp3 = co_patient.select(co_patient.gubun.alias('loc'), co_patient.qurRate)\n",
    "co_vaccine_df = pop_vaccine.join(tmp3, on='loc')\n",
    "co_vaccine_df = co_vaccine_df.select('loc', 'v_rate', 'qurRate').distinct()\n",
    "co_vaccine_df.show(3)"
   ]
  },
  {
   "cell_type": "code",
   "execution_count": null,
   "metadata": {},
   "outputs": [],
   "source": [
    "pd_vac = co_vaccine_df.toPandas()\n",
    "\n",
    "pd_vac['qurRate'] = pd_vac['qurRate'].astype(int)\n",
    "pd_vac.plot(kind='scatter'\n",
    "           ,x='v_rate'\n",
    "           ,y='qurRate'\n",
    "           ,figsize=(7, 7)\n",
    "          )"
   ]
  },
  {
   "cell_type": "markdown",
   "metadata": {},
   "source": [
    "### 3. 다중이용시설과 코로나 확진자 수의 상관관계"
   ]
  },
  {
   "cell_type": "code",
   "execution_count": 90,
   "metadata": {
    "scrolled": true
   },
   "outputs": [],
   "source": [
    "\n",
    "facility = spark.read.csv('/corona_data/loc/전국다중이용시설.csv', encoding='CP949', header=True)\n",
    "facility.show(3)"
   ]
  },
  {
   "cell_type": "code",
   "execution_count": 92,
   "metadata": {},
   "outputs": [
    {
     "name": "stdout",
     "output_type": "stream",
     "text": [
      "MapPartitionsRDD[924] at javaToPython at <unknown>:0\n"
     ]
    },
    {
     "name": "stderr",
     "output_type": "stream",
     "text": [
      "                                                                                \r"
     ]
    },
    {
     "name": "stdout",
     "output_type": "stream",
     "text": [
      "+----+--------+-------+\n",
      "| loc|fac_popu|qurRate|\n",
      "+----+--------+-------+\n",
      "|경북|      36|  34789|\n",
      "|대전|      53|  41017|\n",
      "|전북|      42|  38925|\n",
      "|충북|      38|  40338|\n",
      "|울산|      38|  40562|\n",
      "|경남|      41|  37690|\n",
      "|제주|      45|  42605|\n",
      "|충남|      38|  39130|\n",
      "|전남|      45|  36958|\n",
      "|인천|      46|  41435|\n",
      "|부산|      44|  37579|\n",
      "|대구|      43|  36677|\n",
      "|경기|      46|  41938|\n",
      "|서울|      54|  44168|\n",
      "|광주|      51|  42137|\n",
      "|세종|      65|  43412|\n",
      "|강원|      38|  39566|\n",
      "+----+--------+-------+\n",
      "\n"
     ]
    }
   ],
   "source": [
    "fac_cnt = facility.groupBy(facility.광역.alias('loc')).agg(count('*').alias('fac_cnt'))\n",
    "tmp = popu.join(fac_cnt, on='loc')\n",
    "fac_popu = tmp.select('loc', ceil(tmp.fac_cnt/tmp.total*100000).alias('fac_popu'))\n",
    "\n",
    "tmp3 = co_patient.select(co_patient.gubun.alias('loc'), co_patient.qurRate)\n",
    "fac_rate = fac_popu.join(tmp3, on='loc').distinct()\n",
    "fac_rate.show()"
   ]
  },
  {
   "cell_type": "code",
   "execution_count": null,
   "metadata": {},
   "outputs": [],
   "source": [
    "pd_fac = fac_rate.toPandas()\n",
    "\n",
    "pd_fac['qurRate'] = pd_fac['qurRate'].astype(int)\n",
    "pd_fac.plot(kind='scatter'\n",
    "           ,x='fac_popu'\n",
    "           ,y='qurRate'\n",
    "           ,ylim=(40000,55000)\n",
    "           ,figsize=(6, 6) \n",
    "          )"
   ]
  },
  {
   "cell_type": "markdown",
   "metadata": {},
   "source": [
    "### 4. 요일별 코로나 확진자 수를 구해보자"
   ]
  },
  {
   "cell_type": "code",
   "execution_count": 110,
   "metadata": {
    "scrolled": true
   },
   "outputs": [
    {
     "name": "stderr",
     "output_type": "stream",
     "text": [
      "                                                                                \r"
     ]
    }
   ],
   "source": [
    "file_name = '/corona_data/patient/'\n",
    "tmp = spark.read.json(file_name, encoding='UTF-8')"
   ]
  },
  {
   "cell_type": "code",
   "execution_count": 138,
   "metadata": {
    "scrolled": false
   },
   "outputs": [
    {
     "name": "stdout",
     "output_type": "stream",
     "text": [
      "+-----------+---------+\n",
      "|day_of_week| patients|\n",
      "+-----------+---------+\n",
      "|          1|3730348.0|\n",
      "|          2|2381642.0|\n",
      "|          3|5038466.0|\n",
      "|          4|6983162.0|\n",
      "|          5|5646140.0|\n",
      "|          6|4312480.0|\n",
      "|          7|4161302.0|\n",
      "+-----------+---------+\n",
      "\n"
     ]
    }
   ],
   "source": [
    "data = []\n",
    "for r1 in tmp.select(tmp.items).toLocalIterator():\n",
    "    if not r1.items:\n",
    "        continue\n",
    "    for r2 in r1.items:\n",
    "        data.append(r2)\n",
    "\n",
    "patient_data = spark.createDataFrame(data)\n",
    "p = patient_data.withColumn('day_of_week', dayofweek(col('stdDay')))\n",
    "\n",
    "# localOccCnt : 당일 발생한 코로나확진자 수 - 해외유입수\n",
    "# 요일별 발생한 환자 수의 합을 구한 뒤 요일로 오름차순 정렬하시오\n",
    "p = p.groupBy(p.day_of_week).agg(sum(col('localOccCnt')).alias('patients')).sort(col('day_of_week'))\n",
    "p.show()"
   ]
  },
  {
   "cell_type": "code",
   "execution_count": null,
   "metadata": {},
   "outputs": [],
   "source": [
    "pd_week = p.toPandas()\n",
    "pd_week.plot(kind='bar', figsize=(6, 6))"
   ]
  },
  {
   "cell_type": "code",
   "execution_count": null,
   "id": "b5e48f27",
   "metadata": {},
   "outputs": [],
   "source": []
  }
 ],
 "metadata": {
  "kernelspec": {
   "display_name": "Python 3 (ipykernel)",
   "language": "python",
   "name": "python3"
  },
  "language_info": {
   "codemirror_mode": {
    "name": "ipython",
    "version": 3
   },
   "file_extension": ".py",
   "mimetype": "text/x-python",
   "name": "python",
   "nbconvert_exporter": "python",
   "pygments_lexer": "ipython3",
   "version": "3.8.10"
  }
 },
 "nbformat": 4,
 "nbformat_minor": 5
}
